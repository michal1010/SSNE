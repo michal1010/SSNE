{
  "cells": [
    {
      "cell_type": "code",
      "execution_count": 1,
      "metadata": {
        "colab": {
          "base_uri": "https://localhost:8080/"
        },
        "id": "igK4UIO7RCZq",
        "outputId": "b61f2af1-9f3d-4a39-bf7a-23c8f8aa2431"
      },
      "outputs": [
        {
          "name": "stderr",
          "output_type": "stream",
          "text": [
            "/tmp/ipykernel_208493/2475230352.py:11: DeprecationWarning: `set_matplotlib_formats` is deprecated since IPython 7.23, directly use `matplotlib_inline.backend_inline.set_matplotlib_formats()`\n",
            "  set_matplotlib_formats('svg', 'pdf') # For export\n"
          ]
        }
      ],
      "source": [
        "import os\n",
        "import json\n",
        "import math\n",
        "import numpy as np\n",
        "import pandas as pd\n",
        "\n",
        "## Imports for plotting\n",
        "import matplotlib.pyplot as plt\n",
        "%matplotlib inline\n",
        "from IPython.display import set_matplotlib_formats\n",
        "set_matplotlib_formats('svg', 'pdf') # For export\n",
        "from matplotlib.colors import to_rgb\n",
        "import matplotlib\n",
        "matplotlib.rcParams['lines.linewidth'] = 2.0\n",
        "import seaborn as sns\n",
        "sns.reset_orig()\n",
        "sns.set()\n",
        "\n",
        "\n",
        "## PyTorch\n",
        "import torch\n",
        "import torch.nn as nn\n",
        "import torch.nn.functional as F\n",
        "import torch.utils.data as data\n",
        "import torch.optim as optim\n",
        "# Torchvision\n",
        "import torchvision\n",
        "from torchvision.utils import save_image\n",
        "from torchvision.datasets import FashionMNIST\n",
        "from torchvision.transforms import v2\n",
        "from torchvision.datasets import ImageFolder\n",
        "from torch.nn.functional import one_hot\n",
        "\n",
        "from pytorch_fid import fid_score"
      ]
    },
    {
      "cell_type": "code",
      "execution_count": 2,
      "metadata": {
        "colab": {
          "base_uri": "https://localhost:8080/"
        },
        "id": "InKaM_zDRqeC",
        "outputId": "a1ec84ca-522a-4bdd-d90f-ce71e4e00b5f"
      },
      "outputs": [
        {
          "name": "stdout",
          "output_type": "stream",
          "text": [
            "Device: cpu\n"
          ]
        }
      ],
      "source": [
        "device = torch.device(\"cuda\") if torch.cuda.is_available() else torch.device(\"cpu\")\n",
        "print(\"Device:\", device)"
      ]
    },
    {
      "cell_type": "code",
      "execution_count": 3,
      "metadata": {
        "colab": {
          "base_uri": "https://localhost:8080/"
        },
        "id": "UQLFeVjWUfZ6",
        "outputId": "59a6d66f-065c-4132-f5a3-bf62873eb965"
      },
      "outputs": [
        {
          "name": "stderr",
          "output_type": "stream",
          "text": [
            "/home/michal/.local/lib/python3.10/site-packages/torchvision/transforms/v2/_deprecated.py:41: UserWarning: The transform `ToTensor()` is deprecated and will be removed in a future release. Instead, please use `v2.Compose([v2.ToImage(), v2.ToDtype(torch.float32, scale=True)])`.\n",
            "  warnings.warn(\n"
          ]
        }
      ],
      "source": [
        "transform = v2.Compose(\n",
        "    [\n",
        "     v2.ToTensor(),\n",
        "     v2.Normalize((0.5, 0.5, 0.5), (0.5, 0.5, 0.5)),\n",
        "    ])\n",
        "\n",
        "train_data = ImageFolder('./trafic_32', transform=transform)\n",
        "train_classes = train_data.classes\n",
        "train_classes = [name.lstrip('0') if name != '00000' else '0' for name in train_classes]"
      ]
    },
    {
      "cell_type": "code",
      "execution_count": 4,
      "metadata": {
        "id": "dg0xeIAj_y_f"
      },
      "outputs": [],
      "source": [
        "train_loader = data.DataLoader(train_data, batch_size=256, shuffle=True, drop_last=True, pin_memory=True, num_workers=4)"
      ]
    },
    {
      "cell_type": "code",
      "execution_count": 5,
      "metadata": {},
      "outputs": [
        {
          "data": {
            "text/plain": [
              "torch.Size([256, 3, 32, 32])"
            ]
          },
          "execution_count": 5,
          "metadata": {},
          "output_type": "execute_result"
        }
      ],
      "source": [
        "data, classes = next(iter(train_loader))\n",
        "data.size()"
      ]
    },
    {
      "cell_type": "markdown",
      "metadata": {
        "id": "Ma4TzFF4VQuc"
      },
      "source": [
        "## VAE"
      ]
    },
    {
      "cell_type": "code",
      "execution_count": 7,
      "metadata": {
        "id": "ImmRF3AGVURi"
      },
      "outputs": [],
      "source": [
        "class Encoder(nn.Module):\n",
        "    def __init__(self, input_dim, hidden_dim, latent_dim):\n",
        "        super(Encoder, self).__init__()\n",
        "\n",
        "        self.fc_1 = nn.Linear(input_dim, hidden_dim)\n",
        "        self.fc_2 = nn.Linear(hidden_dim, hidden_dim)\n",
        "        self.fc_mean  = nn.Linear(hidden_dim, latent_dim)\n",
        "        self.fc_var   = nn.Linear (hidden_dim, latent_dim)\n",
        "\n",
        "        self.LeakyReLU = nn.LeakyReLU(0.2)\n",
        "\n",
        "        self.training = True\n",
        "\n",
        "    def forward(self, x):\n",
        "        x = torch.flatten(x, 1)\n",
        "        x       = self.LeakyReLU(self.fc_1(x))\n",
        "        x       = self.LeakyReLU(self.fc_2(x))\n",
        "        mean     = self.fc_mean(x)\n",
        "        log_var  = self.fc_var(x)                      # encoder produces mean and log of variance\n",
        "                                                       #             (i.e., parateters of simple tractable normal distribution \"q\"\n",
        "\n",
        "        return mean, log_var"
      ]
    },
    {
      "cell_type": "code",
      "execution_count": 8,
      "metadata": {
        "id": "hi3siSG8VX2a"
      },
      "outputs": [],
      "source": [
        "class Decoder(nn.Module):\n",
        "    def __init__(self, latent_dim, hidden_dim, output_dim):\n",
        "        super(Decoder, self).__init__()\n",
        "        self.fc_1 = nn.Linear(latent_dim, hidden_dim)\n",
        "        self.fc_2 = nn.Linear(hidden_dim, hidden_dim)\n",
        "        self.fc_3 = nn.Linear(hidden_dim, output_dim)\n",
        "\n",
        "        self.LeakyReLU = nn.LeakyReLU(0.2)\n",
        "\n",
        "    def forward(self, x):\n",
        "        h     = self.LeakyReLU(self.fc_1(x))\n",
        "        h     = self.LeakyReLU(self.fc_2(h))\n",
        "\n",
        "        x_hat = torch.sigmoid(self.fc_3(h))\n",
        "        x_hat = x_hat.view([-1, 3, 32, 32])\n",
        "        return x_hat"
      ]
    },
    {
      "cell_type": "code",
      "execution_count": 9,
      "metadata": {
        "id": "w6-toSjsVawn"
      },
      "outputs": [],
      "source": [
        "class VAE(nn.Module):\n",
        "    def __init__(self, x_dim, hidden_dim, latent_dim):\n",
        "        super(VAE, self).__init__()\n",
        "        self.latent_dim = latent_dim\n",
        "        self.encoder = Encoder(input_dim=x_dim, hidden_dim=hidden_dim, latent_dim=latent_dim)\n",
        "        self.decoder = Decoder(latent_dim=latent_dim + 43, hidden_dim = hidden_dim, output_dim = x_dim)\n",
        "\n",
        "\n",
        "    def reparameterization(self, mean, var):\n",
        "        z = torch.rand(1).to(device) * var + mean\n",
        "        return z\n",
        "\n",
        "\n",
        "    def forward(self, x, one_hot_class):\n",
        "        mean, log_var = self.encoder(x)\n",
        "        z = self.reparameterization(mean, torch.exp(0.5 * log_var)) # takes exponential function (log var -> var)\n",
        "        z = torch.concat((z, one_hot_class), dim=1)\n",
        "\n",
        "        x_hat = self.decoder(z)\n",
        "        return x_hat, mean, log_var"
      ]
    },
    {
      "cell_type": "markdown",
      "metadata": {
        "id": "q7zpFvUTXF4Y"
      },
      "source": [
        "## Training"
      ]
    },
    {
      "cell_type": "code",
      "execution_count": 10,
      "metadata": {},
      "outputs": [],
      "source": [
        "vae = VAE(latent_dim=16, hidden_dim=256, x_dim=3072).to(device)"
      ]
    },
    {
      "cell_type": "code",
      "execution_count": 11,
      "metadata": {},
      "outputs": [
        {
          "data": {
            "text/plain": [
              "torch.Size([43])"
            ]
          },
          "execution_count": 11,
          "metadata": {},
          "output_type": "execute_result"
        }
      ],
      "source": [
        "encoding = one_hot(torch.arange(0, 43), 43)"
      ]
    },
    {
      "cell_type": "code",
      "execution_count": 12,
      "metadata": {},
      "outputs": [],
      "source": [
        "def get_classes_encoded(train_classes: list, classes_names: list, encoding):\n",
        "    return torch.stack([encoding[train_classes.index(str(name.item()))] for name in classes_names], dim=0)"
      ]
    },
    {
      "cell_type": "code",
      "execution_count": 13,
      "metadata": {
        "id": "TuiUv6qIXHlw"
      },
      "outputs": [],
      "source": [
        "optimizer = optim.Adam(vae.parameters(), lr=0.001)\n",
        "scheduler = optim.lr_scheduler.ExponentialLR(optimizer=optimizer, gamma=0.99)"
      ]
    },
    {
      "cell_type": "code",
      "execution_count": 14,
      "metadata": {
        "id": "UJSWwpD_Xgc0"
      },
      "outputs": [],
      "source": [
        "def vae_loss_function(x, x_hat, mean, log_var):\n",
        "    reproduction_loss = nn.functional.mse_loss(x_hat, x, reduction='sum')\n",
        "    KLD      = -0.5 * torch.sum(1+ log_var - mean.pow(2) - log_var.exp())\n",
        "\n",
        "    return reproduction_loss + KLD"
      ]
    },
    {
      "cell_type": "code",
      "execution_count": 15,
      "metadata": {
        "id": "C4rSgN2kXKLU"
      },
      "outputs": [
        {
          "name": "stdout",
          "output_type": "stream",
          "text": [
            "Epoch 0 loss 370017.139501634, test L1 = nan\n"
          ]
        },
        {
          "name": "stderr",
          "output_type": "stream",
          "text": [
            "/home/michal/.local/lib/python3.10/site-packages/numpy/core/fromnumeric.py:3504: RuntimeWarning: Mean of empty slice.\n",
            "  return _methods._mean(a, axis=axis, dtype=dtype,\n",
            "/home/michal/.local/lib/python3.10/site-packages/numpy/core/_methods.py:129: RuntimeWarning: invalid value encountered in scalar divide\n",
            "  ret = ret.dtype.type(ret / rcount)\n"
          ]
        },
        {
          "name": "stdout",
          "output_type": "stream",
          "text": [
            "Epoch 1 loss 332310.43280228757, test L1 = nan\n",
            "Epoch 2 loss 323349.7308006536, test L1 = nan\n",
            "Epoch 3 loss 320058.737745098, test L1 = nan\n",
            "Epoch 4 loss 316647.01102941175, test L1 = nan\n",
            "Epoch 5 loss 313695.64195261436, test L1 = nan\n",
            "Epoch 6 loss 311321.82169117645, test L1 = nan\n",
            "Epoch 7 loss 309567.2553104575, test L1 = nan\n",
            "Epoch 8 loss 308343.71854575165, test L1 = nan\n",
            "Epoch 9 loss 307029.702001634, test L1 = nan\n",
            "Epoch 10 loss 306005.50020424835, test L1 = nan\n",
            "Epoch 11 loss 304996.68402777775, test L1 = nan\n"
          ]
        },
        {
          "ename": "KeyboardInterrupt",
          "evalue": "",
          "output_type": "error",
          "traceback": [
            "\u001b[0;31m---------------------------------------------------------------------------\u001b[0m",
            "\u001b[0;31mKeyboardInterrupt\u001b[0m                         Traceback (most recent call last)",
            "Cell \u001b[0;32mIn[15], line 9\u001b[0m\n\u001b[1;32m      5\u001b[0m \u001b[38;5;28;01mfor\u001b[39;00m x, _ \u001b[38;5;129;01min\u001b[39;00m \u001b[38;5;28miter\u001b[39m(train_loader):\n\u001b[1;32m      6\u001b[0m     \u001b[38;5;66;03m# x = x.to(device)\u001b[39;00m\n\u001b[1;32m      8\u001b[0m     classes_encoded \u001b[38;5;241m=\u001b[39m get_classes_encoded(train_classes, _, encoding)\n\u001b[0;32m----> 9\u001b[0m     out, means, log_var \u001b[38;5;241m=\u001b[39m \u001b[43mvae\u001b[49m\u001b[43m(\u001b[49m\u001b[43mx\u001b[49m\u001b[43m,\u001b[49m\u001b[43m \u001b[49m\u001b[43mclasses_encoded\u001b[49m\u001b[43m)\u001b[49m\n\u001b[1;32m     10\u001b[0m     loss \u001b[38;5;241m=\u001b[39m vae_loss_function(x, out, means, log_var)\n\u001b[1;32m     11\u001b[0m     losses_epoch\u001b[38;5;241m.\u001b[39mappend(loss\u001b[38;5;241m.\u001b[39mitem())\n",
            "File \u001b[0;32m~/.local/lib/python3.10/site-packages/torch/nn/modules/module.py:1511\u001b[0m, in \u001b[0;36mModule._wrapped_call_impl\u001b[0;34m(self, *args, **kwargs)\u001b[0m\n\u001b[1;32m   1509\u001b[0m     \u001b[38;5;28;01mreturn\u001b[39;00m \u001b[38;5;28mself\u001b[39m\u001b[38;5;241m.\u001b[39m_compiled_call_impl(\u001b[38;5;241m*\u001b[39margs, \u001b[38;5;241m*\u001b[39m\u001b[38;5;241m*\u001b[39mkwargs)  \u001b[38;5;66;03m# type: ignore[misc]\u001b[39;00m\n\u001b[1;32m   1510\u001b[0m \u001b[38;5;28;01melse\u001b[39;00m:\n\u001b[0;32m-> 1511\u001b[0m     \u001b[38;5;28;01mreturn\u001b[39;00m \u001b[38;5;28;43mself\u001b[39;49m\u001b[38;5;241;43m.\u001b[39;49m\u001b[43m_call_impl\u001b[49m\u001b[43m(\u001b[49m\u001b[38;5;241;43m*\u001b[39;49m\u001b[43margs\u001b[49m\u001b[43m,\u001b[49m\u001b[43m \u001b[49m\u001b[38;5;241;43m*\u001b[39;49m\u001b[38;5;241;43m*\u001b[39;49m\u001b[43mkwargs\u001b[49m\u001b[43m)\u001b[49m\n",
            "File \u001b[0;32m~/.local/lib/python3.10/site-packages/torch/nn/modules/module.py:1520\u001b[0m, in \u001b[0;36mModule._call_impl\u001b[0;34m(self, *args, **kwargs)\u001b[0m\n\u001b[1;32m   1515\u001b[0m \u001b[38;5;66;03m# If we don't have any hooks, we want to skip the rest of the logic in\u001b[39;00m\n\u001b[1;32m   1516\u001b[0m \u001b[38;5;66;03m# this function, and just call forward.\u001b[39;00m\n\u001b[1;32m   1517\u001b[0m \u001b[38;5;28;01mif\u001b[39;00m \u001b[38;5;129;01mnot\u001b[39;00m (\u001b[38;5;28mself\u001b[39m\u001b[38;5;241m.\u001b[39m_backward_hooks \u001b[38;5;129;01mor\u001b[39;00m \u001b[38;5;28mself\u001b[39m\u001b[38;5;241m.\u001b[39m_backward_pre_hooks \u001b[38;5;129;01mor\u001b[39;00m \u001b[38;5;28mself\u001b[39m\u001b[38;5;241m.\u001b[39m_forward_hooks \u001b[38;5;129;01mor\u001b[39;00m \u001b[38;5;28mself\u001b[39m\u001b[38;5;241m.\u001b[39m_forward_pre_hooks\n\u001b[1;32m   1518\u001b[0m         \u001b[38;5;129;01mor\u001b[39;00m _global_backward_pre_hooks \u001b[38;5;129;01mor\u001b[39;00m _global_backward_hooks\n\u001b[1;32m   1519\u001b[0m         \u001b[38;5;129;01mor\u001b[39;00m _global_forward_hooks \u001b[38;5;129;01mor\u001b[39;00m _global_forward_pre_hooks):\n\u001b[0;32m-> 1520\u001b[0m     \u001b[38;5;28;01mreturn\u001b[39;00m \u001b[43mforward_call\u001b[49m\u001b[43m(\u001b[49m\u001b[38;5;241;43m*\u001b[39;49m\u001b[43margs\u001b[49m\u001b[43m,\u001b[49m\u001b[43m \u001b[49m\u001b[38;5;241;43m*\u001b[39;49m\u001b[38;5;241;43m*\u001b[39;49m\u001b[43mkwargs\u001b[49m\u001b[43m)\u001b[49m\n\u001b[1;32m   1522\u001b[0m \u001b[38;5;28;01mtry\u001b[39;00m:\n\u001b[1;32m   1523\u001b[0m     result \u001b[38;5;241m=\u001b[39m \u001b[38;5;28;01mNone\u001b[39;00m\n",
            "Cell \u001b[0;32mIn[9], line 19\u001b[0m, in \u001b[0;36mVAE.forward\u001b[0;34m(self, x, one_hot_class)\u001b[0m\n\u001b[1;32m     16\u001b[0m z \u001b[38;5;241m=\u001b[39m \u001b[38;5;28mself\u001b[39m\u001b[38;5;241m.\u001b[39mreparameterization(mean, torch\u001b[38;5;241m.\u001b[39mexp(\u001b[38;5;241m0.5\u001b[39m \u001b[38;5;241m*\u001b[39m log_var)) \u001b[38;5;66;03m# takes exponential function (log var -> var)\u001b[39;00m\n\u001b[1;32m     17\u001b[0m z \u001b[38;5;241m=\u001b[39m torch\u001b[38;5;241m.\u001b[39mconcat((z, one_hot_class), dim\u001b[38;5;241m=\u001b[39m\u001b[38;5;241m1\u001b[39m)\n\u001b[0;32m---> 19\u001b[0m x_hat \u001b[38;5;241m=\u001b[39m \u001b[38;5;28;43mself\u001b[39;49m\u001b[38;5;241;43m.\u001b[39;49m\u001b[43mdecoder\u001b[49m\u001b[43m(\u001b[49m\u001b[43mz\u001b[49m\u001b[43m)\u001b[49m\n\u001b[1;32m     20\u001b[0m \u001b[38;5;28;01mreturn\u001b[39;00m x_hat, mean, log_var\n",
            "File \u001b[0;32m~/.local/lib/python3.10/site-packages/torch/nn/modules/module.py:1511\u001b[0m, in \u001b[0;36mModule._wrapped_call_impl\u001b[0;34m(self, *args, **kwargs)\u001b[0m\n\u001b[1;32m   1509\u001b[0m     \u001b[38;5;28;01mreturn\u001b[39;00m \u001b[38;5;28mself\u001b[39m\u001b[38;5;241m.\u001b[39m_compiled_call_impl(\u001b[38;5;241m*\u001b[39margs, \u001b[38;5;241m*\u001b[39m\u001b[38;5;241m*\u001b[39mkwargs)  \u001b[38;5;66;03m# type: ignore[misc]\u001b[39;00m\n\u001b[1;32m   1510\u001b[0m \u001b[38;5;28;01melse\u001b[39;00m:\n\u001b[0;32m-> 1511\u001b[0m     \u001b[38;5;28;01mreturn\u001b[39;00m \u001b[38;5;28;43mself\u001b[39;49m\u001b[38;5;241;43m.\u001b[39;49m\u001b[43m_call_impl\u001b[49m\u001b[43m(\u001b[49m\u001b[38;5;241;43m*\u001b[39;49m\u001b[43margs\u001b[49m\u001b[43m,\u001b[49m\u001b[43m \u001b[49m\u001b[38;5;241;43m*\u001b[39;49m\u001b[38;5;241;43m*\u001b[39;49m\u001b[43mkwargs\u001b[49m\u001b[43m)\u001b[49m\n",
            "File \u001b[0;32m~/.local/lib/python3.10/site-packages/torch/nn/modules/module.py:1520\u001b[0m, in \u001b[0;36mModule._call_impl\u001b[0;34m(self, *args, **kwargs)\u001b[0m\n\u001b[1;32m   1515\u001b[0m \u001b[38;5;66;03m# If we don't have any hooks, we want to skip the rest of the logic in\u001b[39;00m\n\u001b[1;32m   1516\u001b[0m \u001b[38;5;66;03m# this function, and just call forward.\u001b[39;00m\n\u001b[1;32m   1517\u001b[0m \u001b[38;5;28;01mif\u001b[39;00m \u001b[38;5;129;01mnot\u001b[39;00m (\u001b[38;5;28mself\u001b[39m\u001b[38;5;241m.\u001b[39m_backward_hooks \u001b[38;5;129;01mor\u001b[39;00m \u001b[38;5;28mself\u001b[39m\u001b[38;5;241m.\u001b[39m_backward_pre_hooks \u001b[38;5;129;01mor\u001b[39;00m \u001b[38;5;28mself\u001b[39m\u001b[38;5;241m.\u001b[39m_forward_hooks \u001b[38;5;129;01mor\u001b[39;00m \u001b[38;5;28mself\u001b[39m\u001b[38;5;241m.\u001b[39m_forward_pre_hooks\n\u001b[1;32m   1518\u001b[0m         \u001b[38;5;129;01mor\u001b[39;00m _global_backward_pre_hooks \u001b[38;5;129;01mor\u001b[39;00m _global_backward_hooks\n\u001b[1;32m   1519\u001b[0m         \u001b[38;5;129;01mor\u001b[39;00m _global_forward_hooks \u001b[38;5;129;01mor\u001b[39;00m _global_forward_pre_hooks):\n\u001b[0;32m-> 1520\u001b[0m     \u001b[38;5;28;01mreturn\u001b[39;00m \u001b[43mforward_call\u001b[49m\u001b[43m(\u001b[49m\u001b[38;5;241;43m*\u001b[39;49m\u001b[43margs\u001b[49m\u001b[43m,\u001b[49m\u001b[43m \u001b[49m\u001b[38;5;241;43m*\u001b[39;49m\u001b[38;5;241;43m*\u001b[39;49m\u001b[43mkwargs\u001b[49m\u001b[43m)\u001b[49m\n\u001b[1;32m   1522\u001b[0m \u001b[38;5;28;01mtry\u001b[39;00m:\n\u001b[1;32m   1523\u001b[0m     result \u001b[38;5;241m=\u001b[39m \u001b[38;5;28;01mNone\u001b[39;00m\n",
            "Cell \u001b[0;32mIn[8], line 11\u001b[0m, in \u001b[0;36mDecoder.forward\u001b[0;34m(self, x)\u001b[0m\n\u001b[1;32m     10\u001b[0m \u001b[38;5;28;01mdef\u001b[39;00m \u001b[38;5;21mforward\u001b[39m(\u001b[38;5;28mself\u001b[39m, x):\n\u001b[0;32m---> 11\u001b[0m     h     \u001b[38;5;241m=\u001b[39m \u001b[38;5;28mself\u001b[39m\u001b[38;5;241m.\u001b[39mLeakyReLU(\u001b[38;5;28;43mself\u001b[39;49m\u001b[38;5;241;43m.\u001b[39;49m\u001b[43mfc_1\u001b[49m\u001b[43m(\u001b[49m\u001b[43mx\u001b[49m\u001b[43m)\u001b[49m)\n\u001b[1;32m     12\u001b[0m     h     \u001b[38;5;241m=\u001b[39m \u001b[38;5;28mself\u001b[39m\u001b[38;5;241m.\u001b[39mLeakyReLU(\u001b[38;5;28mself\u001b[39m\u001b[38;5;241m.\u001b[39mfc_2(h))\n\u001b[1;32m     14\u001b[0m     x_hat \u001b[38;5;241m=\u001b[39m torch\u001b[38;5;241m.\u001b[39msigmoid(\u001b[38;5;28mself\u001b[39m\u001b[38;5;241m.\u001b[39mfc_3(h))\n",
            "File \u001b[0;32m~/.local/lib/python3.10/site-packages/torch/nn/modules/module.py:1511\u001b[0m, in \u001b[0;36mModule._wrapped_call_impl\u001b[0;34m(self, *args, **kwargs)\u001b[0m\n\u001b[1;32m   1509\u001b[0m     \u001b[38;5;28;01mreturn\u001b[39;00m \u001b[38;5;28mself\u001b[39m\u001b[38;5;241m.\u001b[39m_compiled_call_impl(\u001b[38;5;241m*\u001b[39margs, \u001b[38;5;241m*\u001b[39m\u001b[38;5;241m*\u001b[39mkwargs)  \u001b[38;5;66;03m# type: ignore[misc]\u001b[39;00m\n\u001b[1;32m   1510\u001b[0m \u001b[38;5;28;01melse\u001b[39;00m:\n\u001b[0;32m-> 1511\u001b[0m     \u001b[38;5;28;01mreturn\u001b[39;00m \u001b[38;5;28;43mself\u001b[39;49m\u001b[38;5;241;43m.\u001b[39;49m\u001b[43m_call_impl\u001b[49m\u001b[43m(\u001b[49m\u001b[38;5;241;43m*\u001b[39;49m\u001b[43margs\u001b[49m\u001b[43m,\u001b[49m\u001b[43m \u001b[49m\u001b[38;5;241;43m*\u001b[39;49m\u001b[38;5;241;43m*\u001b[39;49m\u001b[43mkwargs\u001b[49m\u001b[43m)\u001b[49m\n",
            "File \u001b[0;32m~/.local/lib/python3.10/site-packages/torch/nn/modules/module.py:1520\u001b[0m, in \u001b[0;36mModule._call_impl\u001b[0;34m(self, *args, **kwargs)\u001b[0m\n\u001b[1;32m   1515\u001b[0m \u001b[38;5;66;03m# If we don't have any hooks, we want to skip the rest of the logic in\u001b[39;00m\n\u001b[1;32m   1516\u001b[0m \u001b[38;5;66;03m# this function, and just call forward.\u001b[39;00m\n\u001b[1;32m   1517\u001b[0m \u001b[38;5;28;01mif\u001b[39;00m \u001b[38;5;129;01mnot\u001b[39;00m (\u001b[38;5;28mself\u001b[39m\u001b[38;5;241m.\u001b[39m_backward_hooks \u001b[38;5;129;01mor\u001b[39;00m \u001b[38;5;28mself\u001b[39m\u001b[38;5;241m.\u001b[39m_backward_pre_hooks \u001b[38;5;129;01mor\u001b[39;00m \u001b[38;5;28mself\u001b[39m\u001b[38;5;241m.\u001b[39m_forward_hooks \u001b[38;5;129;01mor\u001b[39;00m \u001b[38;5;28mself\u001b[39m\u001b[38;5;241m.\u001b[39m_forward_pre_hooks\n\u001b[1;32m   1518\u001b[0m         \u001b[38;5;129;01mor\u001b[39;00m _global_backward_pre_hooks \u001b[38;5;129;01mor\u001b[39;00m _global_backward_hooks\n\u001b[1;32m   1519\u001b[0m         \u001b[38;5;129;01mor\u001b[39;00m _global_forward_hooks \u001b[38;5;129;01mor\u001b[39;00m _global_forward_pre_hooks):\n\u001b[0;32m-> 1520\u001b[0m     \u001b[38;5;28;01mreturn\u001b[39;00m \u001b[43mforward_call\u001b[49m\u001b[43m(\u001b[49m\u001b[38;5;241;43m*\u001b[39;49m\u001b[43margs\u001b[49m\u001b[43m,\u001b[49m\u001b[43m \u001b[49m\u001b[38;5;241;43m*\u001b[39;49m\u001b[38;5;241;43m*\u001b[39;49m\u001b[43mkwargs\u001b[49m\u001b[43m)\u001b[49m\n\u001b[1;32m   1522\u001b[0m \u001b[38;5;28;01mtry\u001b[39;00m:\n\u001b[1;32m   1523\u001b[0m     result \u001b[38;5;241m=\u001b[39m \u001b[38;5;28;01mNone\u001b[39;00m\n",
            "File \u001b[0;32m~/.local/lib/python3.10/site-packages/torch/nn/modules/linear.py:116\u001b[0m, in \u001b[0;36mLinear.forward\u001b[0;34m(self, input)\u001b[0m\n\u001b[1;32m    115\u001b[0m \u001b[38;5;28;01mdef\u001b[39;00m \u001b[38;5;21mforward\u001b[39m(\u001b[38;5;28mself\u001b[39m, \u001b[38;5;28minput\u001b[39m: Tensor) \u001b[38;5;241m-\u001b[39m\u001b[38;5;241m>\u001b[39m Tensor:\n\u001b[0;32m--> 116\u001b[0m     \u001b[38;5;28;01mreturn\u001b[39;00m \u001b[43mF\u001b[49m\u001b[38;5;241;43m.\u001b[39;49m\u001b[43mlinear\u001b[49m\u001b[43m(\u001b[49m\u001b[38;5;28;43minput\u001b[39;49m\u001b[43m,\u001b[49m\u001b[43m \u001b[49m\u001b[38;5;28;43mself\u001b[39;49m\u001b[38;5;241;43m.\u001b[39;49m\u001b[43mweight\u001b[49m\u001b[43m,\u001b[49m\u001b[43m \u001b[49m\u001b[38;5;28;43mself\u001b[39;49m\u001b[38;5;241;43m.\u001b[39;49m\u001b[43mbias\u001b[49m\u001b[43m)\u001b[49m\n",
            "\u001b[0;31mKeyboardInterrupt\u001b[0m: "
          ]
        }
      ],
      "source": [
        "epochs_losses = []\n",
        "num_epochs = 200\n",
        "for n in range(num_epochs):\n",
        "    losses_epoch = []\n",
        "    for x, _ in iter(train_loader):\n",
        "        # x = x.to(device)\n",
        "\n",
        "        classes_encoded = get_classes_encoded(train_classes, _, encoding)\n",
        "        out, means, log_var = vae(x, classes_encoded)\n",
        "        loss = vae_loss_function(x, out, means, log_var)\n",
        "        losses_epoch.append(loss.item())\n",
        "        loss.backward()\n",
        "        optimizer.step()\n",
        "        optimizer.zero_grad()\n",
        "\n",
        "    epochs_losses.append(np.mean(np.array(losses_epoch)))\n",
        "    print(f\"Epoch {n} loss {epochs_losses[-1]}\")\n",
        "    scheduler.step()"
      ]
    },
    {
      "cell_type": "code",
      "execution_count": 16,
      "metadata": {},
      "outputs": [],
      "source": [
        "def get_train_images(num):\n",
        "    return torch.stack([train_data[i][0] for i in range(10,10+num)], dim=0)"
      ]
    },
    {
      "cell_type": "code",
      "execution_count": 17,
      "metadata": {},
      "outputs": [],
      "source": [
        "input_imgs = get_train_images(8)"
      ]
    },
    {
      "cell_type": "code",
      "execution_count": 18,
      "metadata": {},
      "outputs": [],
      "source": [
        "def generate_images(model, n_imgs, device):\n",
        "    # Generate images\n",
        "    model.eval()\n",
        "    rmd_to_genrate = torch.randn([n_imgs, model.latent_dim])\n",
        "    classes_to_generate = torch.concat((rmd_to_genrate, encoding[:n_imgs]), dim=1)\n",
        "    with torch.no_grad():\n",
        "        generated_imgs = model.decoder(classes_to_generate).to(device)\n",
        "    generated_imgs = generated_imgs.cpu()\n",
        "\n",
        "\n",
        "    grid = torchvision.utils.make_grid(generated_imgs, nrow=4, normalize=False, value_range=(-1,1))\n",
        "    grid = grid.permute(1, 2, 0)\n",
        "    if len(input_imgs) == 4:\n",
        "        plt.figure(figsize=(10,10))\n",
        "    else:\n",
        "        plt.figure(figsize=(15,10))\n",
        "    plt.title(f\"Generations\")\n",
        "    plt.imshow(grid)\n",
        "    plt.axis('off')\n",
        "    plt.show()"
      ]
    },
    {
      "cell_type": "code",
      "execution_count": 19,
      "metadata": {},
      "outputs": [
        {
          "data": {
            "application/pdf": "[encoded data removed]",
            "image/svg+xml": [
              "<?xml version=\"1.0\" encoding=\"utf-8\" standalone=\"no\"?>\n",
              "<!DOCTYPE svg PUBLIC \"-//W3C//DTD SVG 1.1//EN\"\n",
              "  \"http://www.w3.org/Graphics/SVG/1.1/DTD/svg11.dtd\">\n",
              "<svg xmlns:xlink=\"http://www.w3.org/1999/xlink\" width=\"750.046154pt\" height=\"583.918125pt\" viewBox=\"0 0 750.046154 583.918125\" xmlns=\"http://www.w3.org/2000/svg\" version=\"1.1\">\n",
              " <metadata>\n",
              "  <rdf:RDF xmlns:dc=\"http://purl.org/dc/elements/1.1/\" xmlns:cc=\"http://creativecommons.org/ns#\" xmlns:rdf=\"http://www.w3.org/1999/02/22-rdf-syntax-ns#\">\n",
              "   <cc:Work>\n",
              "    <dc:type rdf:resource=\"http://purl.org/dc/dcmitype/StillImage\"/>\n",
              "    <dc:date>2024-05-12T17:02:23.455067</dc:date>\n",
              "    <dc:format>image/svg+xml</dc:format>\n",
              "    <dc:creator>\n",
              "     <cc:Agent>\n",
              "      <dc:title>Matplotlib v3.8.2, https://matplotlib.org/</dc:title>\n",
              "     </cc:Agent>\n",
              "    </dc:creator>\n",
              "   </cc:Work>\n",
              "  </rdf:RDF>\n",
              " </metadata>\n",
              " <defs>\n",
              "  <style type=\"text/css\">*{stroke-linejoin: round; stroke-linecap: butt}</style>\n",
              " </defs>\n",
              " <g id=\"figure_1\">\n",
              "  <g id=\"patch_1\">\n",
              "   <path d=\"M 0 583.918125 \n",
              "L 750.046154 583.918125 \n",
              "L 750.046154 0 \n",
              "L 0 0 \n",
              "z\n",
              "\" style=\"fill: #ffffff\"/>\n",
              "  </g>\n",
              "  <g id=\"axes_1\">\n",
              "   <g clip-path=\"url(#p47720850ab)\">\n",
              "    <image xlink:href=\"data:image/png;base64,\n",
              "iVBORw0KGgoAAAANSUhEUgAAA/4AAAMCCAYAAADQzB2vAACBQklEQVR4nO39WaxlaXred75rz2eeIk6cmCMyIufKscasStbAUhUnkRQpgbSmbsmWG+2G2zDaQKMtoC/6ogFBDRiwGy0JtmU1LZkURVEcRUpFFos1V1ZVZmVlZuQc8xxnHve8Vl8k2bYEPM9KnZOnIvLL/+/2Pd+3117rW99a79kXTxYRRQAAAAAAgCRV7vYBAAAAAACA/UPjDwAAAABAwmj8AQAAAABIGI0/AAAAAAAJo/EHAAAAACBhNP4AAAAAACSMxh8AAAAAgITR+AMAAAAAkDAafwAAAAAAEkbjDwAAAABAwmj8AQAAAABIGI0/AAAAAAAJo/EHAAAAACBhNP4AAAAAACSsdrcPAMD7RSYrFVPLdemdWQtdK8IUS+1lLAAAAJAOfvEHAAAAACBhNP4AAAAAACSMxh8AAAAAgITR+AMAAAAAkDAafwAAAAAAEkbjDwAAAABAwrIg8wrAu/BL//u/J2tnHjwja62nZ+y8R547IGuv3zlnx7508Tuy9sp3/1TW1npLdt5BZ1vWikrPjq1WRmSt323refO+nbeI3BTZxv9clpn8SFcrm7fkUZkV+v/ohfncouTaFcXQHxgAAMC7wC/+AAAAAAAkjMYfAAAAAICE0fgDAAAAAJAwGn8AAAAAABJG4w8AAAAAQMJo/AEAAAAASBiNPwAAAAAACcsiSsKJASAifvPlW7I23tDjTkyO2nl3NnVO+Z3Kjh375g8vy9p3f/93Ze3i+Z6ddyt7S9Y6S35ssbYqayuDjqz1N1fsvJ3+hqwNhtt2bJ7vTxZ8ZvLps5L/Kxd6aFSymh3r6nWzFvNK089rnob1MBNHRL8wa7Wvz3+v5BGcDwe6lvftWB7vAADgz/GLPwAAAAAACaPxBwAAAAAgYTT+AAAAAAAkjMYfAAAAAICE0fgDAAAAAJAwGn8AAAAAABLmM5MA4M/MjOsotIbJZmtWdRxZRMTohImE6/q4sjvFrKwdXPiwrK1vXrHzzm/MyNqt9it27HJtS9aq3a6s7YSO64uIyHMdI5gVdym2zX1s5o+pUuj/O1erdT+2Na4/tqIfa9M1/7/ubq7HDl3WX0RUdtq6WNORltnAx0NGJdc1UwIAAPjf4hd/AAAAAAASRuMPAAAAAEDCaPwBAAAAAEgYjT8AAAAAAAmj8QcAAAAAIGE0/gAAAAAAJIw4vw+oivmXTzXz/w/Kc50hNbxLqWLYf5WuvrjTDR3JV6807LwDE1fWv6LnjYiY2FiVtdbSpKydqQztvC/fuCBrd4Yrduzi4quylps4vzz8MVVyHYtYlurm7ui9JcLpNZFl/tq5oxoOfcRdpdeRtVpDR/1F4R95LZMiOBj4WMpuVX9uzXzXfu6vexFVWcsHZeeYDRkAALyDX/wBAAAAAEgYjT8AAAAAAAmj8QcAAAAAIGE0/gAAAAAAJIzGHwAAAACAhNH4AwAAAACQMBp/AAAAAAAS5kONcU+rmgjn0ZIM7VpF/89nzE0cEY1c15cGPhV8p9C50i7NmjTqu29kVF/32ogOQB+p6xzyiIiVns623+yM2LFv3GjKWmXluqy98sprdt5zy8/L2sraeTs2cpNBbxbysGSVF4W7t0rG2uruuXmHuf/Uaqbv+CL8PtLrbcpaPujI2qA1ZuedzfV669sdKqJhaoOmPhfVwo2M6Pf098lK9nmz3QIAgA8YfvEHAAAAACBhNP4AAAAAACSMxh8AAAAAgITR+AMAAAAAkDAafwAAAAAAEkbjDwAAAABAwojzu8vK/vOiQ9IipkJHOY2WzHy40BFrfVOLiJg3Uy9V+nbsheFA1jbMOB+kVV7H3rWaOnZsxkT2FSVxfnMDHaE2GNmxY88eW5K1r39/S9bu3P6OnXdz66qs1TIT1xcRQxOhNij0+i/2ELp3b6a2+aMaFvqu9SF1EZmL+xvq69Pf0ec/ImKpqtfbaEnMaava0mMzvcZXTbRqRETVnI3+PXrlAQDAvYdf/AEAAAAASBiNPwAAAAAACaPxBwAAAAAgYTT+AAAAAAAkjMYfAAAAAICE0fgDAAAAAJAwGn8AAAAAABJW28vgzOQL7yWT+v2m7L8nLsVcJ6O/YybT53jC5EqPZ/6oMjPvQuh87YiICfON6zX/uRPmbLw91J+7bGeN6JqaT+6+VzPQd6cs/3wv33V6TF/brNCf3Kj4T+2O6HmnDur884iIvDMna9+7/HVZu7N90857cmRa1rLJph177fYtWWsP9BrPS66OSa5PTtk6zcxf1M3elpWcxd6wJ2tbRavkmPQ6nquekLX1+nU7b97V39Wdh4i09jYAALA3/OIPAAAAAEDCaPwBAAAAAEgYjT8AAAAAAAmj8QcAAAAAIGE0/gAAAAAAJIzGHwAAAACAhO0pzs9mhyWWI+S+qovri4homsH1iv/fS6Vuos7Gx2RtpuUjx2JHB+Bt9Tt26MGmjlg7Peo/d3W7L2ud7U1Zy7p6XETEaqEXnIv6K6u/35ZxpSTPb7iHLzSTme2irieulNwh9UyPHTZ9/No3X3hb1l5789t6YMtHVuanT8taZ2XHjh3U7uh5zccWJhLxz/6ipP7BUZgduWsea5WSqNKhOce1wu+LeaHXebuid5ki93tbVuztMQ0AABDBL/4AAAAAACSNxh8AAAAAgITR+AMAAAAAkDAafwAAAAAAEkbjDwAAAABAwmj8AQAAAABI2J5ygjLzf4OiJDbpXrTbyL5WSYZay0T2TTb9JXhkYV7WHn7iqKy1L1238/7wWlvWCp8uFTfynqwdGT1gx56d0RGEoz0d5/fy5Vt23nNd/X1quY+EG5iUtIEdee/JspL/5RX+XDhDs1Rrub4HShIro27uvLd7PsLu3O3nZa1a09+1UkzaeW+ff13W2r0tO7YY6Pujar6rOYURETE0kZUfNO5MDAv97BmGX/9Vcw3ykv+T79T04NGqjjmtxKidN6vo9ZaVREAWREACAIA/wy/+AAAAAAAkjMYfAAAAAICE0fgDAAAAAJAwGn8AAAAAABJG4w8AAAAAQMJo/AEAAAAASBiNPwAAAAAACfMh8iWqJr8+11HK+8qlGpfEZEc1MznMZvRo1f//ZLKuM5wfmJqwY0+Ozcla9toVWXv7+qKd99ZQ5zsPSrKfD5qxl1dW7diT983K2tOf+bCsrX1J57VHRCxf07nrN3d0rnpERMNk27uYbHMa7pqsVbLKd/YwtzkZeUWfjGrmT1TfnMhzb/j1tLRxUtYmKlOyttzz98f29rKsle0j9UzvB5P1MVlrh1+nOz1dL8unvzv8maqYelayB+WmXsTuHz65WePueRcRkZt13Cv0M6Bo1O28la5eT8NayWoc+DIAAPjg4Bd/AAAAAAASRuMPAAAAAEDCaPwBAAAAAEgYjT8AAAAAAAmj8QcAAAAAIGE0/gAAAAAAJGxPcX61mo4hGpiItIiIKHaXhVaSDBYmSStaNf91J833GbGRSz4zqTmuI/uGIz7K6ZX1S7K2emdT1jaH/vy7VLdmSURUP9Nz39zRxxQR8c0L52RtdEWPffDoATtvtHV0W7e3YofmfV3bqZpaSVzZYPCjz7Rs5Do2LCKiv4c8v8xc9/pQ33hZSQxaL9f3z9df3/bHNLWma/OTspa/fcnOW9i4OK9lagfMvbXULbvv9DmulOynbiW671oayWeOqZ75/bZS0dGGtTA3ZURsD7ZkbVh6hRwTMZg1/NCKPhfb3SVZq2Yj/ogqehMq7lJsLgAAeP/hF38AAAAAABJG4w8AAAAAQMJo/AEAAAAASBiNPwAAAAAACaPxBwAAAAAgYTT+AAAAAAAkjMYfAAAAAICE+aDlEjMT47J2Z9Vn2+ehM8Ezk0ldKckEbzV05vEjx2fs2EezU7K2emJV1pY2/HcdbnZlba3ds2MvL+ps+0quz2FflyIiwn1qXhKDvdbXf7Ay8PnbL6zq+lTnkqx9KvOB1RM7E7I20/QnIy86svbAQX2LvLm+Y+e9PdSfW5TkrjuZyRofH3cp8hHbHX/MTm4ubd7Utazw5/9OR098c2ndjq10F2VtZUPP2y/Jid9LEvymCVe/sLMha/2ST62Y694yWe8RETvmEhShj7eS+XnHKnq99ewuEzEY6mvbyPz/pN2Day/R9rk5x2X3bMUc86Cn11ujUrLaKvrbur0gYm/rGAAApIVf/AEAAAAASBiNPwAAAAAACaPxBwAAAAAgYTT+AAAAAAAkjMYfAAAAAICE0fgDAAAAAJCwPcX5nTh7RtbWXz5nxw6GOuqpMOl41ZoPa3rsvnlZ+8Wf/Jwde+Lox2TtjUkdG3bxpe/YeS986YeydnPdx5WNm6inVlVHOa3qBMF3VPW8tZLYqq4JiarXfLzUiPlfU8/EoF1ZuWnn/fSx07I2v1m3Y58505C16fpxWTu+9Iqd99efvyprg/7uQ8fc1WlO6ljDiIhYWtn152Z1fe1cIllW+DWxsqnPxcrSkh+7fFvWBh19/vOSiMG9cFc230PAWmHGtnO/nmxMnZm37Gi3i7Yuluwj7hpsmL0gYj9j6vTMZdF5UdX7TDbUkaFtE4kYETEYmGtXErdoH6YAAOADhV/8AQAAAABIGI0/AAAAAAAJo/EHAAAAACBhNP4AAAAAACSMxh8AAAAAgITR+AMAAAAAkLA9xfmNHzwma63mNTt2WNMxUIOejvqbaOjotYiIpz/2pKw99rnP27H3PfW0rM0sfk/Wsu0f2Hnr9+lIuEMtE4cVEVUT19Q6ocd1L+pzGBHx7Ts6Squ95qPOZjIdLzU+6v+X1Diur9/MUMdhbd7s23mXQ3/fT3765+3YH/vlB2Vtq69zERu/f8XO+3svN2Vtc+Cve2Gi0Mzpj+bkiJ13L1omAjIKfd1dXFxERGdtS9aamT/H1a1lWcu7+trl+5fmZ+0lhs6FyQ1LZi67BnJcWayeWxJ7ii68W/Qn55k/FzZYz9y0+VDvE2XH5MMjAQAA/lf84g8AAAAAQMJo/AEAAAAASBiNPwAAAAAACaPxBwAAAAAgYTT+AAAAAAAkjMYfAAAAAICE0fgDAAAAAJCw2l4Gt+bOylq1+bz/4IH5n0NNH9bI6Iyd9yMPfkTW7nvkmB07M3VI1vo7n5S1+tybdt6RUZ1Tfr3q0rkjNto6cPzgqq5tr5bkerdNXnXJv4PWcz22NfDfZ8Zc282lgaztDPp23htrOs/9F37iATv28Fl9bYvqTVlbu/iLdt6jB/4bWXvzqj9PLma+UtMX6FOPP2bnfevF123dqZgkebfaCrNeIiK2844udm06enRDrxkbQZ+VJMXfvSB5ya0Yv5r2kvZeso/set73nyLza7FiHqdFYe7okv02q+urm/X82A/S9QEAAB6/+AMAAAAAkDAafwAAAAAAEkbjDwAAAABAwmj8AQAAAABIGI0/AAAAAAAJo/EHAAAAACBhe4rzOzmqY7heiLodW5nU/3PIt3UIUaVYt/Oubd6Rtepgyh9TdVzW5hZ0btLnn/05O+9v/8a/lbWs4S9BZUfHlb15Q4+t1tt23q752MKkq0VEuASpTs0F0UUs39qRtXWdehhdn+YXC0P9BwcfnLZjxyYbsjYYnNKf+YSPlpzJW7JWrejzUKZa0bFiC8eP7nreMrkJjctMPF5RElk53RrR89bn7dhstquLl824khi0u6Eskm/aXPc80+cwImJ9qPeD3IT9ZWURdiYvbriHEMEy7qj261MrLpIvIorQa7HIxmStVvfnOB+ZlLXhzoodCwAA8Of4xR8AAAAAgITR+AMAAAAAkDAafwAAAAAAEkbjDwAAAABAwmj8AQAAAABIGI0/AAAAAAAJo/EHAAAAACBhPkS+xNbwPllrNnyeeH+wLGvZcFTWev1bdt5Xrumv9Lnb+jMjIqYWdBZ8rdA5zAu5zlmOiDhyn06W/sFbPlD89tpA1rKGTv4u1n3mdNV87NDHSkdusrvbJfH0O5v6XGyaeRuZTzl/6lOPy9qBob8+eaHXzGZnW9aGyxt23o2q/kK1esOOzXJ93Rv1cVl79P5P2Hn3xlwDc+1KllO0TY752Ek/tvHtGVmrmQ/2d93dYU5hRESs5/qenq77/+HWC30y+mbeyYp/RGzn+n4eln0hw9/tEZWqPq7hUN87e5L5c5xldVmrhKk19TmMiMi39FgAAIB3i1/8AQAAAABIGI0/AAAAAAAJo/EHAAAAACBhNP4AAAAAACSMxh8AAAAAgITR+AMAAAAAkLA9xfmdum9C1r4z7qfuZh1ZGyt0XFmlp2sREb36HVm7ce4NO3buvjOyNjJxUNbyKX9Mp3/ib8na9h//PTu209fnKd/QMVwtO2vEWNVFs/kcLpP+FbkrRkTbxb4V+v9QRw/otRYR8eTHPydr2exhOzaGXVlavXVZ1t5+/bqdtlfVkX2Nuo8cyzM9duKQzrh78CEdsblXmbm0hVlOJUmMcXJ0RNZmKjquLyKiGNf1MROvtlMaGLf7LDoXX+iD27yhOabOUO8TERF18z/eSkUfcVayF9QKvSh0OGq5ZsmiGfptZtcysy4qdR0zGxGRm5DIrNKUtWpr2h/UQD/TwsQ0vmMvVwEAAKSEX/wBAAAAAEgYjT8AAAAAAAmj8QcAAAAAIGE0/gAAAAAAJIzGHwAAAACAhNH4AwAAAACQsD3F+c0/8SFZG2/6GK5aT0d4rUwuytrIso8vevXCDVm7sODj/I6eOyZrcx//tKyNloTnTZ78WVl74vFv2bErd/5A1pYLHR9VLYm7mmrq2KpxE6sXEdEc6Iivm10f/zVlYgQXJnSE3d/85f/IzvvoM0/LWjXTUVoRERdv3JS1Oxeel7W3L1618w6qOryt2fDreLSlIyIfHNcxdWML+r7aq4pZFvnu0+/iwKS+7vmWH1s79aCsDS/8iaxlG2Vxfrs3dJFwe5jXxwT6oEC9YiLqLiaw8HFwuRlbL4lMdNWaiWKMiBjkPg5ztzITI1jP/Lno5SYWcXRWz2siWyMi+l3zudkebjwAAPCBwi/+AAAAAAAkjMYfAAAAAICE0fgDAAAAAJAwGn8AAAAAABJG4w8AAAAAQMJo/AEAAAAASBiNPwAAAAAACavtZfBDmc6vP3S/zxO/dUVnE9dv6lzjftMfcu+ODv7+4dCHgj+4c1HWxtaelLXq1ISdd2FiVNZ++j/5z+zYweqyrL388guyNmx37bxHzGkczvj/Bw2XdIZ2q+FzpY/OjMnaT/6tvyVrT33xr9h56weastbvr9mxb66/JWsrSzdk7fJ1n7/dDH3dd6Z8Dnmr0GuqOPyorE00jth5940JZa+YbPSIiIkRvRiPPXLIjn392ras3WjptZZV/BrPhkNZK09O3122er6HWQe5Pt535tazV8zMfhfx3LwREZWKzr3fyf394b7PXtTNWh3mfh1nTX2/z46ekrVipG3n7Q539Gfu+GMCAAD4c/ziDwAAAABAwmj8AQAAAABIGI0/AAAAAAAJo/EHAAAAACBhNP4AAAAAACSMxh8AAAAAgITtKc5vuKDDnoqJU3Zst/M9WZto6Ji0IsbtvINtHSG1/YKP8zt/6I6sjZy9LGtHmw/YeVvTOprt9ONP2rFf/L/+P2Tt8P/092Xt9e99187b7OtzPDosieE6q6Manzr7oB37wM/+bVlbePrDslafnLHz5h19zJfvXLNjV17RcVnnrt+WtTuxYuedndVxcqMdH5S2Xddjj57W62l0VEek7VWR6XOcmyWTFX49ZRUdSfZzHz5qx/7Gr6zK2nBLb2/VzJ+nYbg4ud3F9UWUR/Y5u//UiN4uR+/lM8sMTQThfn1uzUQIRkRES8eC+jURUWvpPWrqqF7H21ndzltZuSVrRezf/Q4AANLCL/4AAAAAACSMxh8AAAAAgITR+AMAAAAAkDAafwAAAAAAEkbjDwAAAABAwmj8AQAAAABIGI0/AAAAAAAJ00HX70J9ZErWJns+X3h8SueYL63oecfHdOZ3REQ91597ZfVtO/a1F/XYhafasjZWXbPzjtd07v3B8ZYf+/TDslar/99lrX7in9h5L33vD2Vtuj5qxz7++cdl7UOf/it27PzxZ2StUtPp3dsl/6JauqPz3M/d9unpnYktWVs/vyJrdZMTHxFxn7nu1+bH7dhWXWeCP3hKj81qDTvv3rh7T1+7skz2qpn2yJQ/x8fndT76jejI2rDqs9NreU/WBn45RbFvKfS7dzeOqOQ07ZFeNFlFbxathl9PeU3vfVnmN6HjD/yYrM0fPitrly/+wM5brU+YY/LPQwAAgD/HL/4AAAAAACSMxh8AAAAAgITR+AMAAAAAkDAafwAAAAAAEkbjDwAAAABAwmj8AQAAAABI2J7i/GY29P8NjrSGduwPt3SMXdG8JmuN2qydd3xch0itLPsIrxfevixr09/8I1mbe+aLdt5sYlrWmqM+9rCe6Us0f/awrD3+F/6SnXfi4JisrdX9MdUe/7Ced/4TdmzFxGUNagNZW721bOd98+p5WavfXrJjz339nKxlfT1uwsRZRkTkhV6LjUkfmTg384SszT/ypKzVXTbePnJxcZWSyLGhyX2bGfVxl//5z/ycrL35x38ga8uVNTtvXtH3QFb4vS2K3Ucb4s/5NVOp6mdPZvbMXuafAVVzhWanP2nHPv64jjnth95vr+74Y2re0udi25yHiIiSlQoAAD5A+MUfAAAAAICE0fgDAAAAAJAwGn8AAAAAABJG4w8AAAAAQMJo/AEAAAAASBiNPwAAAAAACaPxBwAAAAAgYTrw+F3YLtqy1ip8DvPp2QlZu7Cls7vz8JnHK7nObC+aOks5ImJ9RQeK//BPX5O1xvi4nfcjEzoTvDp4wI5tzums+APRkLWVgzN23plTOif+QByzY+8f0+exP/RLqr2hr8/NwUDWNm++YeddvPWirL346gU7duXqZVlrdvQxdStdO++R2pysDTOfsD2+oD93ZEqf41q2f0nx7o6ulOSu23nNMWeh78mIiMc/dlzWfvKv/ZSs/av/4Y6dd7uv97Yi88cUmcmYz0vG7tL+XXXPXfXSY8r06Io5hxERlbp+DhS5vj+KxrSdd+LwI7L21BOftGM/+swJWbt4U1/3Ny/458dmS5+LSvhnWsRGSR0AAHxQ8Is/AAAAAAAJo/EHAAAAACBhNP4AAAAAACSMxh8AAAAAgITR+AMAAAAAkDAafwAAAAAAEranOL/GuI7d2xjp2bGdyS1Zq/R11N9qc9XOmy3rCLW6idWLiBgd2Za1y0sdPfD737XzXp7QkUu/cJ8dGvNxUNZ6ozqyb6TmL+214SFZm6zv2LGLizpKqzrix97q6Bi71Us3ZO3Vy6/beS9eWZO15Vf0vBER/e6orFX7eh3nfjlFf0LHLQ5HzHqKiMZrOoZr9gvzspbtIVavjAuiq5iPLT0iE/2Zhz/JjTFd/8Wf+kVZe+W563bel57/5/qYdNLfOzJzbSvmf61FSQCeqe/XVc9KYvUKd0xlB2X+IKv6wcVQf26lqe+7uYUP2Xk//0Ud2ffhz+oI1IiIWl0/D8cv6rvn4MFZO+/iBf19oixaEgAA4M/wiz8AAAAAAAmj8QcAAAAAIGE0/gAAAAAAJIzGHwAAAACAhNH4AwAAAACQMBp/AAAAAAAStqc4vwmduhcTY2fs2PrgRVlrtJqytrbhY5467cuylrWn7NjaRF/WRhs6kq9xbdLOW/m3L8rarx9ctGPPfuyIrM1PPSBrRe7P0yPT+n8+q2/ctmN7CzpC7YXLr9qx+fk3Ze1Pzl2QtZVrl+y8ty/r+Lvhto+AHJ2Z1p9brMtad8tHze1kOtowL4krm3xExx5umji5oYuL26P9mtklxg0bJZmJXR11lh/UcZc/8V/8DTvt6t9bk7VrL/+hHdsfDHSx0Ne12EsoX1YWBWgHm2El87pIvtI4P33hs8xE2EVEVtURnAsLel989m/8vJ33x84ck7WhT+CMnR/o7zN3Vg9+cMtnui4/dUXWNq6+5A8KAADgz/CLPwAAAAAACaPxBwAAAAAgYTT+AAAAAAAkjMYfAAAAAICE0fgDAAAAAJAwGn8AAAAAABJG4w8AAAAAQMJqexlc9HW2/dSO/5/CifGnZW39yDlZG18xGdkRMb7ekrXtwYodO+zo7zMY1eHp652SrOt1PW9z2edVn1+9KmublZdlrVs07bzfHm7K2omJbTv2+Xxa1sZ7fkmdu96Xtdtry7I2HFmz82Z9nZO9XdGZ3xEReTuXtW5Lf5+JET0uImJ1Y1rWZkZ0nntExPionnt0si5rmT+kPdltynxZnnul0H+gv+mfzd3Q+0xtSt93M+Pzdt4v/NJfl7WvnfGB7re/8gNZW127pQfm/uIVpl52bfwOpUdnZTNnVVmq1nXtnbn1vTUye8KOPfnIU7L26We/KGsPPXTazjs+oq/t3NwxO3b5Qb233bqg12l2ZMPOO3HhuB5bKbtDAAAA3sEv/gAAAAAAJIzGHwAAAACAhNH4AwAAAACQMBp/AAAAAAASRuMPAAAAAEDCaPwBAAAAAEjYnuL8XJDQgfum7di1hQVZm9lak7Xmtv9fxWJVx9RNZDrqLyKiO6Kj9Q43TPzakcN23kMN/bnN6Rk7tjo3LWtr6yOy1r14w847/uEjsra645fF2o6O6Xpt7Q07tt/a0sXGlCz1av6612f19amv+hjHekPHpNXq+jxNHPbraWxHH1NjetKOjfUHZClr6ajG6j7+L8/F8pUEWu7aSMnXGTT1WlwY0/fHzv3jdt7NUX3dH23/lB07E3pvu3JBx3NuXbpg521vXpG1Xl9HyUVEFKHXoovsq5bExVWmDsra1IyPv3vgwcdk7fEff9aOjfoBWTr9iK596KQ/plpVx8U2qhN27AETbXhqVsfBbr+p12lExNLV27L28phfx6EfhwAA4AOGX/wBAAAAAEgYjT8AAAAAAAmj8QcAAAAAIGE0/gAAAAAAJIzGHwAAAACAhNH4AwAAAACQMBp/AAAAAAAS5gPby+x0ZGl7R+dVR0T0qzo7emysJ2vDAz4xvLK9LmvVmgkij4hGpvPc87F5WTvW2LbzTk3tyNrRU/5/LxMNc46rOmN7pXnSzjsXo7K2ueDP08nthqwt337Dji36OoN+YkGHTk9c1dc1ImJtYkbWGnWdzR0RUYs5WWtN62tbWfa3z+aEvu7Tmc4/j4gYbemxk4W+7nnhv+t+8Stm94Ozip9Zr+KIk3qpxcyoz2SvHdaZ7M2FVTv2wIK+BvXD98va8v0P23nbL74oa9cvPW/H9vOuPqaKzpGfmD1t533yxz4pa0fnHrVjZ7+wIGvHp3QtIuLYlF4XDx15QNZGxsyiiIiJTM+bV0ruLXNfru7oveLzZw/ZaRu3npC1Fx//KTt289artg4AAD44+MUfAAAAAICE0fgDAAAAAJAwGn8AAAAAABJG4w8AAAAAQMJo/AEAAAAASBiNPwAAAAAACdtTnN+v/Navydrv/vr/bMeubLZlrdvWtZ1tHW8XETHs68ilik7oioiIzJyOhokVOz/m/38yXtMRhCMTOhovIiIb6Prhqo7hWj+gowkjIorhrKyN7UzbsWv5Rf256zqSLyKi0Jc2OiZyrNvxMY6ZWclF1V+f4fAtWWtc0PFflZo/xxUTWXk18zFbb/1QX59rOjUs/m9/4+/YeffLXuL83NiyeTNzaUeaelHU6n7mJ8b0ZjF83EfcbV2elLXHTl+RtZ1Dfp2eX7kgaxs7R+3Y6rbeK2aP6jjLI8f0OoyI+Mizj8naI48/ZMcumIjUqdkxO7ZS099nYbwla9WGfwjUzYrL3CYTEf1c71HTJj1yfajXS0TE2QcOy9qxnTft2LdtFQAAfJDwiz8AAAAAAAmj8QcAAAAAIGE0/gAAAAAAJIzGHwAAAACAhNH4AwAAAACQMBp/AAAAAAASlkWEz0kzXFxWuzssGb3rjwU+AFysmB41f/xRO+vtK6/s9oDi+Vs7sjY9omPSpkZ9hFrLpCIu931k4mJXR0C213V25Lkba3belzfvyNoPfvW37djbb1+VtbyrP3d75Zadd3vpkqwNhzrGNCKiXtcZkEVdx99NNqfsvJW5cVk79MSTduzkpM64mzlw1o4dNhZk7Qs/ruMJs/oBO++BcR0T2On6c9zpXZa1dl8f79f+6Ct23m/8i9+UtZU3v2XHDgZlz2EAAPBBwS/+AAAAAAAkjMYfAAAAAICE0fgDAAAAAJAwGn8AAAAAABJG4w8AAAAAQMJo/AEAAAAASBiNPwAAAAAACcsiorjbBwEAAAAAAPYHv/gDAAAAAJAwGn8AAAAAABJG4w8AAAAAQMJo/AEAAAAASBiNPwAAAAAACaPxBwAAAAAgYTT+AAAAAAAkjMYfAAAAAICE0fgDAAAAAJAwGn8AAAAAABJG4w8AAAAAQMJo/AEAAAAASBiNPwAAAAAACaPxBwAAAAAgYbW7fQAA3v8qma4VmSlGRJZVZa1a8f+bLPKhrhWFrOWmFhHRcN/HjozIw31fc0y5n9edxpJTHFMzeqsfK/TgxXV9fiMieuagy85x2XkEAADAe4df/AEAAAAASBiNPwAAAAAACaPxBwAAAAAgYTT+AAAAAAAkjMYfAAAAAICE0fgDAAAAAJAw4vwA7FmW6f8hVkqy5oqa+f9j7kPf6g0dBTgY6qi5mk+pi4rdGf3/S7OBqYWJH6yWzBv6+1RadTv2/vFJWXvy0IysPXf+hp331bVtWeuWxBNGSdwfAAAA3jv84g8AAAAAQMJo/AEAAAAASBiNPwAAAAAACaPxBwAAAAAgYTT+AAAAAAAkjMYfAAAAAICEEecH4F3xoXxaUTKwauL8Kn2fCTcYmIi7QkfcDaJr5836rlgWQ6e/cFbRtVqt5EQN9XlqRNMOXd2ckLVvD/Vj4G1/RDFw/zsuSjITAQB33XizZetd85wd5PphWfbOUJhI1/KwVzc7UbGAwi/+AAAAAAAkjMYfAAAAAICE0fgDAAAAAJAwGn8AAAAAABJG4w8AAAAAQMJo/AEAAAAASBiNPwAAAAAACdMBzgDwv5WZ3FxTy6Jhpy1M3vuwovODIyIKk9dbDPS8WUnCcJ7pebNqSTqxiRAeGanL2lw2bqfdaeq85ImJSTt2snFC1j76mP7/7+2X2nbevH1L1rqdrh9rrjsxzADwo5HVWrbeKPRzII+qHljsZSMvG2vqRckz2s5qnv27nnVvY+/G47DseN0x8fi+t/GLPwAAAAAACaPxBwAAAAAgYTT+AAAAAAAkjMYfAAAAAICE0fgDAAAAAJAwGn8AAAAAABJGnB+Ad8XFu2SZ+R9i1cS2RUTFpAGNNnzMULc/MMekowDzouR/niYOaHzUDx2pzcra4b+kY/W+MH7azjucPyZrzZUxO/bEz35G1k6O6XP8+K3v2nl/5b/9XVl78/JVO3b76nVZ63U7dmw+JDAIAN4LtZKHWq+vo2Qrm/r5Xgx9KFxmYnPzki3ezVwx8cJ5SdhcZqMA9+e5UzareUUq5QKR9/Jt9hJPuBdJPfn3kpm4B/ziDwAAAABAwmj8AQAAAABIGI0/AAAAAAAJo/EHAAAAACBhNP4AAAAAACSMxh8AAAAAgITR+AMAAAAAkLAsEotFBLA/skz/n7BqcnOzmg8rrVd0Sm21VbNjq92urDXN1nbAZvVG3Dd1RNZOPzxlxx7/wk/I2vzTD8va2MgTdt7xl7Zl7cYnDtixj9w3K2u1tk76vdDTnxkRcfXcZVnb/oPzduzFM7dl7eu/9k/t2BuX9ee2l3XmNA87APh3HTl00tZ3+quy1t7syVo+1HtxRERemJT5kozzzAz1v2j6p4DLvS+z22z7sl9g9RvS3rh59ZvVO4Z7+Nz9Osfuyu7l2b/b61o+sZ+5KPbnjYVf/AEAAAAASBiNPwAAAAAACaPxBwAAAAAgYTT+AAAAAAAkjMYfAAAAAICE0fgDAAAAAJAwn5UFAH+mWtXRIi6VxAyLiIjCxASOlcSdRKUhSz/RHJG1hWM+Ou+Ln39E1tbPPGvHjjyhowC3nuvIWvHWt+y8FyYmZa3+1JYdW6zqyKX5kQlZG9y8ZOddjHVZW1i8YsfOfksf8+y4Pv8REa88fr+svXDx27K2cnnNzjsk7w/AB8yBqVFbv72mn8N5/Y6s9U1Ub0TEoK833Lwkyqxm3g1cTOBeouTKxrpfUl2tWTLvmKkNS96R3PtX1YTc6TeGd2y6YyoZu1+xe+4cl827p0e/vQQm6rpk2v16HeEXfwAAAAAAEkbjDwAAAABAwmj8AQAAAABIGI0/AAAAAAAJo/EHAAAAACBhNP4AAAAAACSMOL9E7eU/OmUREi6CoiyeoizmA/cyfXVrdb3iqkO/zQyygawtZDqSLyLiI5N1WfvcGR3Zd/Tv/l077/H7dSTfpc1VO/bbb+g7qLWg4+/i1lE77+nD+vyfqjzmx47rWKVWV0c5zRyZsfN23rgha0sP3bZjL934Y1lb79qh0doy1/0TH5W1L234yMT1lW1ZI+kPH3Tu+c798f51+oB/9ozM92Xtyqs6lnXY9xt5bvLxekP9XhARMTRxf26dtuysng8njJgxn3ymqt+DHh73cYoHx/X7Va87bsdOm1eoqxv6ebfU94F+tzo6mvjV3L/pr5rdQq+0d+w2jrGsJ9pLb1Ix130v8ZH7hV/8AQAAAABIGI0/AAAAAAAJo/EHAAAAACBhNP4AAAAAACSMxh8AAAAAgITR+AMAAAAAkDAafwAAAAAAEuYDtrHvyi6ATquOGMl0duRE5v+nk1V1vV0SyDtrannh0zA7uZ78jsllLYn1viezMlNTmGvXN4G8lYq/OllFr8XlcX+HfOKJD8na0f/4P5e10w8+bue9uKVX3PNf0tn1ERG3J+/I2pEr+v544Oy8nbc+fVjWZg75O6RZnZa1Sl3vI9mWS0SOuO+Y3qFGM/99rt34tKzd+dfftmO34rqsDdd0NvHDn/u4nfcHv/s1Wev0fa408EHmd4owyd242+YePWvr68uXZK15Y07W8o3bdt5BNGWtv+PfJQfmfaRqxpW9Gx9ujsvazPiMHfuXznxM1h7++R+XtcbTJ+280dHp9lvTk3bo+oZ+N3gw18+04vySnXfn/BuydvlP/tSO/dLFl2TtlV7bjt0o9Pukewsq6xH8m6bf3dzcFTM0L+7Orskv/gAAAAAAJIzGHwAAAACAhNH4AwAAAACQMBp/AAAAAAASRuMPAAAAAEDCaPwBAAAAAEgYcX4/Ai6Sb9ZlPUTEiXpD1qab+v82uYnoioio1iZkrVfv2bHDjg6vmCnJ3Vuo6YiWN7Z2ZO2Fvg/j0CMjfCgM3i2THhmVQm8l1ZpfiyOT+g657+En7dhP/d3/QtZahz4ha8W4jnyLiNhc1jFDN2Z0tE5ExGxH37P3f/yYrB07etDOOz6t74FaY8SOrZoIo3x0U9aKknn7r+nzNLp2vx37xKxeM7cO6UjEiIhL58/L2sX+lqydfsH/r/vE8VFZe/vChh1LpCjeD9xuXPZLUFn4lOOew0T93V1nTIRdRESnMSZrW0f1M2Krp6P+IiLaw2VZG81cKF9Ex6wotxfXTGx0RMTnF/Qz+pN/8a/bsdM/9wVZ2zo8LWs7JXdWe0s/e5YG/hmdH9KxfLd6+o6f2Dpi5z309JOy9vBf+It2bO9//pKsdb78T+3Yt7cvy9pyrtdEWRiv259M+vmf2d3O6N6pIyJKluqu8Ys/AAAAAAAJo/EHAAAAACBhNP4AAAAAACSMxh8AAAAAgITR+AMAAAAAkDAafwAAAAAAEkbjDwAAAABAwnSQMn4kpkoCInOTLnm5p5MpNwofEFnvrsnaTt+HR+YmdTcrC7M2f9DI9bxl05IDvP+G5iIUhV6Lw7xu5x2dnJC1n3nm43Zsr/qArE2P6M99/XW/Ytqjuv7AiYN27HgckrXDx/TYRt3fs72GzvLN6z07dtg3xSWdA9wtdM5yRMTw8g09dtCyY0cfPS1rExtdO3Zr+bysHWm/Lmvj12/beacO6kdipV6yV/fLdingveF2irJnYdWERzcrfo0Ph7vPyca969q8z2w/0lqVtcWbs7JWO+qfAY3z+pm2XJKN3jQ1txbLfu383FPPyNr6F5+yY19fXpG1Sy+/LWtTHX1+IyIuDF+WtYXH/DvS8ea4rPW29fPu2y/ctPM2l+f1MY34s9x65LisffjOo3bs4neuytqa6Zf2sj9VSvqpwuybRWHeC8xe/E7dfagf6vCLPwAAAAAACaPxBwAAAAAgYTT+AAAAAAAkjMYfAAAAAICE0fgDAAAAAJAwGn8AAAAAABJGnN+PgEvp6pQkQN0x9U6hoyt6Pg0r9hJuUZgYibKECfefJlcrCb0gzu9uMxcvr/irNzo3KWu1KR3XFxGxMzstaz2TIrjTdPl2EXOH9DEfO3zCjp3O9Gpc7eoQonPXNu28WVfHAT3ziI7Gi4gYtvRW39vREUTdbV2LiLjYvy5rW5faduxW70Oy9uAXF+zYJyuflLUrv3dJ1jb9KY7Kpt44x8b9Ol73iUzAe2Yvz7vCPE3L3kdcmWfw+9czJ47aerenH/DLJrZ18fUf2nkvm5i0bfN+GxExbqLQMvOSeriq42sjIlauviVrrTv+vfmtSzqe8NLSRVm7+eqf2nk3KvpcPDPhoxhj9JQsfesbvyNrV76/ZKedOfmIrD107Iwde6Kh34PyxbKHdFWWqrl+rytrdt3eNijZ3SquQ8n0vVPa15j7o9jDjssv/gAAAAAAJIzGHwAAAACAhNH4AwAAAACQMBp/AAAAAAASRuMPAAAAAEDCaPwBAAAAAEgYcX53Wb/kXy+dXIdMuGCR/B7N1nGRGQ0T+9Yr+UL36NdNSt3E5xSFjlhpNnTcT0TEE9M6Hu/s/ToyJiJiblpH86zn+g5pHRq1885O6K2xqZNoIiJifEfnCLaLbVmrji/aefOFA3ps3UcUVWt67sb4uKxt7fhIpfbpw7K2+PaLduz6zddk7ciTz9ixP/6FX5a1ly/pa/e9r/9DO+9aX8f5NXd8BGSEP1fAfwgX9eSfdz4kKjf1oiRCDXt3L0YTH35kwtZvL+l18cAdHfl6unnSznt5oCNq85Iz4aofrehnwMmJKTvvrQU9dnpn2Y49fVS/c3z/hedkbW31ij+mZf3e8INf9e8yw/kXZO38c9+UtUGu3+kiIuozs/oz2/697eb5F2Xt0lW9JiIiZk3bupXpY14u2dts1WWYh7+nXZp1Ef4cDzNzVHvYKPjFHwAAAACAhNH4AwAAAACQMBp/AAAAAAASRuMPAAAAAEDCaPwBAAAAAEgYjT8AAAAAAAmj8QcAAAAAIGE6EBHvmZZJeZw1uZMREZnJcVwv9P9tBpGXH9hdULFZ8Hrc3ci2xb+rqOmrUKvodTw66zPmj3zsF2Utn/f5wpMjDVmbMPddfUyPi4gYa+h7S6fevyMf1+dpKtOf+/CBeTtvrdOTtW7Vb+XVxpysZR19fSYndC5xRMSnzkzL2gvVGTv2xhs3Ze3Y6KQde/hZnSG8sd6StYuvjtl5t5f1uajM6SzliIjFJV0jHh3/vrJfXVzdPd0L84yNiKhVzHtDXpJX7R7SpQH1euy9+bayP+7Fd5ljM2dtfbalnz3Njbas/eDieTtvM+/IWqPkTGWZXscPj+t9/pGHj9t52329WW98+V/bseOf/IKsTS53Ze2tzb6dd3t1Tdaudb9rxw6umnk31mWt1vBvOrVaXda27vjrfvH8N2TtVmEepBExW9WfO99sytrKtl6nERGZWW+l+1Oh/yI367TISnYDt5e7vbgEv/gDAAAAAJAwGn8AAAAAABJG4w8AAAAAQMJo/AEAAAAASBiNPwAAAAAACaPxBwAAAAAgYcT5vQfK/nvSN38wWxLJ0JvU8RS9TR2xspP7AIr9ipQpOxfjJiat09195pVLEroX43PejwoTH1k16zjLp+282YSOZ6lP+y2qXtVXfrPQ907Lp2jGlIsCLFnkhYnLak7oY2qEj5vpmr3gQMvHE2bZlKxVJ/R9Nzbu5435UVl64qCPcZyYPyhr9z98wI6tjup1Ufz4L8na2P/ny3beg1s7snbyAR9t+NbSbVkbsAt9IJUl3Dl1E/Vbq+j7cifz912R6feGKPT6j4gozBO+UfPfNh+YyCsTh4X9Nzeh9/GIiIqJ6z1z+qisDScO2Xm/1tL7eGPHP6Tdnjqc0VGyB477++Pbb74la5duvWHHPrxyTta6M8dkrXfJP1vyvony7fl3pDzXcxcmvnNY+Pt5tX1dz3vhJTv22i0d99cZ+mflwoyOajxY0+v49e1rdl73bUujV01knxtdkp4auXmv3ssbBb/4AwAAAACQMBp/AAAAAAASRuMPAAAAAEDCaPwBAAAAAEgYjT8AAAAAAAmj8QcAAAAAIGE0/gAAAAAAJMwHQOJdKTuJLivzhcLnd47v6Hzbocl43E8u77IsH33MZPlu7e5wIsL/B0unlOM/RGHyVXu5PsvDZsfOe+qgnvd4XefxRkQ0zWJsm+Nthl+oKyYldb7u823dWuxX9NisofNpIyK6PZ2xXf4fXHMXmFORZU07azHU93O12rVjD52s62LDXx8XMTzTNmMP+Xk3uyZX+uBftmOrtX8ka4Mhu9AH0V6e0H2TbT8097PLXI+IKAqzFkuCpYvM5Ur7z7XHZfaRMpVMbwZlr0jFnq6Q5p8Qvrpfx+RUWg1bH6uYJ0wxLkszY5N23pmq/txx86yMiOibtToxqfPcW6fO2nmnXtqWtavFW3Zs9tqmrI09rtd/LfyzsmZy4sfG/X3Xq+hn+PZ233xoz85brC3L2tXb5+3YjYHegxrmfo6IKFp6vV3u6vOUmXP4zsRmT/WHFJnZF6Ni3nMyf44jN9e2pHd0+MUfAAAAAICE0fgDAAAAAJAwGn8AAAAAABJG4w8AAAAAQMJo/AEAAAAASBiNPwAAAAAACSPO7z1gAjEiIsIlPZRF8g07JnrHxdiUHNO+yX3uhYvs232gz97G4t0pzFnOTURR9/qanfflF+/I2sLHdLRORMTRno7Au2VuzJmSFVNt6TuoW/L/0qq5Lwcmgigz8V0REdUVfff0XOxLRGRNE21Y04+BvGjZeXttfUz9qo+q6dYWZK1dEis2bOu5N2/oSKVXX7tk580Xjsna4Xl/fe5GDBfube5pmJXEug1NeZjrtZgVPhosc9lUJbFVLkezGiP+c22c1nrJB2suJrBsT3WRcHtjYltL4src29t+JTg36v7aVQc6kjdvHJa18ccftPPeNzYtaxfXVu1Yd55ao1OydvDwE3bWn/yvH5W1rX/0r+3Y9eFtWbvvyClZax09Yuf90pd1jGA27iOPR9s6BnhjtK3HjZ6x856IDVl7reSFvGZugVpJtGRW1d93tLtkRu6+SyhKNsaKqddbujbsm6i/iBhkfi/fLX7xBwAAAAAgYTT+AAAAAAAkjMYfAAAAAICE0fgDAAAAAJAwGn8AAAAAABJG4w8AAAAAQMKI83sPlCWs7CWQYWBq2T5lu5SFzbh6p+SY9it2jyCtHwFz8YqKvgLtgY/kW7pxS9a6JpotIuLmrI52OdjRK/VG5qPmRld0FuBgtCRuRicMRrWuz9PGbR1rGBGxeeFPZe3WkgvKjHj0yUdkbbig45jyDX/+N9b0tc1nmnZsXtVzX1yds2OvvHZV1n7zH/yWrG0s+vNUrOu1+NKpl+zYwYBQUfy73LOykvnXrzzTUb65ifOL8PutywksfaUwUXTDutn4IqKR63svcy86JTITIdyo+HPcD/8ckJ9ZVjd/UK3458cgd2+M+/OmUy35DTBv6mOumwfe2IlpO+/hg3re47d81Nmmue6dNX0Oi9a8nbe2o++f44f9esmaOgKv19HRuE88+RE77/nX9PdZ6fs1URmflrXZiv4+j99/ys67dumHet6WjxeuF3q9jYxP2rFbNb3edvrXZW24j03C0NzwlVx/16Lp13hlqK9PbpLey/CLPwAAAAAACaPxBwAAAAAgYTT+AAAAAAAkjMYfAAAAAICE0fgDAAAAAJAwGn8AAAAAABJG4w8AAAAAQMJ8yCnuaS6WsjRn1tRaVT+6awIxSbJOl4lejcwEQBcl+ebXX3xB1t5aftuOPZsfkbXGlv7cyct+ja+M3Za1bNJnzF9bXZG1Q5VxWeu2+3beG5ePylr9lj9P7dEbspZtb8pasbFo560f1Me0dmXEjq3M6wU1fOO8Hfv2b+7I2ub3vypr3Y6+NhER44XOS178ls9H30uuLtJko6MzHyxtttRwT1o/LqIofTvQMvdbUTGwY3u53t+qJge7LH/bva5MVH2eeNfcs+52rpjjjYgYreh8+sq4rkVEbOyY50B/fzaZrO5bgfrQ7NUDfd3n5s/aeZ944NOy9tZF/QyOiFjc3JC1pfZNWbu4edXOe+j4vKyt1fTzOyLi6h39LG1mOpN958037bz3H3hQ1u6M+bU4MrIqaxefM+fwxa/beQeF3oPyZtOOnRzqNb468GtxtL0ma71iSx+T341ttVayZ7ZMfVjRM9daJb+9+1eOXeMXfwAAAAAAEkbjDwAAAABAwmj8AQAAAABIGI0/AAAAAAAJo/EHAAAAACBhNP4AAAAAACSMOL9ElQX21E0czVRREnVmgi90GBbe90zeiYtCGeY+zu/ixhuyVn+9JILlCR2RE9M6Tm7i1rKdt7+xLmu1t3SUXEREcUd/397HdLTOwSkdTRgRcerRB2RteMbH54zNmbjFpj7exuion3fmIVmbOqYjBCMiVhd1NNLrL1y3Yxe/8/+Wtc7WJVnbDH/tKiazcm2J3S1VLvTN7V4lSXO2Psh9/N3u+ed3ZutlEYP6mPttv6e6T80q+r6bqvvfp6bqep+/3fN5WC0zd9/kCGaZjwk8MK338rGDE3bs5bcvyNpm6LiyvahX/PfJzftis9GStf74pJ134SOPydrx73zZjt1c0+vtrVs6tvXR7/h1unDstK49+vN27JUL/0bWzn33mqx1rviIwU889ISsPfiJn7Vjz0y1Ze13L/5jWXvuur93iqFeM61R31q6dTGa+7U47Ojrt9LXz+iyvbpiNqisJL6zMIPrJvYwOv6dwu/Vu8cv/gAAAAAAJIzGHwAAAACAhNH4AwAAAACQMBp/AAAAAAASRuMPAAAAAEDCaPwBAAAAAEgYjT8AAAAAAAnzYYtIlkvnLsqyfE2tLHWyLEsT967CXLws08V86P+/uLOk82L/5IXfsGPPfOxhWRt5ROfB9g7qDPmIiO5rdVnbafjM3c6bOkP47dqCrOVffNDO+/h8Xxe7+jxERBSVnqy1l6/IWr1xzM5byXQmddHxx3T1j56Xte98xV/3b179nqwNBjrrulLV1zUiYsmcp157aMfi/cskLUetol+TilpJ5nRf37OFy3fegyzz+20l098nK3lCDwt9D2Ql3ycz57E5MS9rnzh2n5334tJlWcuXfRZ5zeRzjzb1tT3SOGPn/dxf+5SsLb520Y69trGmizf03rYXlZKc8iz0uShqes2Mjfj9du5jH5e1Bw+ftGNfuXRe1m4NB7L2ve//qp338Gf0tT3z0Qfs2MXGTVnrL+v1Pyx8nvupZ5+QtS988Uk7tlrX5+LV3/4XsnZjbtbOWwwburgwbccuFXo9Tazo96eIiDvLS7LWMXtQ2W5bMd1Ls+r3+ZFR876Y63krDT9vpavfR8K8DpbhF38AAAAAABJG4w8AAAAAQMJo/AEAAAAASBiNPwAAAAAACaPxBwAAAAAgYTT+AAAAAAAkjDi/RJXF5nVMNttOyWBCrfAfxgep9HMdN3Pl+W/bsVcvfVcXH/pJWTo7ZaeNg0fnZO3lf+jjgN68oiNaxrZ0PMu3ZvxBnf3M/bLW7PubNmtP6mMa17F7g5q+NhER3c4tWXvld161Y//BP/l1WXvjwrf853Z3ZG2uqtfbsk/PiXauz+PQ1PD+5q7saEsvmpmjp+y8t9f1/dPfXPTH1NURX4WJnqqUvNbVTaRlVmnZsZVKW9Ya0wfs2KnmYVn75M/8tKzNzq/beS/9t8uyNlL1MXWPDfWV/+KJp2Xt/r+iY+giImaPfF7W/nDtNTv21HUd2ffiDR29uq/MaczMOc4qPs6vfkg/Z1sPP27HDl80z4htfQ5fuaXj4CIiTn9Vv1N88n4dxxsR8eNf+AVZ+8wTz8raSv2QnXfigH6mzS7oZ3tExGBzTdY+/V//kqydOq/fnyIits/rdXzjjh0az93Q7wa3L7xtx671O7K2l96kan4HrzVcAHrEWNGUtX6uc/eqFX/thuZ9pRs+AtLhF38AAAAAABJG4w8AAAAAQMJo/AEAAAAASBiNPwAAAAAACaPxBwAAAAAgYTT+AAAAAAAkjDi/DygdiFEeBQj8+4rCxyY5w1xH1Wxu+cirP33lqqw9ceK8rA0ePWnnfXTyoKzVF/6aHVt/9Xf05x6+KGvbF3ykz4tNHZf15Kcn7NixQzqGK4bjslQrfJTW9a+9JWt/8N//Izv23MVzsrbZ27RjqxW9Zoq6fqztNPwjb2tDxwTivZGZbDC7i5RsMYWJqC17prmp2zs6Nmmiq+M5IyKOHT0ta0t3fHReb1nH1FVyfT93Ch/B6SL7GrUZO/apRx6UtQc/6fev8dpHZK16QB/znzz/gp132NRX71M9HbMVEfHQzIis/eJ/9l/J2vG//KSdd7GzKmvHDpi9OCJOreh41Rdf/54eaNZ/qczfXJmZ293Pkfn9ttZoyNr8z+r4u4iIs88/L2srr+iov95Ax6tFRPzhl39X1vpj/jz93Kd/RtbGqjdlbXLBP2frG/pzO6uv2LHFig65O2CibydH/e/Ci0f1Or388lfs2KVv/kDWLm3qKMaIiN4u93m7TiOiVtVrtdbU6zQiIpp6n8m7+nPHa/6YBrX96cb4xR8AAAAAgITR+AMAAAAAkDAafwAAAAAAEkbjDwAAAABAwmj8AQAAAABIGI0/AAAAAAAJo/EHAAAAACBhPmQT71v7k/4IKLtfcUWuc2Z3trft2Ivf/3VZa43q/O3+nc/ZeQdHT8nakZ85ZsceOPkZWdv+6ouylr2qc34jIr7auyZrleM6Izsi4vip+2VtuqMzhJfbL9p5f/fXdF7v929s+GMyGcLDWtWO7TTHZe1tM+/mts8Izod6LN4dn0wckZmfG1oVfd2zwl+b3lDvQWVX1e1ebuydqxftvK21W7pWb9mxm3lH1qq5Pqp6+Hunmus9dbxuh0Z+bU7Wrr+taxERo8XXZO3NW7dlrXtlyc77eKbv6Z89etSO/cxf/0VZO/LLn5W16tSknfdQHJa1X+wfsmPbf0lfn9/5w38ma0Whn6Nlyu7ZItN/USlMrSSnvD6m889PPnzGjn32b39B1pb+/nlZe/WWf852t9dk7ff/1a/ZsTd/8FVZ++L9T8ragcv+mFan9P2+EH07tlbRYy/29V7Ra07Yeb91Qb83/NG1V+zYy722rA2L3b9Lul+yq+bZEhExWtfft9nwv5EXQ/2uOTOu2+wzC0fsvM+/oc/TXvCLPwAAAAAACaPxBwAAAAAgYTT+AAAAAAAkjMYfAAAAAICE0fgDAAAAAJAwGn8AAAAAABKWBclvAO6iikn8aY34/01OHpmWtfrCT8vaiRkfo1L72GOyduwhH+f3k9WGrE1tHZS14a07dt5XLyzL2uvNGTv2539yRdYOjB6Xtd/7zQt23qt/+mVZ2+j56LzxweuytjjqY2wWMx0ldPENHaHW7gzsvNi7qruhI6JW0ffH9ISOPuoNenbeka6Ordru+0C/romQciPLYgLdmaiXZagZbfPWVjZtxfzeM+KyFiPivpa+dgMToxkRcXuo47QaJlj6ga6Pqfv5+/Re/lf/q//Sjp375Z+Xtaw+L2uVhs89LEz05NqGX8evvvR9WfvcFz8va4Pe7uP8chMPGeGbhMLcO8OBP6ZOX+/Hg601O3Zp8bKsnf8DHR35a//jP7bzPn9Zx+bm4b/PhKkfrur1f7ZkJxnJ9djbJWtxu6evT6uuowBvD/xe8FxPR9ht5L6tLPbUduodrlrRG0mzNWJnbY7qsfMNH9/Zaup13DOxrfedOGnn/cEbr8ralas+AtLhF38AAAAAABJG4w8AAAAAQMJo/AEAAAAASBiNPwAAAAAACaPxBwAAAAAgYTT+AAAAAAAkjMYfAAAAAICEmfRUANh/JgY4hgOfSt1e2pG13vY3ZG3x0P123s6d52Vt5csfsWPfevIxWfviszqf/oFndB51RMQjnz2m5810pm5ExGD6Q7K2tqZzpR969Lydd67yBVlbvnLOjn11ZVvXLnzFjl1Z1GOHHZ2pi/dGZm7LStX/nlA1bx31cV0cH4zZeUcO6Jzm2eVlO3alre+B/lBnc7dNXntERMPkVW+XRFln5iRXzbxlae5Dkxler/iD2jC56/P+VMRDraasHavqa/uTX/zLft6/9XOyNvdjz9ix1RF9TFEx69jdAO/8gayMNf1r99HTD+tDMnnu5VdeK0tVL/u2StleUMv1oslro3bs6IH7ZO3M5/R1/Ytbft7qP/ufZO2lpYv+mIb6+X6xr6/PWyW59/Vc33eVbseO3TBXb6una9slq6JvXtx2f3dEVCpujUdUqnVZG6uN63EN//yojvRlbTBnh8Ywn9TFDT1vNWvZefu93d/TDr/4AwAAAACQMBp/AAAAAAASRuMPAAAAAEDCaPwBAAAAAEgYjT8AAAAAAAmj8QcAAAAAIGHE+QG4q2z0S0lcVntbR6XEzm1Z2ljXtYiIrK+jwZbqr9ixjR/qKKEbv6sjZY489TN23g//TR1NdWBMRwhGRHzs2IY+JpMr9uLErJ331cnfkbWLr/6hHXvr/FVZ6w98PKGLgMT+c/dsrezamAiv5RVz3X3KU0zX9LzNIz4q8+y2/kZrOyuy1u5u2XlXezqGa3Tg97ae2ftc1J+LEIyIGDG/98ybqKyIiFNVfRE+c/iwHXv08U/J2if+478qawuPP2HnbR7Re1Sl5r+PPVWlkX27G1qp+3lrmT7HtYaumaVWavffNOyXzcoiK0M/K/NKSVRmTbcvtftPyNpH/qaJXouIA6d1JNw3vvmcHXvlT/+trN1YXJe1Ox2/j7TNBdoY+pPcMYvcLv+Sa1c1173iojAjomYi+yrVhh07Nq6vX70xI2vbsWbnHZrz2PKXJ5otHak4MmdiZu/3OYH1N/252C1+8QcAAAAAIGE0/gAAAAAAJIzGHwAAAACAhNH4AwAAAACQMBp/AAAAAAASRuMPAAAAAEDCsvCJDgCwr1yUkIutiojIKrpeFK42LDkq/T/RrCTnJquaY851vFSt6aOnxsbmZe3QJ32c39hxHRszd3Nb1l68+Kqdt33tiqxtLW/asfnQxzXh3lU1a3zURL5FRAxM1FNWaenPLPmdojapx46PT9uxJ2d0bNJ9Ezoiam3HThsjK/oeOD/U8V4REYNNXd/utGVtrmRrO1zX5/H+U8ft2E9//EOyNv30X7NjD33ofl17WEcBtkZ0BGpERFEz0WAlQXUlqWNGWQCefkYMhyaCNiI6GzqX7/BDj8ra9tLlkmPSchOxuRdFSe7qwHxuURJTVwz1Qs8zfWH7fR3PGRHR3dTHtL6mY3EjIpbffEnWXvzSV2TtpX/zx3beVzYWZW1tu2fH9sx56lb1eSpbEVlL35d5yf0xMWru6ekJO3bQN5GWPb0hD5v+vhuv6XekkYbfVE/N6FjKURPfefTjf8nO+0//v/+DrN24dt6OdfjFHwAAAACAhNH4AwAAAACQMBp/AAAAAAASRuMPAAAAAEDCaPwBAAAAAEgYjT8AAAAAAAmj8QcAAAAAIGG1u30AAKCU5QAXNl7VjM12n8Oc+0OKrO8+V2fuDjo+j3dreE3Wul++bcdOHTooa7dMbvT2js883tnReeJ5ybXD+1c901nK9Wbdjm1VRmQtq+k1M8j9PTve1fPmo/43jmptQdb6Tz4ka58+8Wk775kTet7F4Rt27M6tcVkbq6zJ2qGDPvf+8HG9F9Rnjtux0019DWbG9HeNiCgmRvXnmjzxrFK2V+t62cjdzmufLWUKfe+8Qyeoj2X6c7d3eTgR5d9mn85EVNxzuOqvXmHq5jRFJfR9FRERJkZ+dkLntUdETM3/uK499qCstR44bOfN/+Tbsnb+1bft2PWBfq9YNidqpqnv14iIWnNa1qZGSr5Pc1XWur2pkrFrsrZzW987o+Ozdt7JqQOydvyAP6aJkR1Zu2PW4tiWnTZGJvW72V7wiz8AAAAAAAmj8QcAAAAAIGE0/gAAAAAAJIzGHwAAAACAhNH4AwAAAACQMBp/AAAAAAASRpwfgLtqb6FvuxudFSVBT+Zfoi4q6B36D1zCXV4WMTgw0S5DH/uyceOGrI3UdAROu23zEons+4ByyXrNpo7Vi4ioZvrmqlR1XFZZtOew0ZK1yZaOsIuIqM/rsXMjj8raww/5eQ8d0d9nIR62Y9smHW9k/lOyNl7xr3WtEX1PHxyftGN7FXPtmg071l33akVf2z3t1X6kj3Xdp70tq+j9NiKiUtHXp1Xodbone8nz28O0e/lMd3mKQp/joX+kRZjnYaXt761KS0fnNdd15NvESZMhGBFx9JgsDVZ9lG/7lj6mhrnvNk30cETE5ISObb3V2bRjj89Py1pm4oUjImbGTsjalbN63mZJNHGrqa/BsCSidnr0pKxNdW7J2gOHfLRnLY6a6mU71uEXfwAAAAAAEkbjDwAAAABAwmj8AQAAAABIGI0/AAAAAAAJo/EHAAAAACBhNP4AAAAAACSMxh8AAAAAgIRlsdcYbQBITGbyncvyxHf9mSX1ivmDqsujDr/J5+b75CVflYfHB1PFZLI36z7zOM90dnEzMznZmV9ttbERWWvUfT79g5MfkrUf+3GdoV3/6Jyd9/TIWVm7sTVqx87XdDZ0+1BH1mo7DTtv68i0rB0LP/bwEX2OZxam7Nhpt0eZNVEt+XlqYDapsl+2KuaYMrMvlmy3kZt60e3bsZcXV2Xt8bNnZK0z0GuiTLfbtvXM3O+D4VDW+gOfyd7f1nnvRdef5JURPXexvSNrnYtLdt5uf03WBhMlz9nFbVn77sUrsvbNP/qSnfeHV16WtZUr+jMjIno9fX0GkctateQ9pzGm96+6e1mJiKJq7q2B34N6c3qvqC3qe6vS9LvBVK6fPSMH/DFtd7uyNhvjsnZ41j+XvvzyK/oz2/6edfjFHwAAAACAhNH4AwAAAACQMBp/AAAAAAASRuMPAAAAAEDCaPwBAAAAAEgYjT8AAAAAAAkz2TkAkKayOKa9jN1t2l9JAo6NntIBN+9woUpurA77wQdZYVbGIPcRXkXoeKmd0LFIhYl8i4horutjao9u2LE/6K3J2vaf6Ei+qXOn7bzfqHxD1uamm3bs6tq6rB26/6dlbWVeR+5FRJz8jj7/m4/67/NK90FZ+9ma/x2pWjPxhRO61CgJOu0Ne3qsieiKiKiaJVWtm428ZGPURxTR3tFrPCLi13/zeVnrFm7m3Tt6zF/36bkTsra9dEPW2sWWnXewoyMI+yXXPe/rdeyiP4e5GRdhM2z3El+7XzHAd8t2Z/fxkXvi0xh37Y4r3t79vOd3P3Tf8Is/AAAAAAAJo/EHAAAAACBhNP4AAAAAACSMxh8AAAAAgITR+AMAAAAAkDAafwAAAAAAEpbF3hIqAAAAAADAPYxf/AEAAAAASBiNPwAAAAAACaPxBwAAAAAgYTT+AAAAAAAkjMYfAAAAAICE0fgDAAAAAJAwGn8AAAAAABJG4w8AAAAAQMJo/AEAAAAASBiNPwAAAAAACaPxBwAAAAAgYTT+AAAAAAAkjMYfAAAAAICE0fgDAAAAAJCw2t0+AAAAAADAeyczteJHdhS4l/CLPwAAAAAACaPxBwAAAAAgYTT+AAAAAAAkjMYfAAAAAICE0fgDAAAAAJAwGn8AAAAAABJG4w8AAAAAQMJqd/sAPghcjuZe3K0MTnJBgXtL2R6TmT/IXLFEUeg7PmczAIB7XqtRtfVeP5c19wzgEbD/yn69tc9+M27AxUsWv/gDAAAAAJAwGn8AAAAAABJG4w8AAAAAQMJo/AEAAAAASBiNPwAAAAAACaPxBwAAAAAgYXuK8yPW7d1J7Vyk9n2Ae0FpqJ6N5fGjm1X9P96qGdvPdIxTRMRgaI7JxDyVYY8BgB+NRsle3TM7Mnv13VV6/s0fmMc3EsYv/gAAAAAAJIzGHwAAAACAhNH4AwAAAACQMBp/AAAAAAASRuMPAAAAAEDCaPwBAAAAAEjYnuL8iPG4d5VFg7l62VgX8MWaALSaubnqmb/zxmomkq9ZtWMns7qsTdX1vDtDH+e32u/J2mbfj+0OdH2Q+52EfQYA3httv1Wz374H7K+sJS/dmbkAZb/e1s3cXTNvyZJgTbyP8Ys/AAAAAAAJo/EHAAAAACBhNP4AAAAAACSMxh8AAAAAgITR+AMAAAAAkDAafwAAAAAAEkbjDwAAAABAwmp3+wDguXhPV9Op3X821gwe7iGgs2xoWTYocK8ridyNhvmDVlUXp0pmnjATHym58Rqj+n+83a6+K6cGQztvpdAf3Cr89xnW9TFtDP1OsWk2qb3sXwDwQZOV/QTIi1tElP9SWjF/MG6e77l5L4iImDTzTkxM2rHVTl/WbnTasrY58BfdvRmUPYJ5RN9d/OIPAAAAAEDCaPwBAAAAAEgYjT8AAAAAAAmj8QcAAAAAIGE0/gAAAAAAJIzGHwAAAACAhBHnd5eVRYO5urt4EyXztk2eRlnUhvtvUVnqi/s+bizxH/hRsvddxd+1Ls5v0sw8lflVfnSga/O5H7s+6MlaZaiDeQYu9zMi5gp9146WjO2ZPKBhbff5UkT94Uel7PntllvZWGcvv9i45+xevs9ecFu+O+767OUcjpXst2v9dPL8qiX1+i7jeCMiauY8HqjqkO2p47N23gMHT8naxkkf59d7Scf5jd28KmvDjUt23sj1msjMO0VExIZZreaV4p26L+Nd4Bd/AAAAAAASRuMPAAAAAEDCaPwBAAAAAEgYjT8AAAAAAAmj8QcAAAAAIGE0/gAAAAAAJIzGHwAAAACAhLkoeLxHXPJnWaaoS+icMbUDJfO2TO12ydipPYztmJpOGo/YKpnXjQX+fWV51S7Ld6zik2RrhR48Z/7Ven/JUU2bDOFayf9weyZWt1LVj4GTJce0bU5FXpL9XJhE3reH/hxf1pHIUa3oc7E58PP2c5MvbEfi/axsP9gt93w3Szgi/LN/xNR2Sr5M3XzbYckq75ty2TO4a2ruU30iuB9b9stWOun0ezPR9Gdq07y4ua16P/dMd8Q1cw9MVvwN0mzqeuuYb5kON/Tb8VxDv5WPzn7Mztt7/JOytvD0CTu2/TG9Cz2+831Z+/7rv2fn3fzNC7K20V23Y8crfVlrD/xdOTQLrrhLa/H9hl/8AQAAAABIGI0/AAAAAAAJo/EHAAAAACBhNP4AAAAAACSMxh8AAAAAgITR+AMAAAAAkDDi/N4DZf89ceEh4yVjj5vamJl5quSgJs1RP1LyjTZMwM6WicOKiOiZUA0XMehiACMiBqZGZA/+fSYZLyL8fTlbsqCapnafuWfvm52w844dOChrizt+Kz+T6UifgcnAmWpO+2Oq69ie/OodO/bWzpqsTQx03E9ExLjJBhvU9Pfp1f3eNuzqva0sViwlZfF292I0kjvmsu/jYvfc2LJn/0Om9nTJWvzMvN4P8jNjsvbClN9Hirwta1M3/ZnqmNC+G5dW7dj1Vf0U/7ZZUGVRvo57L4jw1/aeXOPmgF2UWZnqiA+XrOzoM5n39AOx7JDcHVAWdd0yg5s1XWyW3HfzU/oJvp1P27EHFo7I2sce/UlZW/jYx+281Yce0cdkvmtExHhP10c6Ogrw0P3P2nmXJ/8XWbv6z/+FHfvGul4ZNwv/7M/Nq07H5I3ei/fz3cIv/gAAAAAAJIzGHwAAAACAhNH4AwAAAACQMBp/AAAAAAASRuMPAAAAAEDCaPwBAAAAAEgYjT8AAAAAAAnz4c94V8r+e+ISUhdKEoYfqejZ75/QWb55ddLO+8SxaVm7vqHzdiMiDnZ2ZO3RHZ0RHBHx/e0NWbs81EnZZXm8rl42tiSWHe9TFXNrNUqCvasm9LXlwpQj4uxIQ9YeO3mfrJ08oTOAIyKK8WOyNlPzYyNflqXF5VuyNntgwU57eHZG1jrbK3bs8Ve/K2tvv/2WHTvcMvuMueH7dZ/m2zeZyPnQ7xR7ydHG3rnTX3K727H6KRtxuuZn/j8+oO+Px7/4hB2bH/ywrC3l+t569tiDdt52e1PWKjfX7NipyqisTc/pZ3tERHPzvKx967/7pqz96qJ+34iIuGhuS/1N3+ESw8vWjLNfW4F719zLe8xkyUvsFfONCnOispITUZhnaavqx7bGdPsy3dBv3St1/XyOiNjp61VRrfmxg4kzsjZ6/2FZa80et/Pe6a/LWuFfuWPjxqqsfaw1LWtTkyN23sOf/Kysza2N27FTf/TPZe35lTt27M2BfsAPzX7cG/jF+EF6fPOLPwAAAAAACaPxBwAAAAAgYTT+AAAAAAAkjMYfAAAAAICE0fgDAAAAAJAwGn8AAAAAABK2pzg/F3fyfoxGcN/HRfL54LyIJ2v6ND/a0PE4ERGPTc7K2uxnPyFr9//MR+28IxdPyNoz49+xY7MNHZKzfdnHnTzz+ldl7a3XLsvaD81nRkT8Ya5X3E07MqJnajpgEPcCd8+6NKCSVLeYNrX7G37bfPqsjtM69RFdm3roU3benakpWTs4NWfHLi/fkLXunSVZa80esPMeOKbj/saadmi03/y4rJ169Wv+c//oj2TtBzduy9qFkki+jvlf+JLLh4yIfGgir+xIvBt7ieQr0zK10+bnkb/xhL/vPvrzX5C14XEd7xUR8ZXvvClrq00daTV1x+eg9Sf1c/btS/7+GK/r95HxTb8vfnTys7L2xb/7gKzN/ze/buf9f17V+1e7JOPORf26oXuJ+tuL/YoeLkr2xZbJ7OuazL685ESNmDi/06P+XXJmTAdtLh3Sa7G17AI6I9r9NVmbPuBj92aP3C9rtcmzsvb9NR9hV+1tydrOV1+2Y5fWvidr3dP6GTzZ+JCdNxvRb86VMR1jGhFx6uGPydoLz33dju0NdDRxxazTesla7H2A8nj5xR8AAAAAgITR+AMAAAAAkDAafwAAAAAAEkbjDwAAAABAwmj8AQAAAABIGI0/AAAAAAAJy4Kkof8/F4Izb2pHKz4+Z6aq6426CwqM6GV67GNz+qj+o//0P7XzHnv2iKz1GxN2bL60Kmuv/79+y479o2vPyVp3WceDvNVv23krPT32tdxH1ejwr4iuqXHj3H3uznNhQDMl0S4PVPX/RJ85raOnIiI253U42Oq6XjUrFf9/2ENH75O1J+77iB27otM7Y/vWdVl7cNLHlU0c0PdWcd1HcC4v6rtrZHzHjq239dznf+cbsvbtNR39FRFxpa+vz42SOL+dgT4X+xXDtV/2Mzpvv+w22jPCx3f+wgEduTt37KCdtzfWl7XnXl2xYy91dNjcwHzbqZERO+/0hM7Z7Jj1HxFxfaMja8Ncf9eIiJrZ3z47r2MC//rTPkLt27//gqz9444L641YM7V7Mcq3Yh5quf+q1meP+3e+793R+3G/b3a3ko1kZky//36o6vNgq8f0yVjNxmVt9iM/a+ddnNLRea1zficZP6AjOpcufVvWqps6bjciojqrV+PRjj/Jt1f02JFT+r77UPeonXf5jH43GFn3e8Ft8xx+6fWX7NjNtt6Dsk3dm2wM/R3dIc4PAAAAAACkgMYfAAAAAICE0fgDAAAAAJAwGn8AAAAAABJG4w8AAAAAQMJo/AEAAAAASBiNPwAAAAAACavtZXBm4iPvxUjEsmxil/u9YEYXVT/zpVxnf9Z6/kRt13Qe5os3dQL987/2K3be/8vc/0nWjo1O27G//Wu/Lmv/9uXv2rGXtjdkzaUPVyt+qZ6q6HN8OPcp2vqIIlw07j24xJNTds+6aPWWGTdTksk+t3BI1lYP+bE/vNiWtWttnd1daepM44iIczeuy9qfvPB1O3Zq4bSsTc6OydoLO9t23rWlm7q4o/OQIyKGQ33PTkzrY4qI+NiReVk7+Kj+rg9+V+f8RkRsD3TW70rJHd8xD8T8XnwgfoC4Z3tExIdNxvypg6Oy9t3NNTvvS2/q/POb3YEd28vNmjGlxY7P0B7t6LPR6/qxvaH+4LK9OjN/8fvtW7J2Z2vdzvu/G9HX52DHh9u73c29NdytuznzS2bXVsfd0zIiFvVePjT7Xr3kOTtZ08+AZtO/8z05v6CP6eFHde3//HfsvJ1F/bmvt/7Ajj3/L/9U1m7d/L6s5X3/nB2r6/N0senfb+ea+s169taSrH3txlU7b+2yXjPbbX1PRkT0M/3WPZiatGNPzOl3s/bbHVnbKvz7SNWcRrPtvS/xiz8AAAAAAAmj8QcAAAAAIGE0/gAAAAAAJIzGHwAAAACAhNH4AwAAAACQMBp/AAAAAAAStqc4v5qJ8ejfg/FFOhDjHS7Q5FCtKWu1g/409vIpWXtg1seorE4/LGuXrp2XtTdu65iOiIjf/tXfkrXTH37Wjv2V516QtZXtTTs2qvo8Dhv6ChVtn2Nz1azFRkkGTmHWqvvPmA9RwXuhJA3IXp8JM/hww0fnHT92StZWDvh7trKjo2rmq+OyduTwCTvv1h0dnffCKy/ZsTuXXpe19voRWVteN3F9EdGo6ntrcsxH8jUnDsranfVlO/b5y7r+7On7ZG2qqT8zIuJ0X8eKXSl7pJkNIdtdMttdU3bf3YvxRu6QDpSM/diUjrxqm3ip9h3/vGsXOs6vLADPvVX0zbcte/Xa2dERd3t5ppUtibqJbhuYyN1zi+4cRpwb0fvMJ817W0TEpUFX1u7BJR41c2MOXfxjiZJHT7x1QZ/HVkVHoI43/G+LJ0yI8/jxCTu2/alZWfviR/+irE0f1DGAERGvH9FrcemNo3bsS/mbsjbI9HmqlESCt03MZu4TOGM81/HCFy/qNbM28BGD1Z6+trOtaTt2e6jj/prdOTv2ofufkrULW3rXrF3XcYoREcNcX5/hPbkb7B6/+AMAAAAAkDAafwAAAAAAEkbjDwAAAABAwmj8AQAAAABIGI0/AAAAAAAJo/EHAAAAACBhNP4AAAAAACTMB9CXqOtY1ujfpZBzl4ZZ9mVPmiz4U2c+ImuP/PSn7bwPnPy8rG3Wl+zY+qhOIP7GGzpz+vf++J/ZeavTp2StWxJZ2RjTWeRn69N27BOf0Pmqr168Jms3F79t5z0wclYf081v2LHbJiPVJwjjbhszN3zD3M9HpqfsvNMPPCprjz7zUTt2clN/bt5Yl7WFdsfOe+Pt67J27upVO7a9bVZyf0WWhkOd+R0RMT15SNYeflbfkxERrQk99tL3XvJjd3T+djv0eTzw4VN23sZ37sjaWMc/1Oom61cnBN+bfKr0vckd8+mSnOzRj+u1OlFvydrJRX/PXnLZ9XZkRL+vV01/sPtc6f16NauYjPmIiIlWXdY223qf2TT52hERXzd71P/hiP7MiIjfuKL3EV2Ju5bqvV+f+/EjY7b+0ozOdN/a0dfnRE3ntUdEHDusa89+9gE79vjDn5C1xz6l3zOHExN23sm+Xk/njuh334iI4Yiee7JxW9aqQ9+d9ExD1c/9Hb3T09dn2+wj45lp8CKibq7tTq9kpZpl0Tr6uB06vH9T1j6xoPfxnd+6ZOe9vq2vT99tBrF/e+p+4Rd/AAAAAAASRuMPAAAAAEDCaPwBAAAAAEgYjT8AAAAAAAmj8QcAAAAAIGE0/gAAAAAAJGxPcX6R6f8bZJmPYCnuQh5K2X85ai0dafLxMw/L2n2/+Et23kcfelDWGuM+AufabR0vtXp2VtYGx3/Zzvvwffr7TG407NjnXv+6rB0Y/yk79m//l39B1tZv6MiY/+XNv2Ln/ejIsqyd/7f6/EdEnPjyfy9ry4WJUbGz3r3In/cbk7oXWUmwmEuQOmDGTh6atvMeOjoia8WZ03bsUw0dwVmf1MfUvn7Zzru5oaM/j586ZcfeWtH7SH9Hxxc1KvqejIg49sBJWXv2kz7mdKaqIxX/ePWGHbt2Wcci1ifO6Fpzy85bGdURRrWSnNOauePdKr4X94nhvXhQe9Ct+af/TK5389uLa7K2uOnvj+m6vvLrJXtbp78/F2G/1mKr4c/xWFPXN7f0c7Ys9nDVHPW5oiSSzNTct9nPeE53far79OK8suLf+eod/Y1dE9Gb8zGBI/Nzsvb4wzoGOyIiO6PrzQn9uSWpk7HR08/D4eKkHfvAU/o8Xm7r1Zbv+LfJwqTqFiWdzdCsmcycjKLq753GmD7mzKcAR39W9y6d4ZoduzLzKVn73JP6mM8vv2nn7T6/KmurV0vy/N5n+MUfAAAAAICE0fgDAAAAAJAwGn8AAAAAABJG4w8AAAAAQMJo/AEAAAAASBiNPwAAAAAACdtbnJ+JyMn6+xl4orn/ZJR92adDR3jVZw7JWufmuJ23eExHTCxWfbbI79/UsVZv/sa/lLX165t23pPzH5K1YeOSHdve0tEWk8d37NiReR2zcv6KPv9zJ3VcX0TEhat67O07Ps7vVk1fn7yvY4bw3nCRfWXROy5wJqvpwdWF43bekQM6pq667QOmioGO+Fo24VTP//5v2Xmff+55WcsH/phmxnXE4Na23mOGuY+Pyip6LxibGLVjq1Udb9TZcUFbEZmJKOqO67HbTR0hGBFRmdLHnG9s2LE2d+z9ludXct/di8fsDrksGe/cTR3zWO3obKqLmx07782hHrtT8mjpmUxF93XKLl3FbKql97upzTb8PVvv6Buk2MOC2jThem91/Lyj5oVx4x589BfmXSWGu3/nvrR+y9aXumZzM6c4q/sYtLFM3z+tjr8A9XnTfwz12GHm18Sgr7/r5Jh/D73RNc+evj4X1W1/7YZmLxg1MZkREQ3zHtTf0p+bl4RWFh0TTdzw8ZAzVR3j2B/63mVjTEf53px+WtbmHnvSzjt+47qsVa7pWsT7L/6WX/wBAAAAAEgYjT8AAAAAAAmj8QcAAAAAIGE0/gAAAAAAJIzGHwAAAACAhNH4AwAAAACQMBp/AAAAAAASVhZtbzVNHmw3K/ufgsnoNJmIe4lLLItlvVOY7M8DOpt7/nTLzmuiMiPf0Tm/ERGrizp/+w9//zlZ60z7TN2lr+qxZ9s+03X9ms7RfLujs8YjIr77/Wdk7ZW3dUbtuTe/Z+etv3Zb1jqFz+AcFPoCuZx47D+zxURERGbqbgeaGfX37GhT7wX1CT/2/CsXZO3qxtuy9sb1G3bepdU7stbe8HnJBxb02eibXdXEIUdExPXrOof5zR/ofSIiorapv++VS/o8RURsm9zjiacnZW22sWjndXni4yWLsWrKmU1AvwdDgO/BQyrjDnk79wv5hbf0vTV7eETWyt5yekN93fPCn+R8t2umZM90x1z2juSmHi3ZLNY6Oh+97HOd7b4+F9fX9XtbRER7n941nZLLYz/XvKrsyYWrfVsf9PRRFeYLbS3659L5vn5vO7d8zY6dvKLf68YPPihrtZJ9vD4xKmuDhcfs2PG2fu/ORyZkbatkneaVHVnr9P3dk+nbLrp2PfnFNjSXtlrz53htVH+fWDQHHBGVgV6r/Uv63WuqsmTnHW03Za1RctOaLeiexC/+AAAAAAAkjMYfAAAAAICE0fgDAAAAAJAwGn8AAAAAABJG4w8AAAAAQMJo/AEAAAAASNie4vxaQ51hsFkSf5DvU/yB+9iyL7s02JK1sS99TdZu5bN23j/4qK4faj1tx9761h/J2rCro6m2fnjZznvx0luytljzIXZXlnXc3+0NH+GV//1flbVbve/o2nUfwzXo6EiT6awkKmWgF6MJHXk/Jl7do8oCjnZnaOYdruv4roiI9pZeT9XOJTv2ysq3ZK2+qePvPnHylJ13+8YVWbu2ftOO3dlalrWa2ccHQx/ps7qiz+Prb79ox/bW9F5x6+aaHTvITGzStj7Hoxv+ru33TKSriWaLCJstWewpsAzvhruyV8weHxFxM9fZVJNX9T0wMBHAERFd86IzLIuHND/L5Oa2rJbMOzOin+/L2z7Wzbnd8WNd2p+NsCv53K6JarzU9+di+y7E+e1l3kpJBORuDW/7CLWBOerCPD+WdvReHBFxta/X4tf+9Lt27GdjTNZWDj0layNzOlYvImKj0Md8542v2rGtWkPW1obTslad9LHe3UW9jmslj5auuQWG5rr2S7aCQn/VaG1t+mN6+zVZqwz99en9yQlZe+Hwiqxdfu1VO299qOOFu4m97POLPwAAAAAACaPxBwAAAAAgYTT+AAAAAAAkjMYfAAAAAICE0fgDAAAAAJAwGn8AAAAAABJG4w8AAAAAQMLKou2txrQOiKya3MmIiMJkHrtc76IkN9dNO1b4Y+rkOrjyxY01WWv83r+2837rN3Qa/LHxKTt2q6XzPYvVJVmrZiXBk22dbX9g0h/TjUxfg+aOPqaIiM3l78naRKzJ2q32hp3XhQTXS3LidZr4fiXM499h1mpm94mIqOr6iLkFVi/q/PmIiK2Gvu+G56/asd/9N9+RtWx9S9aOP3DIztswubqV0HnIERENcy6yTP//NzcZ2RERnQ19X64vrtqxO5u6vtX1+c+NRkvWDo439TGt67z2iIgLy/q6b5ZkaLvzWHE52CXJ3olFCN8V7ZJ6L9dnuVPojPOsZE0MTa1acmEHpu7u9qmq/z3n6Jh+7Vvb8XnuQ3eeTC0iwsS92zVetv7dDtXZw/W5F++76j4d1VKlJAzeXFt3ijsdd4YjbpvH++KmzmSPiPj+1/S75PahP5a12R/7uJ03mjpHfnXtlh06Mjgsa2MLi7LWe9O3YvXCPKNL1kTNvK+7+7n03atvjrnl30diQ/cf/bo/F6t39B51YOMtWVt845o/pq5557sXN4M94Bd/AAAAAAASRuMPAAAAAEDCaPwBAAAAAEgYjT8AAAAAAAmj8QcAAAAAIGE0/gAAAAAAJGxPcX6nzxyVtbW163bsTn938SBZ7iMmXALFoCT2YuASTao6fqJbEhFV6eg4v+dWLtuxjZo+qEkTxTFm4q4iIn7+8ClZe2j0mB07Y77PGx0dVxYR0Vy6ImsbuYnwKokVGzORJWMlURy3zLrw4UZ4T9ioOX+/Nyq6vmXWzMqKjwqaHlmWtXzF31vbJsJo8aaO9Hnzuo8KstFUmY/PGW3piM6xSl3WNrb0vR4R0Wvre/bcD75vx+bm2hYl3+fIsWlZOziv/5/95suv2nlvm3+Ftxp2aFR9AqFWlhl6F6KEEksv2lMkXMXcdzoA6h3u0uYl8Xf2mNzEFf97TrPQC3my6t9lVs0xm1e6iNh9ZF/Z7eG+rf827z+9fboxB4OS+O1dfm6v8HF+7b7+3Fcu3bZjtyb01c3+2T+QtQeefNjOm91Yk7XtV8ft2O6Wjretr4zpWtkiz/Q9O6z7izM61NegZzJFByXvXlXzdtwuWajDQj/fR6v+nWOs84qsfffSJVnrbvtQ13y3i/x9iF/8AQAAAABIGI0/AAAAAAAJo/EHAAAAACBhNP4AAAAAACSMxh8AAAAAgITR+AMAAAAAkLA9xfkdmjkla2MTPi5rZ03H41WGOsgmq/qYp0qhx5bFzWyZ9Irbt1dl7cmFE3be6Vn9/5V/dX3djt0xaSifmjgiax998uN23sdb+mTUJ5+xYxdO6M+9ce6bduxXli7J2tWhvrZzQ/8/qsmqjhbp9H2kjItk+uAEfNw9hTnLecn/JrsmcqZrArGuFj7o6dqXfyBrR3/hp+3Yz/3Sj8vaN/7JH8va9dUlO++EifRpjuuooIiIUwemZa3ROixr43WfYXfxuo5c2uj6WJ5ac0TWDs6fsmOf+ayOZFq/eEPWXr50zc7bzvVesWkiiCIi8kyv4ywze5BPKr0r7sGEwX3lLsFeIl3d7uVXU4S7ClUT2TdW93vm3KzZK4Y+oPCVNZ1Z2RmWRHjZ6u7t17z3oqLsxtyljs2y9p/rUtDM63hERKz39R8Uq/4ZXevoHuOqiZMb+/1/buedfVi/Ox8b8Zmt7XkTFdh8Vtcqf2jn7c3omMC8rZ93ERGbPb2DHejrvaKflUT59kyUct+fpyzTz/489zvujVtvyNrmVl/WhiXRkq6c2vOOX/wBAAAAAEgYjT8AAAAAAAmj8QcAAAAAIGE0/gAAAAAAJIzGHwAAAACAhNH4AwAAAACQMBp/AAAAAAASVtvL4E/8hWlZe+VS3Y5d39AZkAMTGjrW8um3WVePLctx7Jrc3AsDPfZIZ83O+9j8MVn7mydP27G3Z/QxnR05q4/pyON23omnRmVtUJmyY+cGOue01tq0Y09+d13WsrU1WZsvyV3vdnUe7DftyHsyRvuDxYSkDkuuTj9r6VrFZbr6QOQXX9BZsQc/+UU79mee1Hm9v/APvyBrl67ctvPeuLIoa4sX/HnKxvS5mOjpzN3h6aN23g919LzruT/Hp6Z0febUfXbsztpVWfv2t39X1la3fL7wyFA/X9pV/30GmX5G2KtTks2duZxsPxTvAXftyn45aWT6L+br/l3mWEPXt6pm3kP++X2moWvTo6YYEdWhXqxXNtt27K2hXq3uzaxsjX+Q7oGGeW7193AmcnNtImLfTvIw13fX9sB/6BWzlU+M6eI3f+8P7Lxzdy7K2sKxR+3YHzv0eVlrH9P3Vm/9aTvvncsvyVr3un4viIjYNjfXkZmDstZu3bDzvv3VL8va9Tu+D+jv6LkH3Z4du9nWvUBhlox7jkbcm32AezXYyy3JL/4AAAAAACSMxh8AAAAAgITR+AMAAAAAkDAafwAAAAAAEkbjDwAAAABAwmj8AQAAAABI2J7i/E498lFZm5u4YMferG3LWjUbyFqt5v9XUW3OyVrRWbVja30dkLBR0Z+7s6MjrSIiLq/rmK4HFnSsXkTEyY6O5qlt6NiRQVXHnEVErB3UQRFZMePHLuuos8lbL9ixc1v6HG8PdQTLTl+viYiIPzA5Hj5kCPeyspih3GwHw6a+B4Yl2S5ZV9eX/s2v2rGTY39H1h74yIdkbfaQjsmMiHj4vh1ZW370ph176fySrFUr+g6pz4/beT9z4qSsjUz4x0tnU0d73jmn44siIr76la/I2pVret6R8DGzeV0vqG5ZtORQPweKvQTz7Femz49+2uSURUANC/MXA5/jODmm4/yOD0105I0VO++SiaWcbvqIwTMmEjkviUi9bVaVW2+sxf/VoCyTbJdyl4MW+3cN3Ly9svi1vl6L/ZUNWXvFvOdHRJy8pXuTzYd8rPSPf0FHbE8+rPulysA/Z+cfOSBrW91bduzVST32voF+L9jcmLDz3rjwsqyNLPto4txE324N/Tke5Pr6uf24ZInfk/brkPnFHwAAAACAhNH4AwAAAACQMBp/AAAAAAASRuMPAAAAAEDCaPwBAAAAAEgYjT8AAAAAAAmj8QcAAAAAIGE+aLnEwZGDsrYw76e+PKYzX3dM8PrIVMPOezjT8640DtuxlZ1FWVsd6HzbqzZoOeL8uq4vTl2wYz8y0LnTq4s6C7O6dt3OO3tOZ4J3M///oGtDfYE2ezoDNSJibWcgazf6uvbD3Ccmb5paWdby+zDe857j74DdDy67Nr2BXjO1GZ2NO131+9NCQ+8zg62mHXvjS9+RtdFDM/ozD6zZeev5lKzNjPjM3fFjZr81N0jr5Jidd3So6/2dm3Zs59ILsvb9b/2uHXvz4pqsTbT0Xt3t+72tW9Fjiw3zYIqIoVmtFVPLzTPrnQ92JXave5lLpL6e6+d3RMRgVdefrOp1erzm18R4X+99Kx1/TKtmv/2BydeOiOjZKt6NvHB7xe73gqLsJekuKEqC1/VKjCh6eh2vb2zYeZcn9ed2r79qxz7X+wNZO3RuWdbmDnzczlscnpe10YmTduwT5t05z1uydvsbN+y8EwM973Dc7XwR3TsdXSxZi/YWuAfX8b2IX/wBAAAAAEgYjT8AAAAAAAmj8QcAAAAAIGE0/gAAAAAAJIzGHwAAAACAhNH4AwAAAACQsD3F+WXVEVk7U/exMK9l+qPrkzqq5uAx/ZkREVnoCK9Hu2fs2PX6IVlrXLosa8tdfbwREc2+joG6fsuPXSxWZW2hrSMxzm34KK3Viv6fz1RJ7s5SS2dmrJuUjoiITRPRsmFqPkgrom9qJHzc2zKT51cpiTobmKiaRRNNdfxBH+05MqHj8aaHfkWN5Dpccu2rfyJrtfkH7by1cR0HtHnLR+/0but7q9qflLV2w+9Pq1V9521W1+3Yt17Xe9Tilr/uWU8f16FJHZl4Y+gfeYsrer/t5GWBZPqYM7OOXdRfRETh5i2JvCLs797lnlkREe6OXhvqvW3Mv3rFtAnW0zvMO/TdEVHysXgPlO0Vu/V+vHZu68vNeer2/PP78pqO+ztc8uy/9dvPydr4k/p5N3/WRwyee/kpWZuZ8NF5c6O6r/nXPzDRw89/1867ev17spbfcQHbEX1z7folz7SS1FC8C/ziDwAAAABAwmj8AQAAAABIGI0/AAAAAAAJo/EHAAAAACBhNP4AAAAAACSMxh8AAAAAgITtKc4vDp6QpakDJ+3Qw48sydqtizoKYjZr2HnHJg7I2sxTY3bs6PZ9slbM1GVteMGH4HS39f9XOps+tmqnooPsXCTf0nBg531joANcBiVxGSMmWy8viV+zsTEVPbYoyfAg4WP/2SvrL7tn/v2YmTXxzsfqwQMT27O4vmPnbd73EVk7cdYOjcl1vVeM9/R92R/4e7ao6e167c4VO/YHL+vIn9ZtHSw2fapl5x1/WO/z87ft0Jg/oyMVD99YsWN3juq9+s1tfW2vXDjn5+3r81SU/J+8muldaFCyLzruFhjmZfOyM75fueCwLVPbLpl3cZefibuvYh+03Ot/zr8ulpwn8wJ8c93deRH5JfMM39R9TXdrzs47uvK6rL1xbNSO7T//hqwNb9+RtZXmmp335qI+F73cv8t0TCxiSZof3gP84g8AAAAAQMJo/AEAAAAASBiNPwAAAAAACaPxBwAAAAAgYTT+AAAAAAAkjMYfAAAAAICE0fgDAAAAAJAwHQz9LsyuTMra2cdO2LHXLr0tayeaOku5N+Fzi8eyNVkrBqft2BMtnYB7++FnZG1q6qadd/niNVm7tOTzt2c2m3reXF++TtNf2tGezu7u5j7NNzeZ1MPCjy3M5dsxAZ4+FZQE2z+3n6ne7tr5fGGvYiYu+89kzYWc1/To9VW9x0REvLip822fmvycHTv6iSOylm0OZW0qX7fzFhX9fUY/PmvHHj28JmvdO7pWmZu38x481JC12qf9MS3d1jnArfv1eYqIuHRJ76lfe/Erstbe0vtehL9/qpWqHZtX9N2V9dy+6O+dilnj2cCfJ/bFD56ya86aeP/qEXK+74bmFOcmfz4i4tbajqytb+l3jksrX7LzzrUOyFp9w78lbd9YkbWVtv4+y2ttO687UfZxh7uOX/wBAAAAAEgYjT8AAAAAAAmj8QcAAAAAIGE0/gAAAAAAJIzGHwAAAACAhNH4AwAAAACQsD3F+c0dPyhrh18+ZMceP97SxQeflKWFI2ZcRBzo3S9rxSE/dljUZe1mrqP+5o990c57ZUbHaXyou2THbt74hqwdXF2UtVfu+P/p3F7TMYLbPukseqEjpBYHPi7rVl/X80KH9rkouYiIzESwpBaA406FSVqMiIi9pAHt9nOzkoOq13S9WfcRahP1EVkbmdD389zBKTvvSEXn0dza8OGSE1szsnb/g2dkrTXWs/NWBvpcDPo+eqf/wC1Zqw/12OHIhJ23Makj+9rXb/uxY3pPPffDF+3YN5ZvyNrtZb33dTO/L7aqOj61mfnr0zHlombyjXJ/U1Yy/Zh2ezGAtJCSdneVvT4NzB9s9/Ve3V/1V3azoiPD+4v+qPQTLWLDRPIVJc+lsoht3Lv4xR8AAAAAgITR+AMAAAAAkDAafwAAAAAAEkbjDwAAAABAwmj8AQAAAABIGI0/AAAAAAAJo/EHAAAAACBhOiD4XWiZDOGRB++zY5+e/KuyVr/zlqztHD5k5z059ZCsjR1YsGOLkeOy9kTvoqzVR8/aeR/e2pK1nabOso6IGO3/pKxtLa7K2v0v9+28g9Efytr4yqId+989f1nW6t95wY69c2dJj+3rLNN86HNO9xBP/76T6dj7qJtaRER3TydKT14xB9Wo+f8v1mp6Gzow0rBjp5otWZtp6vv9wInTdt6nHnpQ1k59/FE7dm7ugKwNR/S5yMen7bzVxoisjUTVjh0/qffjfKgTebtdv4+022uytjE9ZccuLW/KWj/X3zUiYnLhqKwdOawzj2v9rp23U2nL2tK2X8eVpp570NPn2K/wiKG5fyo9f0OXbJsA3kcy86bzQXoHule5a6C7pYhO4a9eL9ejs8K/9LlHxNB8Lo+OdPGLPwAAAAAACaPxBwAAAAAgYTT+AAAAAAAkjMYfAAAAAICE0fgDAAAAAJAwGn8AAAAAABK2pzi/4ZgOIpobP2XHjt+n4ykumkyy04fm7LybdR331zjoj2k6G5O1VvGUrOWTdTvv+LSO98pqO3ZsvrMsa8PD+jwdeVh/l4iIztK4rK2vv2HH/icTHVn7lys6Xi0i4nJN1/s39ZrIO/5/VMNMx5IMTRRKxL0Zg+MCWhom/q4o/HeNfPff1h2TS5QpSaqJukmiy0u2qGJE18dndG1mzq/TsYkJWZue0bWIiPr4qKyNjOt1XKv4E+VSESuZvz9yd/FcreJjAtd3erK2aQOMImoT+jydOe2jVxsTs7K2sKjjSLOh/syIiJuLOgpwquL36p2Ovn7u6nQH/rqPmmuwUfhjApCOPTy+cQ8ru6zuumclL1juKcxy+mDiF38AAAAAABJG4w8AAAAAQMJo/AEAAAAASBiNPwAAAAAACaPxBwAAAAAgYTT+AAAAAAAkbE9xfpMtHanUuG/bjl1f1EESH6rr+LuYcNlTEfOhY6Ca4z68IqvqqKdq3pW1WnPEzhvNXJaGuY8Gyys6dq9qYg9HByXnv9DzFh0febV0VAeEHHtcn6eIiI+e1vWdL39P1l5f1hFdERGrPX1t1/o+8qo/cFU9b1lM3V7UzDJvmmK3UnJLD/q7PCIf/ZIPdbVf6PUfEbHd1heg1/fruNPV62ljR9eub/o1kd1ZkrVTCz4qMx57UM9bHJS10REfVTo50dRFnawaERH9jlnkub4+/Y6O64uICBPn1x207dDVRX1tlzb9dV9c09fv/MWrsnZrVcejRkR01zZlrdP156Iz0Pvi0IQq1fp+3vWqvu5F5p+H+7pJAQDuqrIdnicA/n384g8AAAAAQMJo/AEAAAAASBiNPwAAAAAACaPxBwAAAAAgYTT+AAAAAAAkjMYfAAAAAICE0fgDAAAAAJCwktDvEtWqLBW1Q3Zot6XHjs8d1/O2/SGPjOsM+nZJ5vFkV4dhFy2TpVzy/5NKRX/XSknOcqWu85/dvMOKP6ZWQ+dZX2npz4yIGJuYlrXPffwJO/YjjSOyduuZJ2Xt0AtX7Lw3v/4lWfv2xdt27M62znsfhs44N7Hdf8Zc25L47Vqmr9+JuXFZu7nhJ+7Eiv9gS38ft4yH+hS+Uy/0ieybjPmIiO5Q59NvdvW8q22fMb/cXpe1O9v+mJ59UK+3ymN67OnGCTvvyFG9L44WU3bslZ0lfUwb+rvm4TPmb97R53954M/x+mtvydpid8eOzdcuydqL5y/IWn9HH29ExHCoj7koWYvDob738tCfW5Q8A2LQ0bWSewsASpW8jxAGf+/i0uA/FL/4AwAAAACQMBp/AAAAAAASRuMPAAAAAEDCaPwBAAAAAEgYjT8AAAAAAAmj8QcAAAAAIGFZkAYBAAAAAECy+MUfAAAAAICE0fgDAAAAAJAwGn8AAAAAABJG4w8AAAAAQMJo/AEAAAAASBiNPwAAAAAACaPxBwAAAAAgYTT+AAAAAAAkjMYfAAAAAICE0fgDAAAAAJAwGn8AAAAAABJG4w8AAAAAQMJo/AEAAAAASBiNPwAAAAAACfv/AdaDY5522VoBAAAAAElFTkSuQmCC\" id=\"image9c1ff9fa96\" transform=\"scale(1 -1) translate(0 -554.4)\" x=\"7.2\" y=\"-22.318125\" width=\"735.84\" height=\"554.4\"/>\n",
              "   </g>\n",
              "   <g id=\"text_1\">\n",
              "    <!-- Generations -->\n",
              "    <g style=\"fill: #262626\" transform=\"translate(338.425889 16.318125) scale(0.12 -0.12)\">\n",
              "     <defs>\n",
              "      <path id=\"DejaVuSans-47\" d=\"M 3809 666 \n",
              "L 3809 1919 \n",
              "L 2778 1919 \n",
              "L 2778 2438 \n",
              "L 4434 2438 \n",
              "L 4434 434 \n",
              "Q 4069 175 3628 42 \n",
              "Q 3188 -91 2688 -91 \n",
              "Q 1594 -91 976 548 \n",
              "Q 359 1188 359 2328 \n",
              "Q 359 3472 976 4111 \n",
              "Q 1594 4750 2688 4750 \n",
              "Q 3144 4750 3555 4637 \n",
              "Q 3966 4525 4313 4306 \n",
              "L 4313 3634 \n",
              "Q 3963 3931 3569 4081 \n",
              "Q 3175 4231 2741 4231 \n",
              "Q 1884 4231 1454 3753 \n",
              "Q 1025 3275 1025 2328 \n",
              "Q 1025 1384 1454 906 \n",
              "Q 1884 428 2741 428 \n",
              "Q 3075 428 3337 486 \n",
              "Q 3600 544 3809 666 \n",
              "z\n",
              "\" transform=\"scale(0.015625)\"/>\n",
              "      <path id=\"DejaVuSans-65\" d=\"M 3597 1894 \n",
              "L 3597 1613 \n",
              "L 953 1613 \n",
              "Q 991 1019 1311 708 \n",
              "Q 1631 397 2203 397 \n",
              "Q 2534 397 2845 478 \n",
              "Q 3156 559 3463 722 \n",
              "L 3463 178 \n",
              "Q 3153 47 2828 -22 \n",
              "Q 2503 -91 2169 -91 \n",
              "Q 1331 -91 842 396 \n",
              "Q 353 884 353 1716 \n",
              "Q 353 2575 817 3079 \n",
              "Q 1281 3584 2069 3584 \n",
              "Q 2775 3584 3186 3129 \n",
              "Q 3597 2675 3597 1894 \n",
              "z\n",
              "M 3022 2063 \n",
              "Q 3016 2534 2758 2815 \n",
              "Q 2500 3097 2075 3097 \n",
              "Q 1594 3097 1305 2825 \n",
              "Q 1016 2553 972 2059 \n",
              "L 3022 2063 \n",
              "z\n",
              "\" transform=\"scale(0.015625)\"/>\n",
              "      <path id=\"DejaVuSans-6e\" d=\"M 3513 2113 \n",
              "L 3513 0 \n",
              "L 2938 0 \n",
              "L 2938 2094 \n",
              "Q 2938 2591 2744 2837 \n",
              "Q 2550 3084 2163 3084 \n",
              "Q 1697 3084 1428 2787 \n",
              "Q 1159 2491 1159 1978 \n",
              "L 1159 0 \n",
              "L 581 0 \n",
              "L 581 3500 \n",
              "L 1159 3500 \n",
              "L 1159 2956 \n",
              "Q 1366 3272 1645 3428 \n",
              "Q 1925 3584 2291 3584 \n",
              "Q 2894 3584 3203 3211 \n",
              "Q 3513 2838 3513 2113 \n",
              "z\n",
              "\" transform=\"scale(0.015625)\"/>\n",
              "      <path id=\"DejaVuSans-72\" d=\"M 2631 2963 \n",
              "Q 2534 3019 2420 3045 \n",
              "Q 2306 3072 2169 3072 \n",
              "Q 1681 3072 1420 2755 \n",
              "Q 1159 2438 1159 1844 \n",
              "L 1159 0 \n",
              "L 581 0 \n",
              "L 581 3500 \n",
              "L 1159 3500 \n",
              "L 1159 2956 \n",
              "Q 1341 3275 1631 3429 \n",
              "Q 1922 3584 2338 3584 \n",
              "Q 2397 3584 2469 3576 \n",
              "Q 2541 3569 2628 3553 \n",
              "L 2631 2963 \n",
              "z\n",
              "\" transform=\"scale(0.015625)\"/>\n",
              "      <path id=\"DejaVuSans-61\" d=\"M 2194 1759 \n",
              "Q 1497 1759 1228 1600 \n",
              "Q 959 1441 959 1056 \n",
              "Q 959 750 1161 570 \n",
              "Q 1363 391 1709 391 \n",
              "Q 2188 391 2477 730 \n",
              "Q 2766 1069 2766 1631 \n",
              "L 2766 1759 \n",
              "L 2194 1759 \n",
              "z\n",
              "M 3341 1997 \n",
              "L 3341 0 \n",
              "L 2766 0 \n",
              "L 2766 531 \n",
              "Q 2569 213 2275 61 \n",
              "Q 1981 -91 1556 -91 \n",
              "Q 1019 -91 701 211 \n",
              "Q 384 513 384 1019 \n",
              "Q 384 1609 779 1909 \n",
              "Q 1175 2209 1959 2209 \n",
              "L 2766 2209 \n",
              "L 2766 2266 \n",
              "Q 2766 2663 2505 2880 \n",
              "Q 2244 3097 1772 3097 \n",
              "Q 1472 3097 1187 3025 \n",
              "Q 903 2953 641 2809 \n",
              "L 641 3341 \n",
              "Q 956 3463 1253 3523 \n",
              "Q 1550 3584 1831 3584 \n",
              "Q 2591 3584 2966 3190 \n",
              "Q 3341 2797 3341 1997 \n",
              "z\n",
              "\" transform=\"scale(0.015625)\"/>\n",
              "      <path id=\"DejaVuSans-74\" d=\"M 1172 4494 \n",
              "L 1172 3500 \n",
              "L 2356 3500 \n",
              "L 2356 3053 \n",
              "L 1172 3053 \n",
              "L 1172 1153 \n",
              "Q 1172 725 1289 603 \n",
              "Q 1406 481 1766 481 \n",
              "L 2356 481 \n",
              "L 2356 0 \n",
              "L 1766 0 \n",
              "Q 1100 0 847 248 \n",
              "Q 594 497 594 1153 \n",
              "L 594 3053 \n",
              "L 172 3053 \n",
              "L 172 3500 \n",
              "L 594 3500 \n",
              "L 594 4494 \n",
              "L 1172 4494 \n",
              "z\n",
              "\" transform=\"scale(0.015625)\"/>\n",
              "      <path id=\"DejaVuSans-69\" d=\"M 603 3500 \n",
              "L 1178 3500 \n",
              "L 1178 0 \n",
              "L 603 0 \n",
              "L 603 3500 \n",
              "z\n",
              "M 603 4863 \n",
              "L 1178 4863 \n",
              "L 1178 4134 \n",
              "L 603 4134 \n",
              "L 603 4863 \n",
              "z\n",
              "\" transform=\"scale(0.015625)\"/>\n",
              "      <path id=\"DejaVuSans-6f\" d=\"M 1959 3097 \n",
              "Q 1497 3097 1228 2736 \n",
              "Q 959 2375 959 1747 \n",
              "Q 959 1119 1226 758 \n",
              "Q 1494 397 1959 397 \n",
              "Q 2419 397 2687 759 \n",
              "Q 2956 1122 2956 1747 \n",
              "Q 2956 2369 2687 2733 \n",
              "Q 2419 3097 1959 3097 \n",
              "z\n",
              "M 1959 3584 \n",
              "Q 2709 3584 3137 3096 \n",
              "Q 3566 2609 3566 1747 \n",
              "Q 3566 888 3137 398 \n",
              "Q 2709 -91 1959 -91 \n",
              "Q 1206 -91 779 398 \n",
              "Q 353 888 353 1747 \n",
              "Q 353 2609 779 3096 \n",
              "Q 1206 3584 1959 3584 \n",
              "z\n",
              "\" transform=\"scale(0.015625)\"/>\n",
              "      <path id=\"DejaVuSans-73\" d=\"M 2834 3397 \n",
              "L 2834 2853 \n",
              "Q 2591 2978 2328 3040 \n",
              "Q 2066 3103 1784 3103 \n",
              "Q 1356 3103 1142 2972 \n",
              "Q 928 2841 928 2578 \n",
              "Q 928 2378 1081 2264 \n",
              "Q 1234 2150 1697 2047 \n",
              "L 1894 2003 \n",
              "Q 2506 1872 2764 1633 \n",
              "Q 3022 1394 3022 966 \n",
              "Q 3022 478 2636 193 \n",
              "Q 2250 -91 1575 -91 \n",
              "Q 1294 -91 989 -36 \n",
              "Q 684 19 347 128 \n",
              "L 347 722 \n",
              "Q 666 556 975 473 \n",
              "Q 1284 391 1588 391 \n",
              "Q 1994 391 2212 530 \n",
              "Q 2431 669 2431 922 \n",
              "Q 2431 1156 2273 1281 \n",
              "Q 2116 1406 1581 1522 \n",
              "L 1381 1569 \n",
              "Q 847 1681 609 1914 \n",
              "Q 372 2147 372 2553 \n",
              "Q 372 3047 722 3315 \n",
              "Q 1072 3584 1716 3584 \n",
              "Q 2034 3584 2315 3537 \n",
              "Q 2597 3491 2834 3397 \n",
              "z\n",
              "\" transform=\"scale(0.015625)\"/>\n",
              "     </defs>\n",
              "     <use xlink:href=\"#DejaVuSans-47\"/>\n",
              "     <use xlink:href=\"#DejaVuSans-65\" x=\"77.490234\"/>\n",
              "     <use xlink:href=\"#DejaVuSans-6e\" x=\"139.013672\"/>\n",
              "     <use xlink:href=\"#DejaVuSans-65\" x=\"202.392578\"/>\n",
              "     <use xlink:href=\"#DejaVuSans-72\" x=\"263.916016\"/>\n",
              "     <use xlink:href=\"#DejaVuSans-61\" x=\"305.029297\"/>\n",
              "     <use xlink:href=\"#DejaVuSans-74\" x=\"366.308594\"/>\n",
              "     <use xlink:href=\"#DejaVuSans-69\" x=\"405.517578\"/>\n",
              "     <use xlink:href=\"#DejaVuSans-6f\" x=\"433.300781\"/>\n",
              "     <use xlink:href=\"#DejaVuSans-6e\" x=\"494.482422\"/>\n",
              "     <use xlink:href=\"#DejaVuSans-73\" x=\"557.861328\"/>\n",
              "    </g>\n",
              "   </g>\n",
              "  </g>\n",
              " </g>\n",
              " <defs>\n",
              "  <clipPath id=\"p47720850ab\">\n",
              "   <rect x=\"7.2\" y=\"22.318125\" width=\"735.646154\" height=\"554.4\"/>\n",
              "  </clipPath>\n",
              " </defs>\n",
              "</svg>\n"
            ],
            "text/plain": [
              "<Figure size 1500x1000 with 1 Axes>"
            ]
          },
          "metadata": {},
          "output_type": "display_data"
        }
      ],
      "source": [
        "generate_images(vae, 10, device)"
      ]
    },
    {
      "cell_type": "code",
      "execution_count": 48,
      "metadata": {},
      "outputs": [],
      "source": [
        "def im_save(img, path):\n",
        "    img = img / 2 + 0.5     # unnormalize\n",
        "    save_image(img, path)\n",
        "\n",
        "def evaluate_model(model, train_data, encoding: list, train_classes):\n",
        "    train_loader = torch.utils.data.DataLoader(train_data, batch_size=10, shuffle=True, drop_last=True, pin_memory=True, num_workers=4)\n",
        "    images, labels = next(iter(train_loader))\n",
        "    rmd_to_genrate = torch.randn([10, model.latent_dim])\n",
        "    encoded_classes = get_classes_encoded(train_classes, labels, encoding)\n",
        "\n",
        "    classes_to_generate = torch.concat((rmd_to_genrate, encoded_classes), dim=1)\n",
        "    with torch.no_grad():\n",
        "        generated_imgs = model.decoder(classes_to_generate).to(device)\n",
        "    generated_imgs = generated_imgs.cpu()\n",
        "    for i, img in enumerate(generated_imgs):\n",
        "        im_save(img, f'gen_eval/img{i}.jpg')\n",
        "    for i, img in enumerate(images):\n",
        "        im_save(img, f'real_eval/img{i}.jpg')\n",
        "    paths = ['/home/michal/sem6/ssne/ssne/real_eval, /home/michal/sem6/ssne/ssne/gen_eval']\n",
        "    return fid_score.calculate_fid_given_paths(paths, batch_size=200, device='cpu', dims=2048)\n"
      ]
    },
    {
      "cell_type": "code",
      "execution_count": 49,
      "metadata": {},
      "outputs": [
        {
          "ename": "RuntimeError",
          "evalue": "Invalid path: /home/michal/sem6/ssne/ssne/real_eval, /home/michal/sem6/ssne/ssne/gen_eval",
          "output_type": "error",
          "traceback": [
            "\u001b[0;31m---------------------------------------------------------------------------\u001b[0m",
            "\u001b[0;31mRuntimeError\u001b[0m                              Traceback (most recent call last)",
            "Cell \u001b[0;32mIn[49], line 1\u001b[0m\n\u001b[0;32m----> 1\u001b[0m \u001b[43mevaluate_model\u001b[49m\u001b[43m(\u001b[49m\u001b[43mvae\u001b[49m\u001b[43m,\u001b[49m\u001b[43m \u001b[49m\u001b[43mtrain_data\u001b[49m\u001b[43m,\u001b[49m\u001b[43m \u001b[49m\u001b[43mencoding\u001b[49m\u001b[43m,\u001b[49m\u001b[43m \u001b[49m\u001b[43mtrain_classes\u001b[49m\u001b[43m)\u001b[49m\n\u001b[1;32m      3\u001b[0m os\u001b[38;5;241m.\u001b[39mpath\u001b[38;5;241m.\u001b[39mexists(\u001b[38;5;124m'\u001b[39m\u001b[38;5;124m/home/michal/sem6/ssne/ssne/gen_eval\u001b[39m\u001b[38;5;124m'\u001b[39m)\n",
            "Cell \u001b[0;32mIn[48], line 20\u001b[0m, in \u001b[0;36mevaluate_model\u001b[0;34m(model, train_data, encoding, train_classes)\u001b[0m\n\u001b[1;32m     18\u001b[0m     im_save(img, \u001b[38;5;124mf\u001b[39m\u001b[38;5;124m'\u001b[39m\u001b[38;5;124mreal_eval/img\u001b[39m\u001b[38;5;132;01m{\u001b[39;00mi\u001b[38;5;132;01m}\u001b[39;00m\u001b[38;5;124m.jpg\u001b[39m\u001b[38;5;124m'\u001b[39m)\n\u001b[1;32m     19\u001b[0m paths \u001b[38;5;241m=\u001b[39m [\u001b[38;5;124m'\u001b[39m\u001b[38;5;124m/home/michal/sem6/ssne/ssne/real_eval, /home/michal/sem6/ssne/ssne/gen_eval\u001b[39m\u001b[38;5;124m'\u001b[39m]\n\u001b[0;32m---> 20\u001b[0m \u001b[38;5;28;01mreturn\u001b[39;00m \u001b[43mfid_score\u001b[49m\u001b[38;5;241;43m.\u001b[39;49m\u001b[43mcalculate_fid_given_paths\u001b[49m\u001b[43m(\u001b[49m\u001b[43mpaths\u001b[49m\u001b[43m,\u001b[49m\u001b[43m \u001b[49m\u001b[43mbatch_size\u001b[49m\u001b[38;5;241;43m=\u001b[39;49m\u001b[38;5;241;43m200\u001b[39;49m\u001b[43m,\u001b[49m\u001b[43m \u001b[49m\u001b[43mdevice\u001b[49m\u001b[38;5;241;43m=\u001b[39;49m\u001b[38;5;124;43m'\u001b[39;49m\u001b[38;5;124;43mcpu\u001b[39;49m\u001b[38;5;124;43m'\u001b[39;49m\u001b[43m,\u001b[49m\u001b[43m \u001b[49m\u001b[43mdims\u001b[49m\u001b[38;5;241;43m=\u001b[39;49m\u001b[38;5;241;43m2048\u001b[39;49m\u001b[43m)\u001b[49m\n",
            "File \u001b[0;32m~/.local/lib/python3.10/site-packages/pytorch_fid/fid_score.py:253\u001b[0m, in \u001b[0;36mcalculate_fid_given_paths\u001b[0;34m(paths, batch_size, device, dims, num_workers)\u001b[0m\n\u001b[1;32m    251\u001b[0m \u001b[38;5;28;01mfor\u001b[39;00m p \u001b[38;5;129;01min\u001b[39;00m paths:\n\u001b[1;32m    252\u001b[0m     \u001b[38;5;28;01mif\u001b[39;00m \u001b[38;5;129;01mnot\u001b[39;00m os\u001b[38;5;241m.\u001b[39mpath\u001b[38;5;241m.\u001b[39mexists(p):\n\u001b[0;32m--> 253\u001b[0m         \u001b[38;5;28;01mraise\u001b[39;00m \u001b[38;5;167;01mRuntimeError\u001b[39;00m(\u001b[38;5;124m'\u001b[39m\u001b[38;5;124mInvalid path: \u001b[39m\u001b[38;5;132;01m%s\u001b[39;00m\u001b[38;5;124m'\u001b[39m \u001b[38;5;241m%\u001b[39m p)\n\u001b[1;32m    255\u001b[0m block_idx \u001b[38;5;241m=\u001b[39m InceptionV3\u001b[38;5;241m.\u001b[39mBLOCK_INDEX_BY_DIM[dims]\n\u001b[1;32m    257\u001b[0m model \u001b[38;5;241m=\u001b[39m InceptionV3([block_idx])\u001b[38;5;241m.\u001b[39mto(device)\n",
            "\u001b[0;31mRuntimeError\u001b[0m: Invalid path: /home/michal/sem6/ssne/ssne/real_eval, /home/michal/sem6/ssne/ssne/gen_eval"
          ]
        }
      ],
      "source": [
        "evaluate_model(vae, train_data, encoding, train_classes)"
      ]
    }
  ],
  "metadata": {
    "colab": {
      "provenance": []
    },
    "kernelspec": {
      "display_name": "Python 3",
      "name": "python3"
    },
    "language_info": {
      "codemirror_mode": {
        "name": "ipython",
        "version": 3
      },
      "file_extension": ".py",
      "mimetype": "text/x-python",
      "name": "python",
      "nbconvert_exporter": "python",
      "pygments_lexer": "ipython3",
      "version": "3.10.12"
    }
  },
  "nbformat": 4,
  "nbformat_minor": 0
}
