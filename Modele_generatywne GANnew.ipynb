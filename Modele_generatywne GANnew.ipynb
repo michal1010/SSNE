{
 "cells": [
  {
   "cell_type": "code",
   "execution_count": 4,
   "metadata": {
    "colab": {
     "base_uri": "https://localhost:8080/"
    },
    "id": "igK4UIO7RCZq",
    "outputId": "b61f2af1-9f3d-4a39-bf7a-23c8f8aa2431"
   },
   "outputs": [
    {
     "name": "stderr",
     "output_type": "stream",
     "text": [
      "/tmp/ipykernel_1567/2475230352.py:11: DeprecationWarning: `set_matplotlib_formats` is deprecated since IPython 7.23, directly use `matplotlib_inline.backend_inline.set_matplotlib_formats()`\n",
      "  set_matplotlib_formats('svg', 'pdf') # For export\n"
     ]
    }
   ],
   "source": [
    "import os\n",
    "import json\n",
    "import math\n",
    "import numpy as np\n",
    "import pandas as pd\n",
    "\n",
    "## Imports for plotting\n",
    "import matplotlib.pyplot as plt\n",
    "%matplotlib inline\n",
    "from IPython.display import set_matplotlib_formats\n",
    "set_matplotlib_formats('svg', 'pdf') # For export\n",
    "from matplotlib.colors import to_rgb\n",
    "import matplotlib\n",
    "matplotlib.rcParams['lines.linewidth'] = 2.0\n",
    "import seaborn as sns\n",
    "sns.reset_orig()\n",
    "sns.set()\n",
    "\n",
    "\n",
    "## PyTorch\n",
    "import torch\n",
    "import torch.nn as nn\n",
    "import torch.nn.functional as F\n",
    "import torch.utils.data as data\n",
    "import torch.optim as optim\n",
    "# Torchvision\n",
    "import torchvision\n",
    "from torchvision.utils import save_image\n",
    "from torchvision.datasets import FashionMNIST\n",
    "from torchvision.transforms import v2\n",
    "from torchvision.datasets import ImageFolder\n",
    "from torch.nn.functional import one_hot\n",
    "\n",
    "from pytorch_fid import fid_score"
   ]
  },
  {
   "cell_type": "code",
   "execution_count": 5,
   "metadata": {
    "colab": {
     "base_uri": "https://localhost:8080/"
    },
    "id": "InKaM_zDRqeC",
    "outputId": "a1ec84ca-522a-4bdd-d90f-ce71e4e00b5f"
   },
   "outputs": [
    {
     "name": "stdout",
     "output_type": "stream",
     "text": [
      "Device: cuda\n"
     ]
    }
   ],
   "source": [
    "device = torch.device(\"cuda\") if torch.cuda.is_available() else torch.device(\"cpu\")\n",
    "print(\"Device:\", device)"
   ]
  },
  {
   "cell_type": "code",
   "execution_count": 8,
   "metadata": {
    "colab": {
     "base_uri": "https://localhost:8080/"
    },
    "id": "UQLFeVjWUfZ6",
    "outputId": "59a6d66f-065c-4132-f5a3-bf62873eb965"
   },
   "outputs": [],
   "source": [
    "transform = v2.Compose(\n",
    "    [\n",
    "     v2.ToTensor(),\n",
    "     #v2.Normalize((0.5, 0.5, 0.5), (0.5, 0.5, 0.5)),\n",
    "    ])\n",
    "\n",
    "train_data = ImageFolder('./trafic_32', transform=transform)\n",
    "train_classes = train_data.classes\n",
    "train_classes = [name.lstrip('0') if name != '00000' else '0' for name in train_classes]"
   ]
  },
  {
   "cell_type": "code",
   "execution_count": 9,
   "metadata": {
    "id": "dg0xeIAj_y_f"
   },
   "outputs": [],
   "source": [
    "train_loader = data.DataLoader(train_data, batch_size=256, shuffle=True, drop_last=True, pin_memory=True, num_workers=4)"
   ]
  },
  {
   "cell_type": "code",
   "execution_count": 10,
   "metadata": {},
   "outputs": [
    {
     "data": {
      "text/plain": [
       "tensor(11)"
      ]
     },
     "execution_count": 10,
     "metadata": {},
     "output_type": "execute_result"
    }
   ],
   "source": [
    "data, classes = next(iter(train_loader))\n",
    "classes[0]"
   ]
  },
  {
   "cell_type": "markdown",
   "metadata": {
    "id": "Ma4TzFF4VQuc"
   },
   "source": [
    "## GAN"
   ]
  },
  {
   "cell_type": "code",
   "execution_count": 41,
   "metadata": {},
   "outputs": [],
   "source": [
    "NUBMER_OF_CLASSES = 43"
   ]
  },
  {
   "cell_type": "code",
   "execution_count": 42,
   "metadata": {},
   "outputs": [],
   "source": [
    "class Discriminator(nn.Module):\n",
    "    def __init__(self, input_dim, hidden_dim):\n",
    "        super(Discriminator, self).__init__()\n",
    "\n",
    "        self.fc_1 = nn.Linear(input_dim + NUBMER_OF_CLASSES, hidden_dim)\n",
    "        self.fc_2 = nn.Linear(hidden_dim, hidden_dim)\n",
    "        self.fc_out  = nn.Linear(hidden_dim, 1)\n",
    "\n",
    "        self.LeakyReLU = nn.LeakyReLU(0.2)\n",
    "\n",
    "    def forward(self, x, classes_encoded):\n",
    "        x = torch.flatten(x, 1)\n",
    "        x = torch.concat((x, classes_encoded), dim=1)\n",
    "\n",
    "        x = self.LeakyReLU(self.fc_1(x))\n",
    "        x = self.LeakyReLU(self.fc_2(x))\n",
    "        x = self.fc_out(x)\n",
    "        return x"
   ]
  },
  {
   "cell_type": "code",
   "execution_count": 62,
   "metadata": {},
   "outputs": [],
   "source": [
    "class Generator(nn.Module):\n",
    "    def __init__(self, latent_dim, hidden_dim1, hidden_dim2, output_dim):\n",
    "        super(Generator, self).__init__()\n",
    "        self.fc_1 = nn.Linear(latent_dim + NUBMER_OF_CLASSES, hidden_dim1)\n",
    "        self.fc_2 = nn.Linear(hidden_dim1, hidden_dim1)\n",
    "        self.fc_3 = nn.Linear(hidden_dim1, hidden_dim2)\n",
    "        self.fc_4 = nn.Linear(hidden_dim2, output_dim)\n",
    "        self.bn1 = nn.BatchNorm2d(hidden_dim1)\n",
    "        self.bn2 = nn.BatchNorm2d(hidden_dim1)\n",
    "        self.bn3 = nn.BatchNorm2d(hidden_dim2)\n",
    "\n",
    "        self.LeakyReLU = nn.LeakyReLU(0.2)\n",
    "\n",
    "    def forward(self, x, classes_encoded):\n",
    "        h = torch.concat((x, classes_encoded), dim=1)\n",
    "\n",
    "        h     = self.LeakyReLU(self.fc_1(h))\n",
    "        h = self.bn1(h)\n",
    "        h     = self.LeakyReLU(self.fc_2(h))\n",
    "        h = self.bn2(g)\n",
    "        h     = self.LeakyReLU(self.fc_3(h))\n",
    "        h = self.bn3(g)\n",
    "\n",
    "\n",
    "        x_hat = torch.sigmoid(self.fc_4(h))\n",
    "        x_hat = x_hat.view([-1, 3, 32, 32])\n",
    "        return x_hat"
   ]
  },
  {
   "cell_type": "code",
   "execution_count": 63,
   "metadata": {},
   "outputs": [],
   "source": [
    "# Models\n",
    "latent_dim = 32\n",
    "generator = Generator(latent_dim=latent_dim, hidden_dim1=256, hidden_dim2=64, output_dim=3072).to(device)\n",
    "discriminator = Discriminator( hidden_dim=256, input_dim=3072).to(device)\n",
    "\n",
    "# Optimizers\n",
    "generator_optimizer = torch.optim.Adam(generator.parameters(), lr=0.0001)\n",
    "generator_scheduler = optim.lr_scheduler.ExponentialLR(optimizer=generator_optimizer, gamma=0.99)\n",
    "discriminator_optimizer = torch.optim.Adam(discriminator.parameters(), lr=0.0001)\n",
    "discriminator_scheduler = optim.lr_scheduler.ExponentialLR(optimizer=discriminator_optimizer, gamma=0.99)\n",
    "\n",
    "# loss\n",
    "criterion = nn.MSELoss()"
   ]
  },
  {
   "cell_type": "code",
   "execution_count": 64,
   "metadata": {},
   "outputs": [],
   "source": [
    "def get_classes_encoded(train_classes: list, classes_names: list, encoding):\n",
    "    return torch.stack([encoding[train_classes.index(str(name.item()))] for name in classes_names], dim=0)"
   ]
  },
  {
   "cell_type": "code",
   "execution_count": 65,
   "metadata": {},
   "outputs": [],
   "source": [
    "def combine(images, encodings):\n",
    "    encodings = encodings.unsqueeze(0).unsqueeze(1).unsqueeze(2).unsqueeze(3)\n",
    "    encodings = encodings.expand(254, 3, 32, 32, 43)"
   ]
  },
  {
   "cell_type": "code",
   "execution_count": 66,
   "metadata": {},
   "outputs": [],
   "source": [
    "encoding = one_hot(torch.arange(0, 43), 43)"
   ]
  },
  {
   "cell_type": "code",
   "execution_count": 67,
   "metadata": {},
   "outputs": [],
   "source": [
    "fixed_noise = torch.randn(8, latent_dim,device=device)"
   ]
  },
  {
   "cell_type": "code",
   "execution_count": 68,
   "metadata": {
    "id": "ImmRF3AGVURi"
   },
   "outputs": [
    {
     "ename": "ValueError",
     "evalue": "expected 4D input (got 2D input)",
     "output_type": "error",
     "traceback": [
      "\u001b[0;31m---------------------------------------------------------------------------\u001b[0m",
      "\u001b[0;31mValueError\u001b[0m                                Traceback (most recent call last)",
      "Cell \u001b[0;32mIn[68], line 33\u001b[0m\n\u001b[1;32m     30\u001b[0m noise \u001b[38;5;241m=\u001b[39m torch\u001b[38;5;241m.\u001b[39mrandn(b_size, latent_dim,device\u001b[38;5;241m=\u001b[39mdevice)\n\u001b[1;32m     31\u001b[0m \u001b[38;5;66;03m# Generate fake image batch with Generator\u001b[39;00m\n\u001b[0;32m---> 33\u001b[0m fake_images \u001b[38;5;241m=\u001b[39m \u001b[43mgenerator\u001b[49m\u001b[43m(\u001b[49m\u001b[43mnoise\u001b[49m\u001b[43m,\u001b[49m\u001b[43m \u001b[49m\u001b[43mclasses_encoded\u001b[49m\u001b[43m)\u001b[49m\n\u001b[1;32m     34\u001b[0m label_fake \u001b[38;5;241m=\u001b[39m torch\u001b[38;5;241m.\u001b[39mzeros((b_size,), dtype\u001b[38;5;241m=\u001b[39mtorch\u001b[38;5;241m.\u001b[39mfloat, device\u001b[38;5;241m=\u001b[39mdevice)\n\u001b[1;32m     35\u001b[0m \u001b[38;5;66;03m# Classify all fake batch with Discriminator\u001b[39;00m\n",
      "File \u001b[0;32m/usr/local/lib/python3.10/dist-packages/torch/nn/modules/module.py:1501\u001b[0m, in \u001b[0;36mModule._call_impl\u001b[0;34m(self, *args, **kwargs)\u001b[0m\n\u001b[1;32m   1496\u001b[0m \u001b[38;5;66;03m# If we don't have any hooks, we want to skip the rest of the logic in\u001b[39;00m\n\u001b[1;32m   1497\u001b[0m \u001b[38;5;66;03m# this function, and just call forward.\u001b[39;00m\n\u001b[1;32m   1498\u001b[0m \u001b[38;5;28;01mif\u001b[39;00m \u001b[38;5;129;01mnot\u001b[39;00m (\u001b[38;5;28mself\u001b[39m\u001b[38;5;241m.\u001b[39m_backward_hooks \u001b[38;5;129;01mor\u001b[39;00m \u001b[38;5;28mself\u001b[39m\u001b[38;5;241m.\u001b[39m_backward_pre_hooks \u001b[38;5;129;01mor\u001b[39;00m \u001b[38;5;28mself\u001b[39m\u001b[38;5;241m.\u001b[39m_forward_hooks \u001b[38;5;129;01mor\u001b[39;00m \u001b[38;5;28mself\u001b[39m\u001b[38;5;241m.\u001b[39m_forward_pre_hooks\n\u001b[1;32m   1499\u001b[0m         \u001b[38;5;129;01mor\u001b[39;00m _global_backward_pre_hooks \u001b[38;5;129;01mor\u001b[39;00m _global_backward_hooks\n\u001b[1;32m   1500\u001b[0m         \u001b[38;5;129;01mor\u001b[39;00m _global_forward_hooks \u001b[38;5;129;01mor\u001b[39;00m _global_forward_pre_hooks):\n\u001b[0;32m-> 1501\u001b[0m     \u001b[38;5;28;01mreturn\u001b[39;00m \u001b[43mforward_call\u001b[49m\u001b[43m(\u001b[49m\u001b[38;5;241;43m*\u001b[39;49m\u001b[43margs\u001b[49m\u001b[43m,\u001b[49m\u001b[43m \u001b[49m\u001b[38;5;241;43m*\u001b[39;49m\u001b[38;5;241;43m*\u001b[39;49m\u001b[43mkwargs\u001b[49m\u001b[43m)\u001b[49m\n\u001b[1;32m   1502\u001b[0m \u001b[38;5;66;03m# Do not call functions when jit is used\u001b[39;00m\n\u001b[1;32m   1503\u001b[0m full_backward_hooks, non_full_backward_hooks \u001b[38;5;241m=\u001b[39m [], []\n",
      "Cell \u001b[0;32mIn[62], line 18\u001b[0m, in \u001b[0;36mGenerator.forward\u001b[0;34m(self, x, classes_encoded)\u001b[0m\n\u001b[1;32m     15\u001b[0m h \u001b[38;5;241m=\u001b[39m torch\u001b[38;5;241m.\u001b[39mconcat((x, classes_encoded), dim\u001b[38;5;241m=\u001b[39m\u001b[38;5;241m1\u001b[39m)\n\u001b[1;32m     17\u001b[0m h     \u001b[38;5;241m=\u001b[39m \u001b[38;5;28mself\u001b[39m\u001b[38;5;241m.\u001b[39mLeakyReLU(\u001b[38;5;28mself\u001b[39m\u001b[38;5;241m.\u001b[39mfc_1(h))\n\u001b[0;32m---> 18\u001b[0m h \u001b[38;5;241m=\u001b[39m \u001b[38;5;28;43mself\u001b[39;49m\u001b[38;5;241;43m.\u001b[39;49m\u001b[43mbn1\u001b[49m\u001b[43m(\u001b[49m\u001b[43mh\u001b[49m\u001b[43m)\u001b[49m\n\u001b[1;32m     19\u001b[0m h     \u001b[38;5;241m=\u001b[39m \u001b[38;5;28mself\u001b[39m\u001b[38;5;241m.\u001b[39mLeakyReLU(\u001b[38;5;28mself\u001b[39m\u001b[38;5;241m.\u001b[39mfc_2(h))\n\u001b[1;32m     20\u001b[0m h \u001b[38;5;241m=\u001b[39m \u001b[38;5;28mself\u001b[39m\u001b[38;5;241m.\u001b[39mbn2(g)\n",
      "File \u001b[0;32m/usr/local/lib/python3.10/dist-packages/torch/nn/modules/module.py:1501\u001b[0m, in \u001b[0;36mModule._call_impl\u001b[0;34m(self, *args, **kwargs)\u001b[0m\n\u001b[1;32m   1496\u001b[0m \u001b[38;5;66;03m# If we don't have any hooks, we want to skip the rest of the logic in\u001b[39;00m\n\u001b[1;32m   1497\u001b[0m \u001b[38;5;66;03m# this function, and just call forward.\u001b[39;00m\n\u001b[1;32m   1498\u001b[0m \u001b[38;5;28;01mif\u001b[39;00m \u001b[38;5;129;01mnot\u001b[39;00m (\u001b[38;5;28mself\u001b[39m\u001b[38;5;241m.\u001b[39m_backward_hooks \u001b[38;5;129;01mor\u001b[39;00m \u001b[38;5;28mself\u001b[39m\u001b[38;5;241m.\u001b[39m_backward_pre_hooks \u001b[38;5;129;01mor\u001b[39;00m \u001b[38;5;28mself\u001b[39m\u001b[38;5;241m.\u001b[39m_forward_hooks \u001b[38;5;129;01mor\u001b[39;00m \u001b[38;5;28mself\u001b[39m\u001b[38;5;241m.\u001b[39m_forward_pre_hooks\n\u001b[1;32m   1499\u001b[0m         \u001b[38;5;129;01mor\u001b[39;00m _global_backward_pre_hooks \u001b[38;5;129;01mor\u001b[39;00m _global_backward_hooks\n\u001b[1;32m   1500\u001b[0m         \u001b[38;5;129;01mor\u001b[39;00m _global_forward_hooks \u001b[38;5;129;01mor\u001b[39;00m _global_forward_pre_hooks):\n\u001b[0;32m-> 1501\u001b[0m     \u001b[38;5;28;01mreturn\u001b[39;00m \u001b[43mforward_call\u001b[49m\u001b[43m(\u001b[49m\u001b[38;5;241;43m*\u001b[39;49m\u001b[43margs\u001b[49m\u001b[43m,\u001b[49m\u001b[43m \u001b[49m\u001b[38;5;241;43m*\u001b[39;49m\u001b[38;5;241;43m*\u001b[39;49m\u001b[43mkwargs\u001b[49m\u001b[43m)\u001b[49m\n\u001b[1;32m   1502\u001b[0m \u001b[38;5;66;03m# Do not call functions when jit is used\u001b[39;00m\n\u001b[1;32m   1503\u001b[0m full_backward_hooks, non_full_backward_hooks \u001b[38;5;241m=\u001b[39m [], []\n",
      "File \u001b[0;32m/usr/local/lib/python3.10/dist-packages/torch/nn/modules/batchnorm.py:138\u001b[0m, in \u001b[0;36m_BatchNorm.forward\u001b[0;34m(self, input)\u001b[0m\n\u001b[1;32m    137\u001b[0m \u001b[38;5;28;01mdef\u001b[39;00m \u001b[38;5;21mforward\u001b[39m(\u001b[38;5;28mself\u001b[39m, \u001b[38;5;28minput\u001b[39m: Tensor) \u001b[38;5;241m-\u001b[39m\u001b[38;5;241m>\u001b[39m Tensor:\n\u001b[0;32m--> 138\u001b[0m     \u001b[38;5;28;43mself\u001b[39;49m\u001b[38;5;241;43m.\u001b[39;49m\u001b[43m_check_input_dim\u001b[49m\u001b[43m(\u001b[49m\u001b[38;5;28;43minput\u001b[39;49m\u001b[43m)\u001b[49m\n\u001b[1;32m    140\u001b[0m     \u001b[38;5;66;03m# exponential_average_factor is set to self.momentum\u001b[39;00m\n\u001b[1;32m    141\u001b[0m     \u001b[38;5;66;03m# (when it is available) only so that it gets updated\u001b[39;00m\n\u001b[1;32m    142\u001b[0m     \u001b[38;5;66;03m# in ONNX graph when this node is exported to ONNX.\u001b[39;00m\n\u001b[1;32m    143\u001b[0m     \u001b[38;5;28;01mif\u001b[39;00m \u001b[38;5;28mself\u001b[39m\u001b[38;5;241m.\u001b[39mmomentum \u001b[38;5;129;01mis\u001b[39;00m \u001b[38;5;28;01mNone\u001b[39;00m:\n",
      "File \u001b[0;32m/usr/local/lib/python3.10/dist-packages/torch/nn/modules/batchnorm.py:410\u001b[0m, in \u001b[0;36mBatchNorm2d._check_input_dim\u001b[0;34m(self, input)\u001b[0m\n\u001b[1;32m    408\u001b[0m \u001b[38;5;28;01mdef\u001b[39;00m \u001b[38;5;21m_check_input_dim\u001b[39m(\u001b[38;5;28mself\u001b[39m, \u001b[38;5;28minput\u001b[39m):\n\u001b[1;32m    409\u001b[0m     \u001b[38;5;28;01mif\u001b[39;00m \u001b[38;5;28minput\u001b[39m\u001b[38;5;241m.\u001b[39mdim() \u001b[38;5;241m!=\u001b[39m \u001b[38;5;241m4\u001b[39m:\n\u001b[0;32m--> 410\u001b[0m         \u001b[38;5;28;01mraise\u001b[39;00m \u001b[38;5;167;01mValueError\u001b[39;00m(\u001b[38;5;124m\"\u001b[39m\u001b[38;5;124mexpected 4D input (got \u001b[39m\u001b[38;5;132;01m{}\u001b[39;00m\u001b[38;5;124mD input)\u001b[39m\u001b[38;5;124m\"\u001b[39m\u001b[38;5;241m.\u001b[39mformat(\u001b[38;5;28minput\u001b[39m\u001b[38;5;241m.\u001b[39mdim()))\n",
      "\u001b[0;31mValueError\u001b[0m: expected 4D input (got 2D input)"
     ]
    }
   ],
   "source": [
    "G_losses = []\n",
    "D_losses = []\n",
    "num_epochs = 100\n",
    "for epoch in range(num_epochs):\n",
    "    # For each batch in the dataloader\n",
    "    discriminator_fake_acc = []\n",
    "    discriminator_real_acc = []\n",
    "    for i, data in enumerate(train_loader, 0):\n",
    "\n",
    "        ############################\n",
    "        # (1) Update D network: maximize log(D(x)) + log(1 - D(G(z)))\n",
    "        ###########################\n",
    "        ## Train with all-real batch\n",
    "        discriminator_optimizer.zero_grad()\n",
    "        # Format batch\n",
    "        classes_encoded = get_classes_encoded(train_classes, data[1], encoding).to(device)\n",
    "        real_images = data[0].to(device)\n",
    "\n",
    "        b_size = real_images.size(0)\n",
    "        label = torch.ones((b_size,), dtype=torch.float, device=device) # Setting labels for real images\n",
    "        # Forward pass real batch through D\n",
    "        output = discriminator(real_images, classes_encoded).view(-1)\n",
    "        # Calculate loss on all-real batch\n",
    "        error_discriminator_real = criterion(output, label)\n",
    "        # Calculate gradients for D in backward pass\n",
    "        discriminator_real_acc.append(output.mean().item())\n",
    "\n",
    "        ## Train with all-fake batch\n",
    "        # Generate batch of latent vectors\n",
    "        noise = torch.randn(b_size, latent_dim,device=device)\n",
    "        # Generate fake image batch with Generator\n",
    "\n",
    "        fake_images = generator(noise, classes_encoded)\n",
    "        label_fake = torch.zeros((b_size,), dtype=torch.float, device=device)\n",
    "        # Classify all fake batch with Discriminator\n",
    "        output = discriminator(fake_images.detach(), classes_encoded).view(-1)\n",
    "        # Calculate D's loss on the all-fake batch\n",
    "        error_discriminator_fake = criterion(output, label_fake)\n",
    "        # Calculate the gradients for this batch, accumulated (summed) with previous gradients\n",
    "        discriminator_fake_acc.append(output.mean().item())\n",
    "        # Compute error of D as sum over the fake and the real batches\n",
    "        error_discriminator = error_discriminator_real + error_discriminator_fake\n",
    "        error_discriminator.backward()\n",
    "        # Update D\n",
    "        discriminator_optimizer.step()\n",
    "\n",
    "        ############################\n",
    "        # (2) Update G network: maximize log(D(G(z)))\n",
    "        ###########################\n",
    "        generator_optimizer.zero_grad()\n",
    "        label = torch.ones((b_size,), dtype=torch.float, device=device)  # fake labels are real for generator cost\n",
    "        # Since we just updated D, perform another forward pass of all-fake batch through D\n",
    "\n",
    "        output = discriminator(fake_images, classes_encoded).view(-1)\n",
    "        # Calculate G's loss based on this output\n",
    "        error_generator = criterion(output, label)\n",
    "        # Calculate gradients for G\n",
    "        error_generator.backward()\n",
    "        D_G_z2 = output.mean().item()\n",
    "        # Update G\n",
    "        generator_optimizer.step()\n",
    "\n",
    "        # Output training stats\n",
    "        # Save Losses for plotting later\n",
    "        G_losses.append(error_generator.item())\n",
    "        D_losses.append(error_discriminator.item())\n",
    "\n",
    "    print(f\"Epoch: {epoch}, discrimiantor fake error: {np.mean(discriminator_fake_acc):.3}, discriminator real acc: {np.mean(discriminator_real_acc):.3}\")\n",
    "    generator_scheduler.step()\n",
    "    discriminator_scheduler.step()\n",
    "   \n",
    "    if epoch % 10 == 0:\n",
    "        classes_encoded_small = get_classes_encoded(train_classes, [torch.tensor(1), torch.tensor(2),torch.tensor(3),torch.tensor(16),torch.tensor(23),\\\n",
    "                                                                torch.tensor(34),torch.tensor(8),torch.tensor(9)], encoding).to(device)\n",
    "        with torch.no_grad():\n",
    "            fake = generator(fixed_noise, classes_encoded_small).detach().cpu()\n",
    "        grid = torchvision.utils.make_grid(fake)\n",
    "        grid = grid.permute(1, 2, 0)\n",
    "        plt.figure(figsize=(10,10))\n",
    "        plt.title(f\"Generations\")\n",
    "        plt.imshow(grid)\n",
    "        plt.axis('off')\n",
    "        plt.show()"
   ]
  },
  {
   "cell_type": "code",
   "execution_count": null,
   "metadata": {},
   "outputs": [],
   "source": [
    "def get_train_images(num):\n",
    "    return torch.stack([train_data[i][0] for i in range(10,10+num)], dim=0)"
   ]
  },
  {
   "cell_type": "code",
   "execution_count": null,
   "metadata": {},
   "outputs": [],
   "source": [
    "input_imgs = get_train_images(8)"
   ]
  },
  {
   "cell_type": "code",
   "execution_count": null,
   "metadata": {},
   "outputs": [],
   "source": [
    "def generate_images(model, n_imgs, device):\n",
    "    # Generate images\n",
    "    model.eval()\n",
    "    rmd_to_genrate = torch.randn([n_imgs, model.latent_dim])\n",
    "    classes_to_generate = torch.concat((rmd_to_genrate, encoding[:n_imgs]), dim=1)\n",
    "    with torch.no_grad():\n",
    "        generated_imgs = model.decoder(classes_to_generate).to(device)\n",
    "    generated_imgs = generated_imgs.cpu()\n",
    "\n",
    "\n",
    "    grid = torchvision.utils.make_grid(generated_imgs, nrow=4, normalize=False, value_range=(-1,1))\n",
    "    grid = grid.permute(1, 2, 0)\n",
    "    if len(input_imgs) == 4:\n",
    "        plt.figure(figsize=(10,10))\n",
    "    else:\n",
    "        plt.figure(figsize=(15,10))\n",
    "    plt.title(f\"Generations\")\n",
    "    plt.imshow(grid)\n",
    "    plt.axis('off')\n",
    "    plt.show()"
   ]
  },
  {
   "cell_type": "code",
   "execution_count": null,
   "metadata": {},
   "outputs": [
    {
     "data": {
      "application/pdf": "[encoded data removed]",
      "image/svg+xml": [
       "<?xml version=\"1.0\" encoding=\"utf-8\" standalone=\"no\"?>\n",
       "<!DOCTYPE svg PUBLIC \"-//W3C//DTD SVG 1.1//EN\"\n",
       "  \"http://www.w3.org/Graphics/SVG/1.1/DTD/svg11.dtd\">\n",
       "<svg xmlns:xlink=\"http://www.w3.org/1999/xlink\" width=\"750.046154pt\" height=\"583.918125pt\" viewBox=\"0 0 750.046154 583.918125\" xmlns=\"http://www.w3.org/2000/svg\" version=\"1.1\">\n",
       " <metadata>\n",
       "  <rdf:RDF xmlns:dc=\"http://purl.org/dc/elements/1.1/\" xmlns:cc=\"http://creativecommons.org/ns#\" xmlns:rdf=\"http://www.w3.org/1999/02/22-rdf-syntax-ns#\">\n",
       "   <cc:Work>\n",
       "    <dc:type rdf:resource=\"http://purl.org/dc/dcmitype/StillImage\"/>\n",
       "    <dc:date>2024-05-12T19:44:52.681893</dc:date>\n",
       "    <dc:format>image/svg+xml</dc:format>\n",
       "    <dc:creator>\n",
       "     <cc:Agent>\n",
       "      <dc:title>Matplotlib v3.8.2, https://matplotlib.org/</dc:title>\n",
       "     </cc:Agent>\n",
       "    </dc:creator>\n",
       "   </cc:Work>\n",
       "  </rdf:RDF>\n",
       " </metadata>\n",
       " <defs>\n",
       "  <style type=\"text/css\">*{stroke-linejoin: round; stroke-linecap: butt}</style>\n",
       " </defs>\n",
       " <g id=\"figure_1\">\n",
       "  <g id=\"patch_1\">\n",
       "   <path d=\"M 0 583.918125 \n",
       "L 750.046154 583.918125 \n",
       "L 750.046154 0 \n",
       "L 0 0 \n",
       "z\n",
       "\" style=\"fill: #ffffff\"/>\n",
       "  </g>\n",
       "  <g id=\"axes_1\">\n",
       "   <g clip-path=\"url(#p1d988ffc32)\">\n",
       "    <image xlink:href=\"data:image/png;base64,\n",
       "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\" id=\"imageddc6e2d780\" transform=\"scale(1 -1) translate(0 -554.4)\" x=\"7.2\" y=\"-22.318125\" width=\"735.84\" height=\"554.4\"/>\n",
       "   </g>\n",
       "   <g id=\"text_1\">\n",
       "    <!-- Generations -->\n",
       "    <g style=\"fill: #262626\" transform=\"translate(338.425889 16.318125) scale(0.12 -0.12)\">\n",
       "     <defs>\n",
       "      <path id=\"DejaVuSans-47\" d=\"M 3809 666 \n",
       "L 3809 1919 \n",
       "L 2778 1919 \n",
       "L 2778 2438 \n",
       "L 4434 2438 \n",
       "L 4434 434 \n",
       "Q 4069 175 3628 42 \n",
       "Q 3188 -91 2688 -91 \n",
       "Q 1594 -91 976 548 \n",
       "Q 359 1188 359 2328 \n",
       "Q 359 3472 976 4111 \n",
       "Q 1594 4750 2688 4750 \n",
       "Q 3144 4750 3555 4637 \n",
       "Q 3966 4525 4313 4306 \n",
       "L 4313 3634 \n",
       "Q 3963 3931 3569 4081 \n",
       "Q 3175 4231 2741 4231 \n",
       "Q 1884 4231 1454 3753 \n",
       "Q 1025 3275 1025 2328 \n",
       "Q 1025 1384 1454 906 \n",
       "Q 1884 428 2741 428 \n",
       "Q 3075 428 3337 486 \n",
       "Q 3600 544 3809 666 \n",
       "z\n",
       "\" transform=\"scale(0.015625)\"/>\n",
       "      <path id=\"DejaVuSans-65\" d=\"M 3597 1894 \n",
       "L 3597 1613 \n",
       "L 953 1613 \n",
       "Q 991 1019 1311 708 \n",
       "Q 1631 397 2203 397 \n",
       "Q 2534 397 2845 478 \n",
       "Q 3156 559 3463 722 \n",
       "L 3463 178 \n",
       "Q 3153 47 2828 -22 \n",
       "Q 2503 -91 2169 -91 \n",
       "Q 1331 -91 842 396 \n",
       "Q 353 884 353 1716 \n",
       "Q 353 2575 817 3079 \n",
       "Q 1281 3584 2069 3584 \n",
       "Q 2775 3584 3186 3129 \n",
       "Q 3597 2675 3597 1894 \n",
       "z\n",
       "M 3022 2063 \n",
       "Q 3016 2534 2758 2815 \n",
       "Q 2500 3097 2075 3097 \n",
       "Q 1594 3097 1305 2825 \n",
       "Q 1016 2553 972 2059 \n",
       "L 3022 2063 \n",
       "z\n",
       "\" transform=\"scale(0.015625)\"/>\n",
       "      <path id=\"DejaVuSans-6e\" d=\"M 3513 2113 \n",
       "L 3513 0 \n",
       "L 2938 0 \n",
       "L 2938 2094 \n",
       "Q 2938 2591 2744 2837 \n",
       "Q 2550 3084 2163 3084 \n",
       "Q 1697 3084 1428 2787 \n",
       "Q 1159 2491 1159 1978 \n",
       "L 1159 0 \n",
       "L 581 0 \n",
       "L 581 3500 \n",
       "L 1159 3500 \n",
       "L 1159 2956 \n",
       "Q 1366 3272 1645 3428 \n",
       "Q 1925 3584 2291 3584 \n",
       "Q 2894 3584 3203 3211 \n",
       "Q 3513 2838 3513 2113 \n",
       "z\n",
       "\" transform=\"scale(0.015625)\"/>\n",
       "      <path id=\"DejaVuSans-72\" d=\"M 2631 2963 \n",
       "Q 2534 3019 2420 3045 \n",
       "Q 2306 3072 2169 3072 \n",
       "Q 1681 3072 1420 2755 \n",
       "Q 1159 2438 1159 1844 \n",
       "L 1159 0 \n",
       "L 581 0 \n",
       "L 581 3500 \n",
       "L 1159 3500 \n",
       "L 1159 2956 \n",
       "Q 1341 3275 1631 3429 \n",
       "Q 1922 3584 2338 3584 \n",
       "Q 2397 3584 2469 3576 \n",
       "Q 2541 3569 2628 3553 \n",
       "L 2631 2963 \n",
       "z\n",
       "\" transform=\"scale(0.015625)\"/>\n",
       "      <path id=\"DejaVuSans-61\" d=\"M 2194 1759 \n",
       "Q 1497 1759 1228 1600 \n",
       "Q 959 1441 959 1056 \n",
       "Q 959 750 1161 570 \n",
       "Q 1363 391 1709 391 \n",
       "Q 2188 391 2477 730 \n",
       "Q 2766 1069 2766 1631 \n",
       "L 2766 1759 \n",
       "L 2194 1759 \n",
       "z\n",
       "M 3341 1997 \n",
       "L 3341 0 \n",
       "L 2766 0 \n",
       "L 2766 531 \n",
       "Q 2569 213 2275 61 \n",
       "Q 1981 -91 1556 -91 \n",
       "Q 1019 -91 701 211 \n",
       "Q 384 513 384 1019 \n",
       "Q 384 1609 779 1909 \n",
       "Q 1175 2209 1959 2209 \n",
       "L 2766 2209 \n",
       "L 2766 2266 \n",
       "Q 2766 2663 2505 2880 \n",
       "Q 2244 3097 1772 3097 \n",
       "Q 1472 3097 1187 3025 \n",
       "Q 903 2953 641 2809 \n",
       "L 641 3341 \n",
       "Q 956 3463 1253 3523 \n",
       "Q 1550 3584 1831 3584 \n",
       "Q 2591 3584 2966 3190 \n",
       "Q 3341 2797 3341 1997 \n",
       "z\n",
       "\" transform=\"scale(0.015625)\"/>\n",
       "      <path id=\"DejaVuSans-74\" d=\"M 1172 4494 \n",
       "L 1172 3500 \n",
       "L 2356 3500 \n",
       "L 2356 3053 \n",
       "L 1172 3053 \n",
       "L 1172 1153 \n",
       "Q 1172 725 1289 603 \n",
       "Q 1406 481 1766 481 \n",
       "L 2356 481 \n",
       "L 2356 0 \n",
       "L 1766 0 \n",
       "Q 1100 0 847 248 \n",
       "Q 594 497 594 1153 \n",
       "L 594 3053 \n",
       "L 172 3053 \n",
       "L 172 3500 \n",
       "L 594 3500 \n",
       "L 594 4494 \n",
       "L 1172 4494 \n",
       "z\n",
       "\" transform=\"scale(0.015625)\"/>\n",
       "      <path id=\"DejaVuSans-69\" d=\"M 603 3500 \n",
       "L 1178 3500 \n",
       "L 1178 0 \n",
       "L 603 0 \n",
       "L 603 3500 \n",
       "z\n",
       "M 603 4863 \n",
       "L 1178 4863 \n",
       "L 1178 4134 \n",
       "L 603 4134 \n",
       "L 603 4863 \n",
       "z\n",
       "\" transform=\"scale(0.015625)\"/>\n",
       "      <path id=\"DejaVuSans-6f\" d=\"M 1959 3097 \n",
       "Q 1497 3097 1228 2736 \n",
       "Q 959 2375 959 1747 \n",
       "Q 959 1119 1226 758 \n",
       "Q 1494 397 1959 397 \n",
       "Q 2419 397 2687 759 \n",
       "Q 2956 1122 2956 1747 \n",
       "Q 2956 2369 2687 2733 \n",
       "Q 2419 3097 1959 3097 \n",
       "z\n",
       "M 1959 3584 \n",
       "Q 2709 3584 3137 3096 \n",
       "Q 3566 2609 3566 1747 \n",
       "Q 3566 888 3137 398 \n",
       "Q 2709 -91 1959 -91 \n",
       "Q 1206 -91 779 398 \n",
       "Q 353 888 353 1747 \n",
       "Q 353 2609 779 3096 \n",
       "Q 1206 3584 1959 3584 \n",
       "z\n",
       "\" transform=\"scale(0.015625)\"/>\n",
       "      <path id=\"DejaVuSans-73\" d=\"M 2834 3397 \n",
       "L 2834 2853 \n",
       "Q 2591 2978 2328 3040 \n",
       "Q 2066 3103 1784 3103 \n",
       "Q 1356 3103 1142 2972 \n",
       "Q 928 2841 928 2578 \n",
       "Q 928 2378 1081 2264 \n",
       "Q 1234 2150 1697 2047 \n",
       "L 1894 2003 \n",
       "Q 2506 1872 2764 1633 \n",
       "Q 3022 1394 3022 966 \n",
       "Q 3022 478 2636 193 \n",
       "Q 2250 -91 1575 -91 \n",
       "Q 1294 -91 989 -36 \n",
       "Q 684 19 347 128 \n",
       "L 347 722 \n",
       "Q 666 556 975 473 \n",
       "Q 1284 391 1588 391 \n",
       "Q 1994 391 2212 530 \n",
       "Q 2431 669 2431 922 \n",
       "Q 2431 1156 2273 1281 \n",
       "Q 2116 1406 1581 1522 \n",
       "L 1381 1569 \n",
       "Q 847 1681 609 1914 \n",
       "Q 372 2147 372 2553 \n",
       "Q 372 3047 722 3315 \n",
       "Q 1072 3584 1716 3584 \n",
       "Q 2034 3584 2315 3537 \n",
       "Q 2597 3491 2834 3397 \n",
       "z\n",
       "\" transform=\"scale(0.015625)\"/>\n",
       "     </defs>\n",
       "     <use xlink:href=\"#DejaVuSans-47\"/>\n",
       "     <use xlink:href=\"#DejaVuSans-65\" x=\"77.490234\"/>\n",
       "     <use xlink:href=\"#DejaVuSans-6e\" x=\"139.013672\"/>\n",
       "     <use xlink:href=\"#DejaVuSans-65\" x=\"202.392578\"/>\n",
       "     <use xlink:href=\"#DejaVuSans-72\" x=\"263.916016\"/>\n",
       "     <use xlink:href=\"#DejaVuSans-61\" x=\"305.029297\"/>\n",
       "     <use xlink:href=\"#DejaVuSans-74\" x=\"366.308594\"/>\n",
       "     <use xlink:href=\"#DejaVuSans-69\" x=\"405.517578\"/>\n",
       "     <use xlink:href=\"#DejaVuSans-6f\" x=\"433.300781\"/>\n",
       "     <use xlink:href=\"#DejaVuSans-6e\" x=\"494.482422\"/>\n",
       "     <use xlink:href=\"#DejaVuSans-73\" x=\"557.861328\"/>\n",
       "    </g>\n",
       "   </g>\n",
       "  </g>\n",
       " </g>\n",
       " <defs>\n",
       "  <clipPath id=\"p1d988ffc32\">\n",
       "   <rect x=\"7.2\" y=\"22.318125\" width=\"735.646154\" height=\"554.4\"/>\n",
       "  </clipPath>\n",
       " </defs>\n",
       "</svg>\n"
      ],
      "text/plain": [
       "<Figure size 1500x1000 with 1 Axes>"
      ]
     },
     "metadata": {},
     "output_type": "display_data"
    }
   ],
   "source": [
    "generate_images(vae, 10, device)"
   ]
  },
  {
   "cell_type": "code",
   "execution_count": null,
   "metadata": {},
   "outputs": [],
   "source": [
    "def im_save(img, path):\n",
    "    img = img / 2 + 0.5     # unnormalize\n",
    "    save_image(img, path)\n",
    "\n",
    "def evaluate_model(model, train_data, encoding: list, train_classes):\n",
    "    train_loader = torch.utils.data.DataLoader(train_data, batch_size=10, shuffle=True, drop_last=True, pin_memory=True, num_workers=4)\n",
    "    images, labels = next(iter(train_loader))\n",
    "    rmd_to_genrate = torch.randn([10, model.latent_dim])\n",
    "    encoded_classes = get_classes_encoded(train_classes, labels, encoding)\n",
    "\n",
    "    classes_to_generate = torch.concat((rmd_to_genrate, encoded_classes), dim=1)\n",
    "    with torch.no_grad():\n",
    "        generated_imgs = model.decoder(classes_to_generate).to(device)\n",
    "    generated_imgs = generated_imgs.cpu()\n",
    "    for i, img in enumerate(generated_imgs):\n",
    "        im_save(img, f'gen_eval/img{i}.jpg')\n",
    "    for i, img in enumerate(images):\n",
    "        im_save(img, f'real_eval/img{i}.jpg')\n",
    "    paths = ['/home/michal/sem6/ssne/ssne/real_eval, /home/michal/sem6/ssne/ssne/gen_eval']\n",
    "    return fid_score.calculate_fid_given_paths(paths, batch_size=200, device='cpu', dims=2048)\n"
   ]
  },
  {
   "cell_type": "code",
   "execution_count": null,
   "metadata": {},
   "outputs": [
    {
     "ename": "RuntimeError",
     "evalue": "Invalid path: /home/michal/sem6/ssne/ssne/real_eval, /home/michal/sem6/ssne/ssne/gen_eval",
     "output_type": "error",
     "traceback": [
      "\u001b[0;31m---------------------------------------------------------------------------\u001b[0m",
      "\u001b[0;31mRuntimeError\u001b[0m                              Traceback (most recent call last)",
      "Cell \u001b[0;32mIn[103], line 1\u001b[0m\n\u001b[0;32m----> 1\u001b[0m \u001b[43mevaluate_model\u001b[49m\u001b[43m(\u001b[49m\u001b[43mvae\u001b[49m\u001b[43m,\u001b[49m\u001b[43m \u001b[49m\u001b[43mtrain_data\u001b[49m\u001b[43m,\u001b[49m\u001b[43m \u001b[49m\u001b[43mencoding\u001b[49m\u001b[43m,\u001b[49m\u001b[43m \u001b[49m\u001b[43mtrain_classes\u001b[49m\u001b[43m)\u001b[49m\n",
      "Cell \u001b[0;32mIn[102], line 20\u001b[0m, in \u001b[0;36mevaluate_model\u001b[0;34m(model, train_data, encoding, train_classes)\u001b[0m\n\u001b[1;32m     18\u001b[0m     im_save(img, \u001b[38;5;124mf\u001b[39m\u001b[38;5;124m'\u001b[39m\u001b[38;5;124mreal_eval/img\u001b[39m\u001b[38;5;132;01m{\u001b[39;00mi\u001b[38;5;132;01m}\u001b[39;00m\u001b[38;5;124m.jpg\u001b[39m\u001b[38;5;124m'\u001b[39m)\n\u001b[1;32m     19\u001b[0m paths \u001b[38;5;241m=\u001b[39m [\u001b[38;5;124m'\u001b[39m\u001b[38;5;124m/home/michal/sem6/ssne/ssne/real_eval, /home/michal/sem6/ssne/ssne/gen_eval\u001b[39m\u001b[38;5;124m'\u001b[39m]\n\u001b[0;32m---> 20\u001b[0m \u001b[38;5;28;01mreturn\u001b[39;00m \u001b[43mfid_score\u001b[49m\u001b[38;5;241;43m.\u001b[39;49m\u001b[43mcalculate_fid_given_paths\u001b[49m\u001b[43m(\u001b[49m\u001b[43mpaths\u001b[49m\u001b[43m,\u001b[49m\u001b[43m \u001b[49m\u001b[43mbatch_size\u001b[49m\u001b[38;5;241;43m=\u001b[39;49m\u001b[38;5;241;43m200\u001b[39;49m\u001b[43m,\u001b[49m\u001b[43m \u001b[49m\u001b[43mdevice\u001b[49m\u001b[38;5;241;43m=\u001b[39;49m\u001b[38;5;124;43m'\u001b[39;49m\u001b[38;5;124;43mcpu\u001b[39;49m\u001b[38;5;124;43m'\u001b[39;49m\u001b[43m,\u001b[49m\u001b[43m \u001b[49m\u001b[43mdims\u001b[49m\u001b[38;5;241;43m=\u001b[39;49m\u001b[38;5;241;43m2048\u001b[39;49m\u001b[43m)\u001b[49m\n",
      "File \u001b[0;32m~/.local/lib/python3.10/site-packages/pytorch_fid/fid_score.py:253\u001b[0m, in \u001b[0;36mcalculate_fid_given_paths\u001b[0;34m(paths, batch_size, device, dims, num_workers)\u001b[0m\n\u001b[1;32m    251\u001b[0m \u001b[38;5;28;01mfor\u001b[39;00m p \u001b[38;5;129;01min\u001b[39;00m paths:\n\u001b[1;32m    252\u001b[0m     \u001b[38;5;28;01mif\u001b[39;00m \u001b[38;5;129;01mnot\u001b[39;00m os\u001b[38;5;241m.\u001b[39mpath\u001b[38;5;241m.\u001b[39mexists(p):\n\u001b[0;32m--> 253\u001b[0m         \u001b[38;5;28;01mraise\u001b[39;00m \u001b[38;5;167;01mRuntimeError\u001b[39;00m(\u001b[38;5;124m'\u001b[39m\u001b[38;5;124mInvalid path: \u001b[39m\u001b[38;5;132;01m%s\u001b[39;00m\u001b[38;5;124m'\u001b[39m \u001b[38;5;241m%\u001b[39m p)\n\u001b[1;32m    255\u001b[0m block_idx \u001b[38;5;241m=\u001b[39m InceptionV3\u001b[38;5;241m.\u001b[39mBLOCK_INDEX_BY_DIM[dims]\n\u001b[1;32m    257\u001b[0m model \u001b[38;5;241m=\u001b[39m InceptionV3([block_idx])\u001b[38;5;241m.\u001b[39mto(device)\n",
      "\u001b[0;31mRuntimeError\u001b[0m: Invalid path: /home/michal/sem6/ssne/ssne/real_eval, /home/michal/sem6/ssne/ssne/gen_eval"
     ]
    }
   ],
   "source": [
    "evaluate_model(vae, train_data, encoding, train_classes)"
   ]
  }
 ],
 "metadata": {
  "colab": {
   "provenance": []
  },
  "kernelspec": {
   "display_name": "Python 3 (ipykernel)",
   "language": "python",
   "name": "python3"
  },
  "language_info": {
   "codemirror_mode": {
    "name": "ipython",
    "version": 3
   },
   "file_extension": ".py",
   "mimetype": "text/x-python",
   "name": "python",
   "nbconvert_exporter": "python",
   "pygments_lexer": "ipython3",
   "version": "3.10.12"
  }
 },
 "nbformat": 4,
 "nbformat_minor": 4
}
