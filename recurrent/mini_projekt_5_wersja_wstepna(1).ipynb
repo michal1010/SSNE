{
 "cells": [
  {
   "cell_type": "markdown",
   "metadata": {},
   "source": [
    "### Potrzebne importy, wstępna konfiguracja"
   ]
  },
  {
   "cell_type": "code",
   "execution_count": 1,
   "metadata": {},
   "outputs": [],
   "source": [
    "import pandas as pd\n",
    "import torch\n",
    "import torch.nn as nn\n",
    "import numpy as np\n",
    "import matplotlib.pyplot as plt\n",
    "from torch.utils.data import DataLoader\n",
    "from collections import Counter\n",
    "\n",
    "from torch.utils.data import Dataset\n",
    "from torch.nn.utils.rnn import pad_sequence, pack_padded_sequence, pad_packed_sequence"
   ]
  },
  {
   "cell_type": "code",
   "execution_count": 2,
   "metadata": {},
   "outputs": [
    {
     "data": {
      "text/plain": [
       "device(type='cpu')"
      ]
     },
     "execution_count": 2,
     "metadata": {},
     "output_type": "execute_result"
    }
   ],
   "source": [
    "device = torch.device('cpu') # torch.device('cpu')\n",
    "device"
   ]
  },
  {
   "cell_type": "code",
   "execution_count": 3,
   "metadata": {},
   "outputs": [],
   "source": [
    "rng = np.random.default_rng(73512)"
   ]
  },
  {
   "cell_type": "markdown",
   "metadata": {},
   "source": [
    "### Przygotowanie danych (wraz z paddingiem)"
   ]
  },
  {
   "cell_type": "code",
   "execution_count": 4,
   "metadata": {},
   "outputs": [],
   "source": [
    "train_data = pd.read_pickle('train.pkl')\n",
    "test_data = pd.read_pickle('test_no_target.pkl')"
   ]
  },
  {
   "cell_type": "code",
   "execution_count": 5,
   "metadata": {},
   "outputs": [],
   "source": [
    "# train_data.head()"
   ]
  },
  {
   "cell_type": "code",
   "execution_count": 6,
   "metadata": {},
   "outputs": [],
   "source": [
    "# all_elements = []\n",
    "# for i in train_data:\n",
    "#     for j in i[0]:\n",
    "#         all_elements.append(j)\n",
    "# elements_count = Counter(all_elements)\n",
    "# print(elements_count)\n",
    "# # df = pd.DataFrame.from_dict(elements_count, orient=\"index\")\n",
    "# df.plot(kind=\"bar\")"
   ]
  },
  {
   "cell_type": "code",
   "execution_count": 7,
   "metadata": {},
   "outputs": [],
   "source": [
    "# train_data.loc[:, 0].to_numpy()"
   ]
  },
  {
   "cell_type": "code",
   "execution_count": 8,
   "metadata": {},
   "outputs": [],
   "source": [
    "# print(f\"Minimalna wartość wśród danych: {min(all_elements)}\")\n",
    "# print(f\"Maksymalna wartość wśród danych: {max(all_elements)}\")"
   ]
  },
  {
   "cell_type": "code",
   "execution_count": 62,
   "metadata": {},
   "outputs": [],
   "source": [
    "class VariableLenDataset(Dataset):\n",
    "    def __init__(self, in_data, target):\n",
    "        self.data = [(torch.Tensor(x).float(), torch.tensor(y).long()) for x, y in zip(in_data, target)]\n",
    "\n",
    "    def __len__(self):\n",
    "        return len(self.data)\n",
    "\n",
    "    def __getitem__(self, idx):\n",
    "        in_data, target = self.data[idx]\n",
    "        return in_data, target\n",
    "\n",
    "    def __print__(self):\n",
    "        print(self.data)"
   ]
  },
  {
   "cell_type": "code",
   "execution_count": 63,
   "metadata": {},
   "outputs": [],
   "source": [
    "data = [i[0] for i in train_data]\n",
    "classes = [i[1] for i in train_data]"
   ]
  },
  {
   "cell_type": "code",
   "execution_count": 64,
   "metadata": {},
   "outputs": [
    {
     "data": {
      "text/plain": [
       "1630"
      ]
     },
     "execution_count": 64,
     "metadata": {},
     "output_type": "execute_result"
    }
   ],
   "source": [
    "len([i for i in classes if i == 0])"
   ]
  },
  {
   "cell_type": "code",
   "execution_count": 65,
   "metadata": {},
   "outputs": [
    {
     "data": {
      "text/plain": [
       "array([ True,  True, False, ..., False,  True,  True])"
      ]
     },
     "execution_count": 65,
     "metadata": {},
     "output_type": "execute_result"
    }
   ],
   "source": [
    "train_indices = rng.random(len(data)) > 0.3\n",
    "train_indices"
   ]
  },
  {
   "cell_type": "code",
   "execution_count": 66,
   "metadata": {},
   "outputs": [
    {
     "data": {
      "text/plain": [
       "(tensor([ -1.,  -1., 144.,  ...,  32.,  -1.,  -1.]), tensor(0))"
      ]
     },
     "execution_count": 66,
     "metadata": {},
     "output_type": "execute_result"
    }
   ],
   "source": [
    "train_set = VariableLenDataset([ x for i, x in enumerate(data) if train_indices[i]],\n",
    "                               [ x for i, x in enumerate(classes) if train_indices[i]])\n",
    "valid_set = VariableLenDataset([ x for i, x in enumerate(data) if not train_indices[i]],\n",
    "                               [ x for i, x in enumerate(classes) if not train_indices[i]])\n",
    "# train_set.__print__()\n",
    "train_set.__getitem__(1)"
   ]
  },
  {
   "cell_type": "code",
   "execution_count": 67,
   "metadata": {},
   "outputs": [],
   "source": [
    "pad = -2\n",
    "\n",
    "def pad_collate(batch, pad_value=pad):\n",
    "\n",
    "    xx, yy = zip(*batch)\n",
    "    x_lens = [len(x) for x in xx]\n",
    "    # y_lens = [len(y) for y in yy]\n",
    "    xx_pad = pad_sequence(xx, batch_first=True, padding_value=pad_value)\n",
    "    # yy_pad = pad_sequence(yy, batch_first=True, padding_value=pad_value)\n",
    "    yy_tensor = torch.stack(yy)\n",
    "\n",
    "    return xx_pad, yy_tensor, x_lens"
   ]
  },
  {
   "cell_type": "code",
   "execution_count": 68,
   "metadata": {},
   "outputs": [],
   "source": [
    "train_loader = DataLoader(train_set, batch_size=64, shuffle=True, collate_fn=pad_collate)\n",
    "valid_loader = DataLoader(valid_set, batch_size=64, shuffle=True, collate_fn=pad_collate)"
   ]
  },
  {
   "cell_type": "code",
   "execution_count": 69,
   "metadata": {},
   "outputs": [
    {
     "name": "stdout",
     "output_type": "stream",
     "text": [
      "(tensor(3), tensor(0), tensor(0), tensor(0), tensor(4), tensor(3), tensor(0), tensor(0), tensor(2), tensor(1), tensor(4), tensor(4), tensor(0), tensor(0), tensor(3), tensor(3), tensor(0), tensor(0), tensor(0), tensor(4), tensor(0), tensor(0), tensor(0), tensor(3), tensor(3), tensor(0), tensor(0), tensor(0), tensor(4), tensor(0), tensor(0), tensor(3), tensor(0), tensor(1), tensor(0), tensor(0), tensor(0), tensor(0), tensor(3), tensor(0), tensor(3), tensor(1), tensor(1), tensor(2), tensor(1), tensor(0), tensor(1), tensor(0), tensor(3), tensor(1), tensor(0), tensor(0), tensor(2), tensor(0), tensor(1), tensor(0), tensor(1), tensor(2), tensor(2), tensor(0), tensor(0), tensor(4), tensor(0), tensor(0))\n"
     ]
    },
    {
     "data": {
      "text/plain": [
       "(tensor([[ 32.,  32.,  97.,  ...,  -2.,  -2.,  -2.],\n",
       "         [ 66., 132.,   3.,  ...,  -2.,  -2.,  -2.],\n",
       "         [144.,  50., 111.,  ...,  -2.,  -2.,  -2.],\n",
       "         ...,\n",
       "         [112., 179.,  66.,  ...,  -2.,  -2.,  -2.],\n",
       "         [144., 144., 144.,  ...,  -2.,  -2.,  -2.],\n",
       "         [  0.,   0.,   1.,  ...,  -2.,  -2.,  -2.]]),\n",
       " tensor([3, 0, 0, 0, 4, 3, 0, 0, 2, 1, 4, 4, 0, 0, 3, 3, 0, 0, 0, 4, 0, 0, 0, 3,\n",
       "         3, 0, 0, 0, 4, 0, 0, 3, 0, 1, 0, 0, 0, 0, 3, 0, 3, 1, 1, 2, 1, 0, 1, 0,\n",
       "         3, 1, 0, 0, 2, 0, 1, 0, 1, 2, 2, 0, 0, 4, 0, 0]),\n",
       " [345,\n",
       "  2091,\n",
       "  104,\n",
       "  874,\n",
       "  600,\n",
       "  102,\n",
       "  1286,\n",
       "  1149,\n",
       "  889,\n",
       "  2329,\n",
       "  44,\n",
       "  248,\n",
       "  292,\n",
       "  90,\n",
       "  354,\n",
       "  159,\n",
       "  68,\n",
       "  627,\n",
       "  360,\n",
       "  252,\n",
       "  956,\n",
       "  40,\n",
       "  531,\n",
       "  225,\n",
       "  270,\n",
       "  96,\n",
       "  384,\n",
       "  55,\n",
       "  652,\n",
       "  196,\n",
       "  184,\n",
       "  294,\n",
       "  472,\n",
       "  1116,\n",
       "  632,\n",
       "  367,\n",
       "  756,\n",
       "  44,\n",
       "  330,\n",
       "  186,\n",
       "  390,\n",
       "  156,\n",
       "  794,\n",
       "  228,\n",
       "  3323,\n",
       "  80,\n",
       "  13,\n",
       "  621,\n",
       "  267,\n",
       "  136,\n",
       "  195,\n",
       "  387,\n",
       "  100,\n",
       "  364,\n",
       "  1230,\n",
       "  824,\n",
       "  22,\n",
       "  612,\n",
       "  338,\n",
       "  198,\n",
       "  200,\n",
       "  232,\n",
       "  336,\n",
       "  212])"
      ]
     },
     "execution_count": 69,
     "metadata": {},
     "output_type": "execute_result"
    }
   ],
   "source": [
    "next(iter(train_loader))"
   ]
  },
  {
   "cell_type": "markdown",
   "metadata": {},
   "source": [
    "### Model (wstępny)"
   ]
  },
  {
   "cell_type": "code",
   "execution_count": 70,
   "metadata": {},
   "outputs": [
    {
     "data": {
      "text/plain": [
       "LSTM_Seq_Regressor(\n",
       "  (lstm): LSTM(1, 20, proj_size=5)\n",
       "  (fc2): Linear(in_features=20, out_features=5, bias=True)\n",
       ")"
      ]
     },
     "execution_count": 70,
     "metadata": {},
     "output_type": "execute_result"
    }
   ],
   "source": [
    "class LSTM_Seq_Regressor(nn.Module):\n",
    "\n",
    "    def __init__(self, input_size, hidden_size, num_layers, out_size):\n",
    "        super().__init__()\n",
    "        self.num_layers = num_layers\n",
    "        self.hidden_size = hidden_size\n",
    "        self.proj_size = out_size\n",
    "        self.lstm = nn.LSTM(input_size = input_size, hidden_size = hidden_size, num_layers = num_layers, proj_size = out_size)\n",
    "        # self.fc1 = nn.Linear(hidden_size, 16)\n",
    "        self.fc2 = nn.Linear(hidden_size, out_size)\n",
    "\n",
    "    def init_hidden(self, batch_size):\n",
    "        hidden = torch.zeros(self.num_layers, batch_size, self.proj_size)\n",
    "        state = torch.zeros(self.num_layers, batch_size, self.hidden_size)\n",
    "        return hidden, state\n",
    "\n",
    "    def forward(self, x, hidden):\n",
    "        # x = torch.transpose(x, 0, 1)\n",
    "        all_outputs, hidden = self.lstm(x, hidden)\n",
    "        # all_outputs = torch.transpose(all_outputs, 0, 1)\n",
    "        # out = torch.flatten(all_outputs, 1)\n",
    "        # x = self.fc2(out)\n",
    "        return all_outputs, hidden\n",
    "\n",
    "model = LSTM_Seq_Regressor(1, 20, 1, 5).to(device)\n",
    "model"
   ]
  },
  {
   "cell_type": "code",
   "execution_count": 71,
   "metadata": {},
   "outputs": [],
   "source": [
    "def eval(loader, net):\n",
    "\n",
    "    correct_pred = 0\n",
    "    total_pred = 0\n",
    "    net.eval()\n",
    "\n",
    "    with torch.no_grad():\n",
    "        for x, targets, x_len, target_len in loader:\n",
    "            # images = images.to(device)\n",
    "\n",
    "            hidden, state = model.init_hidden(x.size(0))\n",
    "            hidden, state = hidden.to(device), state.to(device)\n",
    "\n",
    "            x_packed = pack_padded_sequence(x, x_len, batch_first=True, enforce_sorted=False)\n",
    "            preds_packed, _ = model(x_packed, (hidden, state))\n",
    "            preds, pred_len = pad_packed_sequence(preds_packed, batch_first=True, padding_value=pad)\n",
    "\n",
    "            preds = preds.squeeze(2)\n",
    "            last_outputs = []\n",
    "            for i, length in enumerate(pred_len):\n",
    "                last_outputs.append(preds[i, length -1 , :])\n",
    "            last_outputs = torch.stack(last_outputs)\n",
    "            _, predictions = torch.max(last_outputs, 1)\n",
    "            # collect the correct predictions for each class\n",
    "            for label, prediction in zip(targets, predictions):\n",
    "                if label == prediction:\n",
    "                    correct_pred += 1\n",
    "                total_pred += 1\n",
    "    return correct_pred/total_pred\n"
   ]
  },
  {
   "cell_type": "code",
   "execution_count": 72,
   "metadata": {},
   "outputs": [
    {
     "name": "stdout",
     "output_type": "stream",
     "text": [
      "(tensor(1), tensor(1), tensor(2), tensor(1), tensor(2), tensor(0), tensor(3), tensor(0), tensor(3), tensor(4), tensor(0), tensor(1), tensor(0), tensor(0), tensor(0), tensor(1), tensor(0), tensor(0), tensor(3), tensor(0), tensor(3), tensor(4), tensor(4), tensor(0), tensor(0), tensor(1), tensor(3), tensor(0), tensor(1), tensor(3), tensor(1), tensor(2), tensor(0), tensor(0), tensor(0), tensor(0), tensor(2), tensor(1), tensor(3), tensor(1), tensor(3), tensor(1), tensor(3), tensor(0), tensor(0), tensor(0), tensor(0), tensor(0), tensor(0), tensor(4), tensor(0), tensor(0), tensor(0), tensor(3), tensor(3), tensor(0), tensor(3), tensor(0), tensor(2), tensor(0), tensor(1), tensor(0), tensor(3), tensor(0))\n",
      "(tensor(3), tensor(0), tensor(1), tensor(0), tensor(3), tensor(0), tensor(1), tensor(0), tensor(0), tensor(0), tensor(1), tensor(0), tensor(3), tensor(0), tensor(3), tensor(0), tensor(3), tensor(0), tensor(0), tensor(0), tensor(3), tensor(2), tensor(4), tensor(1), tensor(1), tensor(1), tensor(1), tensor(0), tensor(0), tensor(3), tensor(3), tensor(0), tensor(0), tensor(0), tensor(4), tensor(3), tensor(3), tensor(1), tensor(3), tensor(0), tensor(2), tensor(0), tensor(0), tensor(0), tensor(1), tensor(0), tensor(2), tensor(1), tensor(4), tensor(0), tensor(0), tensor(0), tensor(0), tensor(0), tensor(0), tensor(4), tensor(3), tensor(3), tensor(3), tensor(3), tensor(0), tensor(3), tensor(0), tensor(0))\n",
      "(tensor(0), tensor(1), tensor(0), tensor(3), tensor(0), tensor(3), tensor(1), tensor(0), tensor(0), tensor(2), tensor(0), tensor(3), tensor(1), tensor(1), tensor(4), tensor(3), tensor(0), tensor(0), tensor(1), tensor(1), tensor(3), tensor(1), tensor(1), tensor(0), tensor(0), tensor(0), tensor(4), tensor(3), tensor(1), tensor(3), tensor(1), tensor(0), tensor(2), tensor(0), tensor(4), tensor(1), tensor(4), tensor(3), tensor(3), tensor(0), tensor(0), tensor(0), tensor(0), tensor(0), tensor(1), tensor(0), tensor(3), tensor(0), tensor(0), tensor(0), tensor(0), tensor(2), tensor(0), tensor(0), tensor(0), tensor(1), tensor(1), tensor(2), tensor(4), tensor(0), tensor(0), tensor(0), tensor(3), tensor(0))\n",
      "(tensor(0), tensor(0), tensor(0), tensor(0), tensor(1), tensor(0), tensor(0), tensor(0), tensor(0), tensor(2), tensor(1), tensor(0), tensor(2), tensor(3), tensor(1), tensor(0), tensor(2), tensor(1), tensor(0), tensor(0), tensor(0), tensor(2), tensor(3), tensor(0), tensor(3), tensor(4), tensor(0), tensor(3), tensor(1), tensor(0), tensor(3), tensor(0), tensor(1), tensor(3), tensor(0), tensor(3), tensor(3), tensor(1), tensor(0), tensor(0), tensor(3), tensor(3), tensor(0), tensor(4), tensor(0), tensor(0), tensor(0), tensor(3), tensor(0), tensor(1), tensor(0), tensor(1), tensor(0), tensor(0), tensor(0), tensor(0), tensor(0), tensor(0), tensor(0), tensor(0), tensor(0), tensor(4), tensor(0), tensor(0))\n",
      "(tensor(0), tensor(1), tensor(0), tensor(2), tensor(0), tensor(0), tensor(0), tensor(0), tensor(3), tensor(0), tensor(2), tensor(4), tensor(0), tensor(0), tensor(3), tensor(4), tensor(0), tensor(0), tensor(0), tensor(1), tensor(4), tensor(0), tensor(3), tensor(1), tensor(0), tensor(0), tensor(3), tensor(0), tensor(0), tensor(3), tensor(0), tensor(0), tensor(1), tensor(0), tensor(4), tensor(1), tensor(0), tensor(3), tensor(0), tensor(0), tensor(0), tensor(0), tensor(0), tensor(0), tensor(0), tensor(4), tensor(3), tensor(0), tensor(0), tensor(0), tensor(0), tensor(0), tensor(0), tensor(0), tensor(1), tensor(1), tensor(0), tensor(0), tensor(0), tensor(1), tensor(1), tensor(2), tensor(0), tensor(0))\n",
      "(tensor(2), tensor(0), tensor(0), tensor(3), tensor(0), tensor(3), tensor(0), tensor(1), tensor(0), tensor(0), tensor(3), tensor(4), tensor(0), tensor(2), tensor(0), tensor(4), tensor(4), tensor(1), tensor(1), tensor(2), tensor(3), tensor(3), tensor(1), tensor(3), tensor(3), tensor(0), tensor(0), tensor(4), tensor(0), tensor(0), tensor(0), tensor(0), tensor(0), tensor(0), tensor(0), tensor(4), tensor(0), tensor(4), tensor(0), tensor(3), tensor(0), tensor(4), tensor(0), tensor(1), tensor(0), tensor(0), tensor(0), tensor(0), tensor(0), tensor(4), tensor(0), tensor(1), tensor(0), tensor(0), tensor(1), tensor(1), tensor(1), tensor(0), tensor(3), tensor(0), tensor(0), tensor(1), tensor(0), tensor(4))\n"
     ]
    }
   ],
   "source": [
    "optimizer = torch.optim.Adam(model.parameters(), lr=0.001)\n",
    "loss_fun = nn.CrossEntropyLoss()\n",
    "\n",
    "# Training loop\n",
    "for epoch in range(101):\n",
    "    for x, targets, x_len in train_loader:\n",
    "        # print(f\"Trening: {x} oraz {targets}\")\n",
    "        x = x.to(device).unsqueeze(2)\n",
    "        targets = targets.to(device)\n",
    "\n",
    "        hidden, state = model.init_hidden(x.size(0))\n",
    "        hidden, state = hidden.to(device), state.to(device)\n",
    "\n",
    "        x_packed = pack_padded_sequence(x, x_len, batch_first=True, enforce_sorted=False)\n",
    "        preds_packed, _ = model(x_packed, (hidden, state))\n",
    "        preds, pred_len = pad_packed_sequence(preds_packed, batch_first=True, padding_value=pad)\n",
    "\n",
    "        preds = preds.squeeze(2)\n",
    "        last_outputs = []\n",
    "        for i, length in enumerate(pred_len):\n",
    "            last_outputs.append(preds[i, length -1 , :])\n",
    "        last_outputs = torch.stack(last_outputs)\n",
    "        optimizer.zero_grad()\n",
    "        # mask = targets != pad\n",
    "        # print(mask)\n",
    "        loss = loss_fun(last_outputs, targets)\n",
    "        loss.backward()\n",
    "        optimizer.step()\n",
    "    # if epoch % 10 == 0:\n",
    "    print(f\"Epoch: {epoch}, loss: {loss.item():.3}\")\n",
    "    print(f'Accuracy {eval(valid_loader, model)}')"
   ]
  },
  {
   "cell_type": "code",
   "execution_count": null,
   "metadata": {},
   "outputs": [],
   "source": [
    "with torch.no_grad():\n",
    "    hidden, state = model.init_hidden(len(test_data))\n",
    "    hidden, state = hidden.to(device), state.to(device)\n",
    "    preds,_ =  model(test_data.to(device).unsqueeze(2), (hidden,state))\n",
    "print(f\"Accuracy: {(torch.argmax(preds,1).cpu()==test_targets).sum().item()/len(test_targets):.3}\")"
   ]
  },
  {
   "cell_type": "markdown",
   "metadata": {},
   "source": [
    "### Model (do poprawy)"
   ]
  },
  {
   "cell_type": "code",
   "execution_count": null,
   "metadata": {},
   "outputs": [
    {
     "data": {
      "text/plain": [
       "LSTMRegressor(\n",
       "  (lstm): LSTM(1, 5, num_layers=2, dropout=0.4)\n",
       "  (fc): Linear(in_features=250, out_features=1, bias=True)\n",
       ")"
      ]
     },
     "execution_count": 20,
     "metadata": {},
     "output_type": "execute_result"
    }
   ],
   "source": [
    "num_of_columns_without_classes = 50\n",
    "\n",
    "class LSTMRegressor(nn.Module):\n",
    "\n",
    "    def __init__(self, input_size, hidden_size, num_layers, out_size, bidirectional = False):\n",
    "        super().__init__()\n",
    "        self.num_layers = num_layers\n",
    "        self.hidden_size = hidden_size\n",
    "        if bidirectional:\n",
    "            self.bidirectional = 2\n",
    "        else:\n",
    "            self.bidirectional = 1\n",
    "        self.lstm = nn.LSTM(input_size = input_size, hidden_size = hidden_size, num_layers = num_layers, bidirectional=bidirectional, dropout=0.4)\n",
    "        self.fc = nn.Linear(hidden_size*num_of_columns_without_classes*self.bidirectional, out_size)\n",
    "\n",
    "    def init_hidden(self, batch_size):\n",
    "        hidden = torch.zeros(self.num_layers*self.bidirectional , batch_size, self.hidden_size)\n",
    "        state = torch.zeros(self.num_layers*self.bidirectional , batch_size, self.hidden_size)\n",
    "        return hidden, state\n",
    "\n",
    "    def forward(self, x, hidden):\n",
    "        x = torch.transpose(x,0,1)\n",
    "        all_outputs, hidden = self.lstm(x, hidden)\n",
    "        all_outputs = torch.transpose(all_outputs,0,1)\n",
    "        out = torch.flatten(all_outputs,1)\n",
    "        x = self.fc(out)\n",
    "        return x, hidden\n",
    "\n",
    "model = LSTMRegressor(1,5,2,1).to(device)\n",
    "model"
   ]
  },
  {
   "cell_type": "code",
   "execution_count": null,
   "metadata": {},
   "outputs": [
    {
     "ename": "ValueError",
     "evalue": "too many values to unpack (expected 2)",
     "output_type": "error",
     "traceback": [
      "\u001b[0;31m---------------------------------------------------------------------------\u001b[0m",
      "\u001b[0;31mValueError\u001b[0m                                Traceback (most recent call last)",
      "Cell \u001b[0;32mIn[21], line 6\u001b[0m\n\u001b[1;32m      4\u001b[0m \u001b[38;5;66;03m# Training loop\u001b[39;00m\n\u001b[1;32m      5\u001b[0m \u001b[38;5;28;01mfor\u001b[39;00m epoch \u001b[38;5;129;01min\u001b[39;00m \u001b[38;5;28mrange\u001b[39m(\u001b[38;5;241m101\u001b[39m):\n\u001b[0;32m----> 6\u001b[0m     \u001b[38;5;28;01mfor\u001b[39;00m x, targets \u001b[38;5;129;01min\u001b[39;00m train_loader:\n\u001b[1;32m      7\u001b[0m         \u001b[38;5;28mprint\u001b[39m(\u001b[38;5;124mf\u001b[39m\u001b[38;5;124m\"\u001b[39m\u001b[38;5;124mAAA: \u001b[39m\u001b[38;5;132;01m{\u001b[39;00m\u001b[38;5;28mtype\u001b[39m(targets)\u001b[38;5;132;01m}\u001b[39;00m\u001b[38;5;124m\"\u001b[39m)\n\u001b[1;32m      8\u001b[0m         x \u001b[38;5;241m=\u001b[39m x\u001b[38;5;241m.\u001b[39mto(device)\u001b[38;5;241m.\u001b[39munsqueeze(\u001b[38;5;241m2\u001b[39m)\n",
      "\u001b[0;31mValueError\u001b[0m: too many values to unpack (expected 2)"
     ]
    }
   ],
   "source": [
    "optimizer = torch.optim.Adam(model.parameters(), lr = 0.001)\n",
    "loss_fun = nn.CrossEntropyLoss()\n",
    "\n",
    "# Training loop\n",
    "for epoch in range(101):\n",
    "    for x, targets in train_loader:\n",
    "        print(f\"AAA: {type(targets)}\")\n",
    "        x = x.to(device).unsqueeze(2)\n",
    "#         x = x.unsqueeze(2)\n",
    "        targets = targets.to(device)\n",
    "        hidden, state = model.init_hidden(x.size(0))\n",
    "        hidden, state = hidden.to(device), state.to(device)\n",
    "        preds, _ = model(x, (hidden,state))\n",
    "        preds = preds.squeeze(1)\n",
    "        optimizer.zero_grad()\n",
    "        loss = loss_fun(preds, targets)\n",
    "        loss.backward()\n",
    "        optimizer.step()\n",
    "    if epoch % 10 == 0:\n",
    "        print(f\"Epoch: {epoch}, loss: {loss.item():.3}\")"
   ]
  },
  {
   "cell_type": "code",
   "execution_count": null,
   "metadata": {},
   "outputs": [],
   "source": [
    "# with torch.no_grad():\n",
    "#     hidden, state = model.init_hidden(len(test_data))\n",
    "#     hidden, state = hidden.to(device), state.to(device)\n",
    "#     preds,_ =  model(test_data.to(device).unsqueeze(2), (hidden,state))\n",
    "# print(f\"Accuracy: {(torch.argmax(preds,1).cpu()==test_targets).sum().item()/len(test_targets):.3}\")"
   ]
  }
 ],
 "metadata": {
  "kernelspec": {
   "display_name": "Python 3",
   "language": "python",
   "name": "python3"
  },
  "language_info": {
   "codemirror_mode": {
    "name": "ipython",
    "version": 3
   },
   "file_extension": ".py",
   "mimetype": "text/x-python",
   "name": "python",
   "nbconvert_exporter": "python",
   "pygments_lexer": "ipython3",
   "version": "3.10.12"
  }
 },
 "nbformat": 4,
 "nbformat_minor": 2
}
